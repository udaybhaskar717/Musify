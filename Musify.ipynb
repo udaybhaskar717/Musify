{
  "nbformat": 4,
  "nbformat_minor": 0,
  "metadata": {
    "colab": {
      "name": "Musify.ipynb",
      "provenance": [],
      "authorship_tag": "ABX9TyM90KIJNNtiCz4Rpq475/w7",
      "include_colab_link": true
    },
    "kernelspec": {
      "name": "python3",
      "display_name": "Python 3"
    },
    "language_info": {
      "name": "python"
    },
    "accelerator": "GPU",
    "gpuClass": "standard"
  },
  "cells": [
    {
      "cell_type": "markdown",
      "metadata": {
        "id": "view-in-github",
        "colab_type": "text"
      },
      "source": [
        "<a href=\"https://colab.research.google.com/github/udaybhaskar717/Musify/blob/main/Musify.ipynb\" target=\"_parent\"><img src=\"https://colab.research.google.com/assets/colab-badge.svg\" alt=\"Open In Colab\"/></a>"
      ]
    },
    {
      "cell_type": "code",
      "source": [
        "! unzip '/content/OneDrive_2022-07-04.zip'"
      ],
      "metadata": {
        "id": "ftj4YdSFEm9O"
      },
      "execution_count": null,
      "outputs": []
    },
    {
      "cell_type": "markdown",
      "source": [
        "# Importing"
      ],
      "metadata": {
        "id": "uH0-xf4rBrlg"
      }
    },
    {
      "cell_type": "code",
      "execution_count": null,
      "metadata": {
        "id": "N_Yu4Zp6AiFz"
      },
      "outputs": [],
      "source": [
        "from music21 import *\n",
        "import glob\n",
        "from tqdm import tqdm\n",
        "import numpy as np\n",
        "import random\n",
        "import matplotlib.pyplot as plt\n",
        "import seaborn as sns\n",
        "\n",
        "from sklearn.model_selection import train_test_split"
      ]
    },
    {
      "cell_type": "code",
      "source": [
        "import torch\n",
        "import torch.nn as nn\n",
        "import torch.optim as optim\n",
        "import os"
      ],
      "metadata": {
        "id": "uhGmepG1Avxe"
      },
      "execution_count": null,
      "outputs": []
    },
    {
      "cell_type": "code",
      "source": [
        "from tensorflow.keras.layers import LSTM,Dense,Input,Dropout\n",
        "from tensorflow.keras.models import Sequential,Model,load_model "
      ],
      "metadata": {
        "id": "rFH6sc8BDAKf"
      },
      "execution_count": null,
      "outputs": []
    },
    {
      "cell_type": "code",
      "source": [
        "import tensorflow as tf\n"
      ],
      "metadata": {
        "id": "oFevXH8wDFks"
      },
      "execution_count": null,
      "outputs": []
    },
    {
      "cell_type": "markdown",
      "source": [
        "# Data Preparation"
      ],
      "metadata": {
        "id": "k1p4DHf3CHQ4"
      }
    },
    {
      "cell_type": "code",
      "source": [
        "def read_files(file):\n",
        "    notes=[]\n",
        "    notes_to_parse=None\n",
        "    #parse the midi file\n",
        "    midi=converter.parse(file)\n",
        "    #seperate all instruments from the file\n",
        "    instrmt=instrument.partitionByInstrument(midi)\n",
        "    for part in instrmt.parts:\n",
        "        #fetch data only of Piano instrument\n",
        "        if 'Piano' in str(part):\n",
        "            notes_to_parse=part.recurse()\n",
        "            for element in notes_to_parse:\n",
        "                if type(element)==note.Note:\n",
        "                    notes.append(str(element.pitch))\n",
        "                elif type(element)==chord.Chord:\n",
        "                    notes.append('.'.join(str(n) for n in element.normalOrder))\n",
        "    return notes\n",
        "#retrieve paths recursively from inside the directories/files\n",
        "file_path=['schubert'] \n",
        "all_files=glob.glob('/content/All Midi Files/'+file_path[0]+'/*.mid',recursive=True)\n",
        "notes_array = np.array([read_files(i) for i in all_files])"
      ],
      "metadata": {
        "colab": {
          "base_uri": "https://localhost:8080/"
        },
        "id": "Zh27WPzUCJJL",
        "outputId": "c2caf3b7-00fc-4c41-994d-592c9f97d1d8"
      },
      "execution_count": null,
      "outputs": [
        {
          "output_type": "stream",
          "name": "stderr",
          "text": [
            "/usr/local/lib/python3.7/dist-packages/ipykernel_launcher.py:21: VisibleDeprecationWarning: Creating an ndarray from ragged nested sequences (which is a list-or-tuple of lists-or-tuples-or ndarrays with different lengths or shapes) is deprecated. If you meant to do this, you must specify 'dtype=object' when creating the ndarray.\n"
          ]
        }
      ]
    },
    {
      "cell_type": "code",
      "source": [
        "#unique notes\n",
        "notess = sum(notes_array,[]) \n",
        "unique_notes = list(set(notess))\n",
        "print(\"Unique Notes:\",len(unique_notes))\n",
        "\n",
        "#notes with their frequency\n",
        "freq=dict(map(lambda x: (x,notess.count(x)),unique_notes))\n",
        "\n",
        "#get the threshold frequency\n",
        "print(\"\\nFrequency notes\")\n",
        "for i in range(30,100,20):\n",
        "  print(i,\":\",len(list(filter(lambda x:x[1]>=i,freq.items()))))\n",
        "\n",
        "#filter notes greater than threshold i.e. 50\n",
        "freq_notes=dict(filter(lambda x:x[1]>=50,freq.items()))\n",
        "\n",
        "#create new notes using the frequent notes\n",
        "new_notes=[[i for i in j if i in freq_notes] for j in notes_array]\n",
        "\n",
        "#dictionary having key as note index and value as note\n",
        "ind2note=dict(enumerate(freq_notes))\n",
        "\n",
        "#dictionary having key as note and value as note index\n",
        "note2ind=dict(map(reversed,ind2note.items()))"
      ],
      "metadata": {
        "colab": {
          "base_uri": "https://localhost:8080/"
        },
        "id": "7O8dQvr9CJ57",
        "outputId": "3495488d-64bc-4c43-d71d-12406e676d32"
      },
      "execution_count": null,
      "outputs": [
        {
          "output_type": "stream",
          "name": "stdout",
          "text": [
            "Unique Notes: 304\n",
            "\n",
            "Frequency notes\n",
            "30 : 189\n",
            "50 : 167\n",
            "70 : 146\n",
            "90 : 137\n"
          ]
        }
      ]
    },
    {
      "cell_type": "code",
      "source": [
        "timesteps=50\n",
        "\n",
        "#store values of input and output\n",
        "x=[] ; y=[]\n",
        "\n",
        "for i in new_notes:\n",
        "  for j in range(0,len(i)-timesteps):\n",
        "    #input will be the current index + timestep\n",
        "    #output will be the next index after timestep\n",
        "    inp=i[j:j+timesteps] ; out=i[j+timesteps]\n",
        "\n",
        "    #append the index value of respective notes \n",
        "    x.append(list(map(lambda x:note2ind[x],inp)))\n",
        "    y.append(note2ind[out])\n",
        "\n",
        "x_new=np.array(x) \n",
        "y_new=np.array(y)"
      ],
      "metadata": {
        "id": "ba2dmtZwCM8T"
      },
      "execution_count": null,
      "outputs": []
    },
    {
      "cell_type": "code",
      "source": [
        "#reshape input and output for the model\n",
        "x_new = np.reshape(x_new,(len(x_new),timesteps,1))\n",
        "y_new = np.reshape(y_new,(-1,1))\n",
        "\n",
        "#split the input and value into training and testing sets\n",
        "#80% for training and 20% for testing sets\n",
        "x_train,x_test,y_train,y_test = train_test_split(x_new,y_new,test_size=0.2,random_state=42)"
      ],
      "metadata": {
        "id": "TNPfGwdFCbzM"
      },
      "execution_count": null,
      "outputs": []
    },
    {
      "cell_type": "code",
      "source": [
        "x_train.shape"
      ],
      "metadata": {
        "colab": {
          "base_uri": "https://localhost:8080/"
        },
        "id": "sjEBsp7tVi0W",
        "outputId": "87d97840-6827-4516-933b-dd53f2a0aa08"
      },
      "execution_count": null,
      "outputs": [
        {
          "output_type": "execute_result",
          "data": {
            "text/plain": [
              "(51170, 50, 1)"
            ]
          },
          "metadata": {},
          "execution_count": 26
        }
      ]
    },
    {
      "cell_type": "markdown",
      "source": [
        "# Model Buiding"
      ],
      "metadata": {
        "id": "Y_XkwC8A_SAQ"
      }
    },
    {
      "cell_type": "code",
      "source": [
        "print(\"Num GPUs Available: \", len(tf.config.experimental.list_physical_devices('GPU')))"
      ],
      "metadata": {
        "colab": {
          "base_uri": "https://localhost:8080/"
        },
        "id": "eml2mPw3C4L6",
        "outputId": "f2fc2f7b-a7b1-4f0a-8ea9-a4f43a9d4e66"
      },
      "execution_count": null,
      "outputs": [
        {
          "output_type": "stream",
          "name": "stdout",
          "text": [
            "Num GPUs Available:  1\n"
          ]
        }
      ]
    },
    {
      "cell_type": "code",
      "source": [
        "import tensorflow as tf"
      ],
      "metadata": {
        "id": "3QyldODlGq7B"
      },
      "execution_count": null,
      "outputs": []
    },
    {
      "cell_type": "code",
      "source": [
        "config = tf.compat.v1.ConfigProto()\n",
        "config.gpu_options.allow_growth=True\n",
        "sess = tf.compat.v1.Session(config=config)"
      ],
      "metadata": {
        "id": "mKi1Cs3hFS63"
      },
      "execution_count": null,
      "outputs": []
    },
    {
      "cell_type": "code",
      "source": [
        "#create the model\n",
        "model = Sequential()\n",
        "#create two stacked LSTM layer with the latent dimension of 256\n",
        "model.add(LSTM(256,return_sequences=True,input_shape=(x_new.shape[1],x_new.shape[2])))\n",
        "model.add(Dropout(0.2))\n",
        "model.add(LSTM(256))\n",
        "model.add(Dropout(0.2))\n",
        "model.add(Dense(256,activation='relu'))\n",
        "\n",
        "#fully connected layer for the output with softmax activation\n",
        "model.add(Dense(len(note2ind),activation='softmax'))\n",
        "model.summary()"
      ],
      "metadata": {
        "colab": {
          "base_uri": "https://localhost:8080/"
        },
        "id": "7nYzb6TyF4rt",
        "outputId": "e6b017d2-445e-4b61-bc11-a667324d94f7"
      },
      "execution_count": null,
      "outputs": [
        {
          "output_type": "stream",
          "name": "stdout",
          "text": [
            "Model: \"sequential_1\"\n",
            "_________________________________________________________________\n",
            " Layer (type)                Output Shape              Param #   \n",
            "=================================================================\n",
            " lstm_2 (LSTM)               (None, 50, 256)           264192    \n",
            "                                                                 \n",
            " dropout_2 (Dropout)         (None, 50, 256)           0         \n",
            "                                                                 \n",
            " lstm_3 (LSTM)               (None, 256)               525312    \n",
            "                                                                 \n",
            " dropout_3 (Dropout)         (None, 256)               0         \n",
            "                                                                 \n",
            " dense_2 (Dense)             (None, 256)               65792     \n",
            "                                                                 \n",
            " dense_3 (Dense)             (None, 167)               42919     \n",
            "                                                                 \n",
            "=================================================================\n",
            "Total params: 898,215\n",
            "Trainable params: 898,215\n",
            "Non-trainable params: 0\n",
            "_________________________________________________________________\n"
          ]
        }
      ]
    },
    {
      "cell_type": "code",
      "source": [
        "#compile the model using Adam optimizer\n",
        "model.compile(loss='sparse_categorical_crossentropy', optimizer='adam',metrics=['accuracy'])\n",
        "\n",
        "#train the model on training sets and validate on testing sets\n",
        "with tf.device('/gpu:0'):\n",
        "    model.fit(\n",
        "        x_train,y_train,\n",
        "        batch_size=128,epochs=80, \n",
        "        validation_data=(x_test,y_test))"
      ],
      "metadata": {
        "colab": {
          "base_uri": "https://localhost:8080/"
        },
        "id": "YvUjxXX9HFIG",
        "outputId": "f4884714-036e-465f-c1ee-5c9635d3c7d4"
      },
      "execution_count": null,
      "outputs": [
        {
          "output_type": "stream",
          "name": "stdout",
          "text": [
            "Epoch 1/80\n",
            "400/400 [==============================] - 12s 22ms/step - loss: 4.6700 - accuracy: 0.0313 - val_loss: 4.5668 - val_accuracy: 0.0409\n",
            "Epoch 2/80\n",
            "400/400 [==============================] - 8s 20ms/step - loss: 4.4762 - accuracy: 0.0524 - val_loss: 4.3806 - val_accuracy: 0.0650\n",
            "Epoch 3/80\n",
            "400/400 [==============================] - 8s 20ms/step - loss: 4.2536 - accuracy: 0.0803 - val_loss: 4.1675 - val_accuracy: 0.0931\n",
            "Epoch 4/80\n",
            "400/400 [==============================] - 8s 20ms/step - loss: 3.9854 - accuracy: 0.1169 - val_loss: 3.9112 - val_accuracy: 0.1255\n",
            "Epoch 5/80\n",
            "400/400 [==============================] - 8s 20ms/step - loss: 3.7238 - accuracy: 0.1513 - val_loss: 3.7054 - val_accuracy: 0.1566\n",
            "Epoch 6/80\n",
            "400/400 [==============================] - 8s 20ms/step - loss: 3.4786 - accuracy: 0.1851 - val_loss: 3.5498 - val_accuracy: 0.1838\n",
            "Epoch 7/80\n",
            "400/400 [==============================] - 9s 21ms/step - loss: 3.2511 - accuracy: 0.2239 - val_loss: 3.3879 - val_accuracy: 0.2129\n",
            "Epoch 8/80\n",
            "400/400 [==============================] - 8s 20ms/step - loss: 3.0653 - accuracy: 0.2547 - val_loss: 3.2874 - val_accuracy: 0.2314\n",
            "Epoch 9/80\n",
            "400/400 [==============================] - 9s 21ms/step - loss: 2.8985 - accuracy: 0.2823 - val_loss: 3.1894 - val_accuracy: 0.2542\n",
            "Epoch 10/80\n",
            "400/400 [==============================] - 8s 20ms/step - loss: 2.7430 - accuracy: 0.3092 - val_loss: 3.1181 - val_accuracy: 0.2666\n",
            "Epoch 11/80\n",
            "400/400 [==============================] - 8s 20ms/step - loss: 2.6105 - accuracy: 0.3329 - val_loss: 3.0343 - val_accuracy: 0.2812\n",
            "Epoch 12/80\n",
            "400/400 [==============================] - 8s 20ms/step - loss: 2.4803 - accuracy: 0.3614 - val_loss: 2.9672 - val_accuracy: 0.3029\n",
            "Epoch 13/80\n",
            "400/400 [==============================] - 8s 20ms/step - loss: 2.3752 - accuracy: 0.3784 - val_loss: 2.9234 - val_accuracy: 0.3089\n",
            "Epoch 14/80\n",
            "400/400 [==============================] - 8s 20ms/step - loss: 2.2740 - accuracy: 0.4005 - val_loss: 2.8777 - val_accuracy: 0.3243\n",
            "Epoch 15/80\n",
            "400/400 [==============================] - 8s 20ms/step - loss: 2.1892 - accuracy: 0.4170 - val_loss: 2.8528 - val_accuracy: 0.3328\n",
            "Epoch 16/80\n",
            "400/400 [==============================] - 8s 20ms/step - loss: 2.0924 - accuracy: 0.4380 - val_loss: 2.7993 - val_accuracy: 0.3469\n",
            "Epoch 17/80\n",
            "400/400 [==============================] - 8s 21ms/step - loss: 2.0214 - accuracy: 0.4534 - val_loss: 2.7847 - val_accuracy: 0.3586\n",
            "Epoch 18/80\n",
            "400/400 [==============================] - 8s 21ms/step - loss: 1.9481 - accuracy: 0.4710 - val_loss: 2.7613 - val_accuracy: 0.3569\n",
            "Epoch 19/80\n",
            "400/400 [==============================] - 8s 20ms/step - loss: 1.8754 - accuracy: 0.4858 - val_loss: 2.7302 - val_accuracy: 0.3761\n",
            "Epoch 20/80\n",
            "400/400 [==============================] - 8s 20ms/step - loss: 1.8171 - accuracy: 0.4974 - val_loss: 2.7241 - val_accuracy: 0.3826\n",
            "Epoch 21/80\n",
            "400/400 [==============================] - 8s 20ms/step - loss: 1.7515 - accuracy: 0.5141 - val_loss: 2.7095 - val_accuracy: 0.3913\n",
            "Epoch 22/80\n",
            "400/400 [==============================] - 8s 20ms/step - loss: 1.6995 - accuracy: 0.5261 - val_loss: 2.6931 - val_accuracy: 0.3936\n",
            "Epoch 23/80\n",
            "400/400 [==============================] - 8s 20ms/step - loss: 1.6571 - accuracy: 0.5355 - val_loss: 2.7065 - val_accuracy: 0.3993\n",
            "Epoch 24/80\n",
            "400/400 [==============================] - 8s 20ms/step - loss: 1.6099 - accuracy: 0.5453 - val_loss: 2.6726 - val_accuracy: 0.4137\n",
            "Epoch 25/80\n",
            "400/400 [==============================] - 8s 20ms/step - loss: 1.5565 - accuracy: 0.5597 - val_loss: 2.6826 - val_accuracy: 0.4205\n",
            "Epoch 26/80\n",
            "400/400 [==============================] - 8s 20ms/step - loss: 1.5103 - accuracy: 0.5719 - val_loss: 2.6846 - val_accuracy: 0.4209\n",
            "Epoch 27/80\n",
            "400/400 [==============================] - 9s 21ms/step - loss: 1.4808 - accuracy: 0.5782 - val_loss: 2.6713 - val_accuracy: 0.4284\n",
            "Epoch 28/80\n",
            "400/400 [==============================] - 8s 20ms/step - loss: 1.4359 - accuracy: 0.5907 - val_loss: 2.6815 - val_accuracy: 0.4291\n",
            "Epoch 29/80\n",
            "400/400 [==============================] - 8s 20ms/step - loss: 1.4025 - accuracy: 0.5951 - val_loss: 2.7024 - val_accuracy: 0.4338\n",
            "Epoch 30/80\n",
            "400/400 [==============================] - 8s 20ms/step - loss: 1.3643 - accuracy: 0.6014 - val_loss: 2.6819 - val_accuracy: 0.4416\n",
            "Epoch 31/80\n",
            "400/400 [==============================] - 8s 20ms/step - loss: 1.3402 - accuracy: 0.6107 - val_loss: 2.6842 - val_accuracy: 0.4481\n",
            "Epoch 32/80\n",
            "400/400 [==============================] - 8s 20ms/step - loss: 1.3057 - accuracy: 0.6194 - val_loss: 2.6806 - val_accuracy: 0.4527\n",
            "Epoch 33/80\n",
            "400/400 [==============================] - 8s 20ms/step - loss: 1.2642 - accuracy: 0.6299 - val_loss: 2.6816 - val_accuracy: 0.4556\n",
            "Epoch 34/80\n",
            "400/400 [==============================] - 8s 20ms/step - loss: 1.2430 - accuracy: 0.6341 - val_loss: 2.6953 - val_accuracy: 0.4564\n",
            "Epoch 35/80\n",
            "400/400 [==============================] - 8s 20ms/step - loss: 1.2210 - accuracy: 0.6403 - val_loss: 2.7072 - val_accuracy: 0.4573\n",
            "Epoch 36/80\n",
            "400/400 [==============================] - 8s 20ms/step - loss: 1.1962 - accuracy: 0.6455 - val_loss: 2.6985 - val_accuracy: 0.4660\n",
            "Epoch 37/80\n",
            "400/400 [==============================] - 8s 20ms/step - loss: 1.1745 - accuracy: 0.6524 - val_loss: 2.7208 - val_accuracy: 0.4670\n",
            "Epoch 38/80\n",
            "400/400 [==============================] - 8s 20ms/step - loss: 1.1501 - accuracy: 0.6577 - val_loss: 2.7261 - val_accuracy: 0.4735\n",
            "Epoch 39/80\n",
            "400/400 [==============================] - 8s 20ms/step - loss: 1.1377 - accuracy: 0.6636 - val_loss: 2.7181 - val_accuracy: 0.4737\n",
            "Epoch 40/80\n",
            "400/400 [==============================] - 8s 20ms/step - loss: 1.1122 - accuracy: 0.6684 - val_loss: 2.7633 - val_accuracy: 0.4776\n",
            "Epoch 41/80\n",
            "400/400 [==============================] - 8s 20ms/step - loss: 1.1014 - accuracy: 0.6715 - val_loss: 2.7370 - val_accuracy: 0.4833\n",
            "Epoch 42/80\n",
            "400/400 [==============================] - 8s 20ms/step - loss: 1.0738 - accuracy: 0.6766 - val_loss: 2.7713 - val_accuracy: 0.4814\n",
            "Epoch 43/80\n",
            "400/400 [==============================] - 8s 20ms/step - loss: 1.0654 - accuracy: 0.6806 - val_loss: 2.7841 - val_accuracy: 0.4806\n",
            "Epoch 44/80\n",
            "400/400 [==============================] - 8s 20ms/step - loss: 1.0383 - accuracy: 0.6878 - val_loss: 2.7669 - val_accuracy: 0.4924\n",
            "Epoch 45/80\n",
            "400/400 [==============================] - 8s 20ms/step - loss: 1.0240 - accuracy: 0.6902 - val_loss: 2.7859 - val_accuracy: 0.4866\n",
            "Epoch 46/80\n",
            "400/400 [==============================] - 9s 21ms/step - loss: 1.0082 - accuracy: 0.6941 - val_loss: 2.8254 - val_accuracy: 0.4883\n",
            "Epoch 47/80\n",
            "400/400 [==============================] - 8s 20ms/step - loss: 0.9828 - accuracy: 0.6995 - val_loss: 2.8056 - val_accuracy: 0.4885\n",
            "Epoch 48/80\n",
            "400/400 [==============================] - 8s 20ms/step - loss: 0.9854 - accuracy: 0.7021 - val_loss: 2.8285 - val_accuracy: 0.4938\n",
            "Epoch 49/80\n",
            "400/400 [==============================] - 9s 21ms/step - loss: 0.9648 - accuracy: 0.7072 - val_loss: 2.8277 - val_accuracy: 0.4952\n",
            "Epoch 50/80\n",
            "400/400 [==============================] - 8s 20ms/step - loss: 0.9465 - accuracy: 0.7124 - val_loss: 2.8244 - val_accuracy: 0.4983\n",
            "Epoch 51/80\n",
            "400/400 [==============================] - 8s 20ms/step - loss: 0.9396 - accuracy: 0.7145 - val_loss: 2.8354 - val_accuracy: 0.5018\n",
            "Epoch 52/80\n",
            "400/400 [==============================] - 8s 20ms/step - loss: 0.9277 - accuracy: 0.7168 - val_loss: 2.8653 - val_accuracy: 0.5018\n",
            "Epoch 53/80\n",
            "400/400 [==============================] - 8s 20ms/step - loss: 0.9145 - accuracy: 0.7216 - val_loss: 2.8574 - val_accuracy: 0.5071\n",
            "Epoch 54/80\n",
            "400/400 [==============================] - 8s 20ms/step - loss: 0.8981 - accuracy: 0.7247 - val_loss: 2.8738 - val_accuracy: 0.5028\n",
            "Epoch 55/80\n",
            "400/400 [==============================] - 8s 20ms/step - loss: 0.8936 - accuracy: 0.7257 - val_loss: 2.8828 - val_accuracy: 0.5047\n",
            "Epoch 56/80\n",
            "400/400 [==============================] - 8s 20ms/step - loss: 0.8909 - accuracy: 0.7265 - val_loss: 2.8747 - val_accuracy: 0.5075\n",
            "Epoch 57/80\n",
            "400/400 [==============================] - 8s 20ms/step - loss: 0.8786 - accuracy: 0.7295 - val_loss: 2.8996 - val_accuracy: 0.5068\n",
            "Epoch 58/80\n",
            "400/400 [==============================] - 8s 20ms/step - loss: 0.8632 - accuracy: 0.7319 - val_loss: 2.9135 - val_accuracy: 0.5046\n",
            "Epoch 59/80\n",
            "400/400 [==============================] - 8s 20ms/step - loss: 0.8606 - accuracy: 0.7334 - val_loss: 2.9166 - val_accuracy: 0.5107\n",
            "Epoch 60/80\n",
            "400/400 [==============================] - 8s 20ms/step - loss: 0.8421 - accuracy: 0.7399 - val_loss: 2.9132 - val_accuracy: 0.5089\n",
            "Epoch 61/80\n",
            "400/400 [==============================] - 8s 20ms/step - loss: 0.8573 - accuracy: 0.7349 - val_loss: 2.9158 - val_accuracy: 0.5127\n",
            "Epoch 62/80\n",
            "400/400 [==============================] - 8s 20ms/step - loss: 0.8334 - accuracy: 0.7407 - val_loss: 2.9401 - val_accuracy: 0.5091\n",
            "Epoch 63/80\n",
            "400/400 [==============================] - 8s 20ms/step - loss: 0.8269 - accuracy: 0.7427 - val_loss: 2.9319 - val_accuracy: 0.5175\n",
            "Epoch 64/80\n",
            "400/400 [==============================] - 8s 20ms/step - loss: 0.8259 - accuracy: 0.7453 - val_loss: 2.9445 - val_accuracy: 0.5158\n",
            "Epoch 65/80\n",
            "400/400 [==============================] - 8s 20ms/step - loss: 0.8045 - accuracy: 0.7503 - val_loss: 2.9596 - val_accuracy: 0.5135\n",
            "Epoch 66/80\n",
            "400/400 [==============================] - 9s 21ms/step - loss: 0.8052 - accuracy: 0.7511 - val_loss: 2.9569 - val_accuracy: 0.5172\n",
            "Epoch 67/80\n",
            "400/400 [==============================] - 8s 20ms/step - loss: 0.7898 - accuracy: 0.7539 - val_loss: 2.9903 - val_accuracy: 0.5196\n",
            "Epoch 68/80\n",
            "400/400 [==============================] - 8s 20ms/step - loss: 0.7862 - accuracy: 0.7557 - val_loss: 2.9993 - val_accuracy: 0.5189\n",
            "Epoch 69/80\n",
            "400/400 [==============================] - 8s 20ms/step - loss: 0.7916 - accuracy: 0.7551 - val_loss: 2.9780 - val_accuracy: 0.5192\n",
            "Epoch 70/80\n",
            "400/400 [==============================] - 8s 20ms/step - loss: 0.7823 - accuracy: 0.7571 - val_loss: 3.0160 - val_accuracy: 0.5188\n",
            "Epoch 71/80\n",
            "400/400 [==============================] - 8s 20ms/step - loss: 0.7658 - accuracy: 0.7614 - val_loss: 3.0138 - val_accuracy: 0.5246\n",
            "Epoch 72/80\n",
            "400/400 [==============================] - 8s 20ms/step - loss: 0.7650 - accuracy: 0.7621 - val_loss: 3.0240 - val_accuracy: 0.5237\n",
            "Epoch 73/80\n",
            "400/400 [==============================] - 8s 20ms/step - loss: 0.7694 - accuracy: 0.7609 - val_loss: 3.0492 - val_accuracy: 0.5215\n",
            "Epoch 74/80\n",
            "400/400 [==============================] - 9s 21ms/step - loss: 0.7474 - accuracy: 0.7667 - val_loss: 3.0549 - val_accuracy: 0.5251\n",
            "Epoch 75/80\n",
            "400/400 [==============================] - 8s 20ms/step - loss: 0.7594 - accuracy: 0.7628 - val_loss: 3.0360 - val_accuracy: 0.5241\n",
            "Epoch 76/80\n",
            "400/400 [==============================] - 8s 20ms/step - loss: 0.7420 - accuracy: 0.7700 - val_loss: 3.0670 - val_accuracy: 0.5212\n",
            "Epoch 77/80\n",
            "400/400 [==============================] - 8s 20ms/step - loss: 0.7373 - accuracy: 0.7690 - val_loss: 3.0812 - val_accuracy: 0.5238\n",
            "Epoch 78/80\n",
            "400/400 [==============================] - 8s 20ms/step - loss: 0.7347 - accuracy: 0.7705 - val_loss: 3.0571 - val_accuracy: 0.5253\n",
            "Epoch 79/80\n",
            "400/400 [==============================] - 8s 20ms/step - loss: 0.7222 - accuracy: 0.7768 - val_loss: 3.0960 - val_accuracy: 0.5247\n",
            "Epoch 80/80\n",
            "400/400 [==============================] - 8s 20ms/step - loss: 0.7200 - accuracy: 0.7751 - val_loss: 3.1015 - val_accuracy: 0.5266\n"
          ]
        }
      ]
    },
    {
      "cell_type": "code",
      "source": [
        "model.save(\"MOD\")"
      ],
      "metadata": {
        "colab": {
          "base_uri": "https://localhost:8080/"
        },
        "id": "wItEv4xjHPvv",
        "outputId": "8d1d17f2-d7f2-4e2b-aca2-76f05b33692d"
      },
      "execution_count": null,
      "outputs": [
        {
          "output_type": "stream",
          "name": "stderr",
          "text": [
            "WARNING:absl:Found untraced functions such as lstm_cell_layer_call_fn, lstm_cell_layer_call_and_return_conditional_losses, lstm_cell_1_layer_call_fn, lstm_cell_1_layer_call_and_return_conditional_losses while saving (showing 4 of 4). These functions will not be directly callable after loading.\n"
          ]
        },
        {
          "output_type": "stream",
          "name": "stdout",
          "text": [
            "INFO:tensorflow:Assets written to: MOD/assets\n"
          ]
        },
        {
          "output_type": "stream",
          "name": "stderr",
          "text": [
            "INFO:tensorflow:Assets written to: MOD/assets\n",
            "WARNING:absl:<keras.layers.recurrent.LSTMCell object at 0x7fc841290610> has the same name 'LSTMCell' as a built-in Keras object. Consider renaming <class 'keras.layers.recurrent.LSTMCell'> to avoid naming conflicts when loading with `tf.keras.models.load_model`. If renaming is not possible, pass the object in the `custom_objects` parameter of the load function.\n",
            "WARNING:absl:<keras.layers.recurrent.LSTMCell object at 0x7fc840d74c10> has the same name 'LSTMCell' as a built-in Keras object. Consider renaming <class 'keras.layers.recurrent.LSTMCell'> to avoid naming conflicts when loading with `tf.keras.models.load_model`. If renaming is not possible, pass the object in the `custom_objects` parameter of the load function.\n"
          ]
        }
      ]
    },
    {
      "cell_type": "code",
      "source": [
        "model=load_model(\"MOD\")\n",
        "#generate random index\n",
        "index = np.random.randint(0,len(x_test)-1)\n",
        "#get the data of generated index from x_test\n",
        "music_pattern = x_test[index]\n",
        "\n",
        "out_pred=[] #it will store predicted notes\n",
        "\n",
        "#iterate till 200 note is generated\n",
        "for i in range(200):\n",
        "\n",
        "  #reshape the music pattern \n",
        "  music_pattern = music_pattern.reshape(1,len(music_pattern),1)\n",
        "  \n",
        "  #get the maximum probability value from the predicted output\n",
        "  pred_index = np.argmax(model.predict(music_pattern))\n",
        "  #get the note using predicted index and\n",
        "  #append to the output prediction list\n",
        "  out_pred.append(ind2note[pred_index])\n",
        "  music_pattern = np.append(music_pattern,pred_index)\n",
        "  \n",
        "  #update the music pattern with one timestep ahead\n",
        "  music_pattern = music_pattern[1:]"
      ],
      "metadata": {
        "id": "HDFEVFYtMJEN"
      },
      "execution_count": null,
      "outputs": []
    },
    {
      "cell_type": "code",
      "source": [
        "output_notes = []\n",
        "for offset,pattern in enumerate(out_pred):\n",
        "  #if pattern is a chord instance\n",
        "  if ('.' in pattern) or pattern.isdigit():\n",
        "    #split notes from the chord\n",
        "    notes_in_chord = pattern.split('.')\n",
        "    notes = []\n",
        "    for current_note in notes_in_chord:\n",
        "        i_curr_note=int(current_note)\n",
        "        #cast the current note to Note object and\n",
        "        #append the current note \n",
        "        new_note = note.Note(i_curr_note)\n",
        "        new_note.storedInstrument = instrument.Piano()\n",
        "        notes.append(new_note)\n",
        "    \n",
        "    #cast the current note to Chord object\n",
        "    #offset will be 1 step ahead from the previous note\n",
        "    #as it will prevent notes to stack up \n",
        "    new_chord = chord.Chord(notes)\n",
        "    new_chord.offset = offset\n",
        "    output_notes.append(new_chord)\n",
        "  \n",
        "  else:\n",
        "    #cast the pattern to Note object apply the offset and \n",
        "    #append the note\n",
        "    new_note = note.Note(pattern)\n",
        "    new_note.offset = offset\n",
        "    new_note.storedInstrument = instrument.Piano()\n",
        "    output_notes.append(new_note)\n",
        "\n",
        "#save the midi file \n",
        "midi_stream = stream.Stream(output_notes)\n",
        "midi_stream.write('midi', fp='AI_composed_music.mid')"
      ],
      "metadata": {
        "colab": {
          "base_uri": "https://localhost:8080/",
          "height": 35
        },
        "id": "2SxRyyABMN_f",
        "outputId": "3c083c9c-afb9-4d74-b80b-0ac8c6c47ade"
      },
      "execution_count": null,
      "outputs": [
        {
          "output_type": "execute_result",
          "data": {
            "text/plain": [
              "'AI_composed_music.mid'"
            ],
            "application/vnd.google.colaboratory.intrinsic+json": {
              "type": "string"
            }
          },
          "metadata": {},
          "execution_count": 24
        }
      ]
    },
    {
      "cell_type": "code",
      "source": [
        ""
      ],
      "metadata": {
        "id": "h2XRlRvAMTGW"
      },
      "execution_count": null,
      "outputs": []
    }
  ]
}