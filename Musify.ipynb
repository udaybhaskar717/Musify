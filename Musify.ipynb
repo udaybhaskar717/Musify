{
  "cells": [
    {
      "cell_type": "markdown",
      "metadata": {
        "id": "view-in-github",
        "colab_type": "text"
      },
      "source": [
        "<a href=\"https://colab.research.google.com/github/udaybhaskar717/Musify/blob/main/Musify.ipynb\" target=\"_parent\"><img src=\"https://colab.research.google.com/assets/colab-badge.svg\" alt=\"Open In Colab\"/></a>"
      ]
    },
    {
      "cell_type": "code",
      "execution_count": 1,
      "metadata": {
        "colab": {
          "base_uri": "https://localhost:8080/"
        },
        "id": "ftj4YdSFEm9O",
        "outputId": "bd51335c-1ef7-4ed1-eda5-9f606fc80604"
      },
      "outputs": [
        {
          "output_type": "stream",
          "name": "stdout",
          "text": [
            "Archive:  /content/All Midi Files.zip\n",
            "   creating: All Midi Files/mozart/\n",
            "  inflating: All Midi Files/mozart/mz_311_1.mid  \n",
            "  inflating: All Midi Files/mozart/mz_311_2.mid  \n",
            "  inflating: All Midi Files/mozart/mz_311_3.mid  \n",
            "  inflating: All Midi Files/mozart/mz_330_1.mid  \n",
            "  inflating: All Midi Files/mozart/mz_330_2.mid  \n",
            "  inflating: All Midi Files/mozart/mz_330_3.mid  \n",
            "  inflating: All Midi Files/mozart/mz_331_1.mid  \n",
            "  inflating: All Midi Files/mozart/mz_331_2.mid  \n",
            "  inflating: All Midi Files/mozart/mz_331_3.mid  \n",
            "  inflating: All Midi Files/mozart/mz_332_1.mid  \n",
            "  inflating: All Midi Files/mozart/mz_332_2.mid  \n",
            "  inflating: All Midi Files/mozart/mz_332_3.mid  \n",
            "  inflating: All Midi Files/mozart/mz_333_1.mid  \n",
            "  inflating: All Midi Files/mozart/mz_333_2.mid  \n",
            "  inflating: All Midi Files/mozart/mz_333_3.mid  \n",
            "  inflating: All Midi Files/mozart/mz_545_1.mid  \n",
            "  inflating: All Midi Files/mozart/mz_545_2.mid  \n",
            "  inflating: All Midi Files/mozart/mz_545_3.mid  \n",
            "  inflating: All Midi Files/mozart/mz_570_1.mid  \n",
            "  inflating: All Midi Files/mozart/mz_570_2.mid  \n",
            "  inflating: All Midi Files/mozart/mz_570_3.mid  \n",
            "   creating: All Midi Files/schubert/\n",
            "  inflating: All Midi Files/schubert/schu_143_1.mid  \n",
            "  inflating: All Midi Files/schubert/schu_143_2.mid  \n",
            "  inflating: All Midi Files/schubert/schu_143_3.mid  \n",
            "  inflating: All Midi Files/schubert/schub_d760_1.mid  \n",
            "  inflating: All Midi Files/schubert/schub_d760_2.mid  \n",
            "  inflating: All Midi Files/schubert/schub_d760_3.mid  \n",
            "  inflating: All Midi Files/schubert/schub_d760_4.mid  \n",
            "  inflating: All Midi Files/schubert/schub_d960_1.mid  \n",
            "  inflating: All Midi Files/schubert/schub_d960_2.mid  \n",
            "  inflating: All Midi Files/schubert/schub_d960_3.mid  \n",
            "  inflating: All Midi Files/schubert/schub_d960_4.mid  \n",
            "  inflating: All Midi Files/schubert/schubert_D850_1.mid  \n",
            "  inflating: All Midi Files/schubert/schubert_D850_2.mid  \n",
            "  inflating: All Midi Files/schubert/schubert_D850_3.mid  \n",
            "  inflating: All Midi Files/schubert/schubert_D850_4.mid  \n",
            "  inflating: All Midi Files/schubert/schubert_D935_1.mid  \n",
            "  inflating: All Midi Files/schubert/schubert_D935_2.mid  \n",
            "  inflating: All Midi Files/schubert/schubert_D935_3.mid  \n",
            "  inflating: All Midi Files/schubert/schubert_D935_4.mid  \n",
            "  inflating: All Midi Files/schubert/schuim-1.mid  \n",
            "  inflating: All Midi Files/schubert/schuim-2.mid  \n",
            "  inflating: All Midi Files/schubert/schuim-3.mid  \n",
            "  inflating: All Midi Files/schubert/schuim-4.mid  \n",
            "  inflating: All Midi Files/schubert/schumm-1.mid  \n",
            "  inflating: All Midi Files/schubert/schumm-2.mid  \n",
            "  inflating: All Midi Files/schubert/schumm-3.mid  \n",
            "  inflating: All Midi Files/schubert/schumm-4.mid  \n",
            "  inflating: All Midi Files/schubert/schumm-5.mid  \n",
            "  inflating: All Midi Files/schubert/schumm-6.mid  \n",
            "   creating: All Midi Files/schumann/\n",
            "  inflating: All Midi Files/schumann/schum_abegg.mid  \n",
            "  inflating: All Midi Files/schumann/scn15_1.mid  \n",
            "  inflating: All Midi Files/schumann/scn15_10.mid  \n",
            "  inflating: All Midi Files/schumann/scn15_11.mid  \n",
            "  inflating: All Midi Files/schumann/scn15_12.mid  \n",
            "  inflating: All Midi Files/schumann/scn15_13.mid  \n",
            "  inflating: All Midi Files/schumann/scn15_2.mid  \n",
            "  inflating: All Midi Files/schumann/scn15_3.mid  \n",
            "  inflating: All Midi Files/schumann/scn15_4.mid  \n",
            "  inflating: All Midi Files/schumann/scn15_5.mid  \n",
            "  inflating: All Midi Files/schumann/scn15_6.mid  \n",
            "  inflating: All Midi Files/schumann/scn15_7.mid  \n",
            "  inflating: All Midi Files/schumann/scn15_8.mid  \n",
            "  inflating: All Midi Files/schumann/scn15_9.mid  \n",
            "  inflating: All Midi Files/schumann/scn16_1.mid  \n",
            "  inflating: All Midi Files/schumann/scn16_2.mid  \n",
            "  inflating: All Midi Files/schumann/scn16_3.mid  \n",
            "  inflating: All Midi Files/schumann/scn16_4.mid  \n",
            "  inflating: All Midi Files/schumann/scn16_5.mid  \n",
            "  inflating: All Midi Files/schumann/scn16_6.mid  \n",
            "  inflating: All Midi Files/schumann/scn16_7.mid  \n",
            "  inflating: All Midi Files/schumann/scn16_8.mid  \n",
            "  inflating: All Midi Files/schumann/scn68_10.mid  \n",
            "  inflating: All Midi Files/schumann/scn68_12.mid  \n"
          ]
        }
      ],
      "source": [
        "! unzip '/content/All Midi Files.zip'"
      ]
    },
    {
      "cell_type": "markdown",
      "metadata": {
        "id": "uH0-xf4rBrlg"
      },
      "source": [
        "# Importing"
      ]
    },
    {
      "cell_type": "code",
      "execution_count": 2,
      "metadata": {
        "id": "N_Yu4Zp6AiFz"
      },
      "outputs": [],
      "source": [
        "from music21 import *\n",
        "import glob\n",
        "from tqdm import tqdm\n",
        "import numpy as np\n",
        "import random\n",
        "import matplotlib.pyplot as plt\n",
        "import seaborn as sns\n",
        "\n",
        "from sklearn.model_selection import train_test_split"
      ]
    },
    {
      "cell_type": "code",
      "execution_count": 3,
      "metadata": {
        "id": "uhGmepG1Avxe"
      },
      "outputs": [],
      "source": [
        "import torch\n",
        "import torch.nn as nn\n",
        "import torch.optim as optim\n",
        "import os"
      ]
    },
    {
      "cell_type": "code",
      "execution_count": 4,
      "metadata": {
        "id": "rFH6sc8BDAKf"
      },
      "outputs": [],
      "source": [
        "from tensorflow.keras.layers import LSTM,Dense,Input,Dropout\n",
        "from tensorflow.keras.models import Sequential,Model,load_model "
      ]
    },
    {
      "cell_type": "code",
      "execution_count": 5,
      "metadata": {
        "id": "oFevXH8wDFks"
      },
      "outputs": [],
      "source": [
        "import tensorflow as tf\n"
      ]
    },
    {
      "cell_type": "markdown",
      "metadata": {
        "id": "k1p4DHf3CHQ4"
      },
      "source": [
        "# Data Preparation"
      ]
    },
    {
      "cell_type": "code",
      "execution_count": 6,
      "metadata": {
        "colab": {
          "base_uri": "https://localhost:8080/"
        },
        "id": "Zh27WPzUCJJL",
        "outputId": "bdb43ccb-d431-4bf5-f712-e715678e3a9b"
      },
      "outputs": [
        {
          "output_type": "stream",
          "name": "stderr",
          "text": [
            "/usr/local/lib/python3.7/dist-packages/ipykernel_launcher.py:21: VisibleDeprecationWarning: Creating an ndarray from ragged nested sequences (which is a list-or-tuple of lists-or-tuples-or ndarrays with different lengths or shapes) is deprecated. If you meant to do this, you must specify 'dtype=object' when creating the ndarray.\n"
          ]
        }
      ],
      "source": [
        "def read_files(file):\n",
        "    notes=[]\n",
        "    notes_to_parse=None\n",
        "    #parse the midi file\n",
        "    midi=converter.parse(file)\n",
        "    #seperate all instruments from the file\n",
        "    instrmt=instrument.partitionByInstrument(midi)\n",
        "    for part in instrmt.parts:\n",
        "        #fetch data only of Piano instrument\n",
        "        if 'Piano' in str(part):\n",
        "            notes_to_parse=part.recurse()\n",
        "            for element in notes_to_parse:\n",
        "                if type(element)==note.Note:\n",
        "                    notes.append(str(element.pitch))\n",
        "                elif type(element)==chord.Chord:\n",
        "                    notes.append('.'.join(str(n) for n in element.normalOrder))\n",
        "    return notes\n",
        "#retrieve paths recursively from inside the directories/files\n",
        "file_path=['mozart'] \n",
        "all_files=glob.glob('/content/All Midi Files/'+file_path[0]+'/*.mid',recursive=True)\n",
        "notes_array = np.array([read_files(i) for i in all_files])"
      ]
    },
    {
      "cell_type": "code",
      "execution_count": 7,
      "metadata": {
        "colab": {
          "base_uri": "https://localhost:8080/"
        },
        "id": "7O8dQvr9CJ57",
        "outputId": "c5f1c62f-f429-423b-d4bd-c03853a445ca"
      },
      "outputs": [
        {
          "output_type": "stream",
          "name": "stdout",
          "text": [
            "Unique Notes: 197\n",
            "\n",
            "Frequency notes\n",
            "30 : 109\n",
            "50 : 94\n",
            "70 : 83\n",
            "90 : 75\n"
          ]
        }
      ],
      "source": [
        "#unique notes\n",
        "notess = sum(notes_array,[]) \n",
        "unique_notes = list(set(notess))\n",
        "print(\"Unique Notes:\",len(unique_notes))\n",
        "\n",
        "#notes with their frequency\n",
        "freq=dict(map(lambda x: (x,notess.count(x)),unique_notes))\n",
        "\n",
        "#get the threshold frequency\n",
        "print(\"\\nFrequency notes\")\n",
        "for i in range(30,100,20):\n",
        "  print(i,\":\",len(list(filter(lambda x:x[1]>=i,freq.items()))))\n",
        "\n",
        "#filter notes greater than threshold i.e. 40\n",
        "freq_notes=dict(filter(lambda x:x[1]>=40,freq.items()))\n",
        "\n",
        "#create new notes using the frequent notes\n",
        "new_notes=[[i for i in j if i in freq_notes] for j in notes_array]\n",
        "\n",
        "#dictionary having key as note index and value as note\n",
        "ind2note=dict(enumerate(freq_notes))\n",
        "\n",
        "#dictionary having key as note and value as note index\n",
        "note2ind=dict(map(reversed,ind2note.items()))"
      ]
    },
    {
      "cell_type": "code",
      "execution_count": 8,
      "metadata": {
        "id": "ba2dmtZwCM8T"
      },
      "outputs": [],
      "source": [
        "timesteps=50\n",
        "\n",
        "#store values of input and output\n",
        "x=[] ; y=[]\n",
        "\n",
        "for i in new_notes:\n",
        "  for j in range(0,len(i)-timesteps):\n",
        "    #input will be the current index + timestep\n",
        "    #output will be the next index after timestep\n",
        "    inp=i[j:j+timesteps] ; out=i[j+timesteps]\n",
        "\n",
        "    #append the index value of respective notes \n",
        "    x.append(list(map(lambda x:note2ind[x],inp)))\n",
        "    y.append(note2ind[out])\n",
        "\n",
        "x_new=np.array(x) \n",
        "y_new=np.array(y)"
      ]
    },
    {
      "cell_type": "code",
      "execution_count": 9,
      "metadata": {
        "id": "TNPfGwdFCbzM"
      },
      "outputs": [],
      "source": [
        "#reshape input and output for the model\n",
        "x_new = np.reshape(x_new,(len(x_new),timesteps,1))\n",
        "y_new = np.reshape(y_new,(-1,1))\n",
        "\n",
        "#split the input and value into training and testing sets\n",
        "#80% for training and 20% for testing sets\n",
        "x_train,x_test,y_train,y_test = train_test_split(x_new,y_new,test_size=0.2,random_state=42)"
      ]
    },
    {
      "cell_type": "code",
      "execution_count": 10,
      "metadata": {
        "colab": {
          "base_uri": "https://localhost:8080/"
        },
        "id": "sjEBsp7tVi0W",
        "outputId": "42e5de9f-a304-43af-c714-12d256c51784"
      },
      "outputs": [
        {
          "output_type": "execute_result",
          "data": {
            "text/plain": [
              "(46066, 50, 1)"
            ]
          },
          "metadata": {},
          "execution_count": 10
        }
      ],
      "source": [
        "x_train.shape"
      ]
    },
    {
      "cell_type": "markdown",
      "metadata": {
        "id": "Y_XkwC8A_SAQ"
      },
      "source": [
        "# Model Buiding"
      ]
    },
    {
      "cell_type": "code",
      "execution_count": 11,
      "metadata": {
        "colab": {
          "base_uri": "https://localhost:8080/"
        },
        "id": "eml2mPw3C4L6",
        "outputId": "3dd67435-729b-4d54-9eba-2cebb36d49f1"
      },
      "outputs": [
        {
          "output_type": "stream",
          "name": "stdout",
          "text": [
            "Num GPUs Available:  1\n"
          ]
        }
      ],
      "source": [
        "print(\"Num GPUs Available: \", len(tf.config.experimental.list_physical_devices('GPU')))"
      ]
    },
    {
      "cell_type": "code",
      "execution_count": 12,
      "metadata": {
        "id": "3QyldODlGq7B"
      },
      "outputs": [],
      "source": [
        "import tensorflow as tf"
      ]
    },
    {
      "cell_type": "code",
      "source": [
        "tf.device('GPU')"
      ],
      "metadata": {
        "colab": {
          "base_uri": "https://localhost:8080/"
        },
        "id": "Sg_dVs_JXvNx",
        "outputId": "76e59bff-3d1b-4ea2-cba4-fa8b936163cd"
      },
      "execution_count": 21,
      "outputs": [
        {
          "output_type": "execute_result",
          "data": {
            "text/plain": [
              "<tensorflow.python.eager.context._EagerDeviceContext at 0x7f86d7671dc0>"
            ]
          },
          "metadata": {},
          "execution_count": 21
        }
      ]
    },
    {
      "cell_type": "code",
      "execution_count": 22,
      "metadata": {
        "id": "mKi1Cs3hFS63"
      },
      "outputs": [],
      "source": [
        "config = tf.compat.v1.ConfigProto()\n",
        "config.gpu_options.allow_growth=True\n",
        "sess = tf.compat.v1.Session(config=config)"
      ]
    },
    {
      "cell_type": "code",
      "execution_count": 23,
      "metadata": {
        "colab": {
          "base_uri": "https://localhost:8080/"
        },
        "id": "7nYzb6TyF4rt",
        "outputId": "81dbe7f8-226f-47ce-975b-9293973537df"
      },
      "outputs": [
        {
          "output_type": "stream",
          "name": "stdout",
          "text": [
            "Model: \"sequential_2\"\n",
            "_________________________________________________________________\n",
            " Layer (type)                Output Shape              Param #   \n",
            "=================================================================\n",
            " lstm_4 (LSTM)               (None, 50, 256)           264192    \n",
            "                                                                 \n",
            " dropout_4 (Dropout)         (None, 50, 256)           0         \n",
            "                                                                 \n",
            " lstm_5 (LSTM)               (None, 256)               525312    \n",
            "                                                                 \n",
            " dropout_5 (Dropout)         (None, 256)               0         \n",
            "                                                                 \n",
            " dense_4 (Dense)             (None, 256)               65792     \n",
            "                                                                 \n",
            " dense_5 (Dense)             (None, 104)               26728     \n",
            "                                                                 \n",
            "=================================================================\n",
            "Total params: 882,024\n",
            "Trainable params: 882,024\n",
            "Non-trainable params: 0\n",
            "_________________________________________________________________\n"
          ]
        }
      ],
      "source": [
        "#create the model\n",
        "model = Sequential()\n",
        "#create two stacked LSTM layer with the latent dimension of 256\n",
        "model.add(LSTM(256,return_sequences=True,input_shape=(x_new.shape[1],x_new.shape[2])))\n",
        "model.add(Dropout(0.2))\n",
        "model.add(LSTM(256))\n",
        "model.add(Dropout(0.2))\n",
        "model.add(Dense(256,activation='relu'))\n",
        "\n",
        "#fully connected layer for the output with softmax activation\n",
        "model.add(Dense(len(note2ind),activation='softmax'))\n",
        "model.summary()"
      ]
    },
    {
      "cell_type": "code",
      "execution_count": 26,
      "metadata": {
        "colab": {
          "base_uri": "https://localhost:8080/"
        },
        "id": "YvUjxXX9HFIG",
        "outputId": "ae51e866-a6b5-47cd-e68b-a27af977a7be"
      },
      "outputs": [
        {
          "output_type": "stream",
          "name": "stdout",
          "text": [
            "Epoch 1/80\n",
            "360/360 [==============================] - 10s 21ms/step - loss: 3.9398 - accuracy: 0.0592 - val_loss: 3.8454 - val_accuracy: 0.0676\n",
            "Epoch 2/80\n",
            "360/360 [==============================] - 7s 19ms/step - loss: 3.8058 - accuracy: 0.0810 - val_loss: 3.7292 - val_accuracy: 0.0951\n",
            "Epoch 3/80\n",
            "360/360 [==============================] - 7s 19ms/step - loss: 3.6811 - accuracy: 0.0992 - val_loss: 3.6101 - val_accuracy: 0.1124\n",
            "Epoch 4/80\n",
            "360/360 [==============================] - 7s 19ms/step - loss: 3.5291 - accuracy: 0.1191 - val_loss: 3.4650 - val_accuracy: 0.1303\n",
            "Epoch 5/80\n",
            "360/360 [==============================] - 7s 19ms/step - loss: 3.3779 - accuracy: 0.1422 - val_loss: 3.3427 - val_accuracy: 0.1526\n",
            "Epoch 6/80\n",
            "360/360 [==============================] - 7s 19ms/step - loss: 3.2161 - accuracy: 0.1677 - val_loss: 3.2155 - val_accuracy: 0.1780\n",
            "Epoch 7/80\n",
            "360/360 [==============================] - 7s 19ms/step - loss: 3.0430 - accuracy: 0.2003 - val_loss: 3.0661 - val_accuracy: 0.2129\n",
            "Epoch 8/80\n",
            "360/360 [==============================] - 7s 19ms/step - loss: 2.8707 - accuracy: 0.2382 - val_loss: 2.9647 - val_accuracy: 0.2297\n",
            "Epoch 9/80\n",
            "360/360 [==============================] - 7s 19ms/step - loss: 2.6967 - accuracy: 0.2738 - val_loss: 2.8450 - val_accuracy: 0.2600\n",
            "Epoch 10/80\n",
            "360/360 [==============================] - 7s 19ms/step - loss: 2.5436 - accuracy: 0.3089 - val_loss: 2.7199 - val_accuracy: 0.2877\n",
            "Epoch 11/80\n",
            "360/360 [==============================] - 7s 19ms/step - loss: 2.3815 - accuracy: 0.3450 - val_loss: 2.6209 - val_accuracy: 0.3128\n",
            "Epoch 12/80\n",
            "360/360 [==============================] - 7s 19ms/step - loss: 2.2410 - accuracy: 0.3788 - val_loss: 2.5206 - val_accuracy: 0.3405\n",
            "Epoch 13/80\n",
            "360/360 [==============================] - 7s 19ms/step - loss: 2.1006 - accuracy: 0.4141 - val_loss: 2.4429 - val_accuracy: 0.3630\n",
            "Epoch 14/80\n",
            "360/360 [==============================] - 7s 19ms/step - loss: 1.9712 - accuracy: 0.4429 - val_loss: 2.3743 - val_accuracy: 0.3813\n",
            "Epoch 15/80\n",
            "360/360 [==============================] - 7s 19ms/step - loss: 1.8627 - accuracy: 0.4710 - val_loss: 2.2839 - val_accuracy: 0.4093\n",
            "Epoch 16/80\n",
            "360/360 [==============================] - 7s 19ms/step - loss: 1.7490 - accuracy: 0.5003 - val_loss: 2.2619 - val_accuracy: 0.4219\n",
            "Epoch 17/80\n",
            "360/360 [==============================] - 7s 19ms/step - loss: 1.6500 - accuracy: 0.5272 - val_loss: 2.1625 - val_accuracy: 0.4499\n",
            "Epoch 18/80\n",
            "360/360 [==============================] - 7s 19ms/step - loss: 1.5547 - accuracy: 0.5492 - val_loss: 2.1104 - val_accuracy: 0.4666\n",
            "Epoch 19/80\n",
            "360/360 [==============================] - 7s 19ms/step - loss: 1.4761 - accuracy: 0.5722 - val_loss: 2.0660 - val_accuracy: 0.4808\n",
            "Epoch 20/80\n",
            "360/360 [==============================] - 7s 19ms/step - loss: 1.4076 - accuracy: 0.5884 - val_loss: 2.0277 - val_accuracy: 0.4969\n",
            "Epoch 21/80\n",
            "360/360 [==============================] - 7s 19ms/step - loss: 1.3388 - accuracy: 0.6094 - val_loss: 1.9852 - val_accuracy: 0.5110\n",
            "Epoch 22/80\n",
            "360/360 [==============================] - 7s 19ms/step - loss: 1.2690 - accuracy: 0.6238 - val_loss: 1.9627 - val_accuracy: 0.5228\n",
            "Epoch 23/80\n",
            "360/360 [==============================] - 7s 19ms/step - loss: 1.2097 - accuracy: 0.6437 - val_loss: 1.9279 - val_accuracy: 0.5394\n",
            "Epoch 24/80\n",
            "360/360 [==============================] - 7s 19ms/step - loss: 1.1641 - accuracy: 0.6545 - val_loss: 1.8688 - val_accuracy: 0.5552\n",
            "Epoch 25/80\n",
            "360/360 [==============================] - 7s 19ms/step - loss: 1.1038 - accuracy: 0.6716 - val_loss: 1.8668 - val_accuracy: 0.5654\n",
            "Epoch 26/80\n",
            "360/360 [==============================] - 7s 19ms/step - loss: 1.0683 - accuracy: 0.6805 - val_loss: 1.8318 - val_accuracy: 0.5768\n",
            "Epoch 27/80\n",
            "360/360 [==============================] - 7s 19ms/step - loss: 1.0218 - accuracy: 0.6910 - val_loss: 1.8136 - val_accuracy: 0.5881\n",
            "Epoch 28/80\n",
            "360/360 [==============================] - 7s 19ms/step - loss: 0.9821 - accuracy: 0.7033 - val_loss: 1.8315 - val_accuracy: 0.5892\n",
            "Epoch 29/80\n",
            "360/360 [==============================] - 7s 19ms/step - loss: 0.9494 - accuracy: 0.7112 - val_loss: 1.7693 - val_accuracy: 0.6076\n",
            "Epoch 30/80\n",
            "360/360 [==============================] - 7s 19ms/step - loss: 0.9163 - accuracy: 0.7208 - val_loss: 1.7397 - val_accuracy: 0.6199\n",
            "Epoch 31/80\n",
            "360/360 [==============================] - 7s 19ms/step - loss: 0.8726 - accuracy: 0.7328 - val_loss: 1.7373 - val_accuracy: 0.6243\n",
            "Epoch 32/80\n",
            "360/360 [==============================] - 7s 19ms/step - loss: 0.8466 - accuracy: 0.7417 - val_loss: 1.7295 - val_accuracy: 0.6342\n",
            "Epoch 33/80\n",
            "360/360 [==============================] - 7s 19ms/step - loss: 0.8299 - accuracy: 0.7468 - val_loss: 1.7261 - val_accuracy: 0.6382\n",
            "Epoch 34/80\n",
            "360/360 [==============================] - 7s 19ms/step - loss: 0.7941 - accuracy: 0.7559 - val_loss: 1.7037 - val_accuracy: 0.6430\n",
            "Epoch 35/80\n",
            "360/360 [==============================] - 7s 19ms/step - loss: 0.7598 - accuracy: 0.7623 - val_loss: 1.6959 - val_accuracy: 0.6514\n",
            "Epoch 36/80\n",
            "360/360 [==============================] - 7s 19ms/step - loss: 0.7441 - accuracy: 0.7702 - val_loss: 1.6895 - val_accuracy: 0.6592\n",
            "Epoch 37/80\n",
            "360/360 [==============================] - 7s 19ms/step - loss: 0.7282 - accuracy: 0.7736 - val_loss: 1.6815 - val_accuracy: 0.6682\n",
            "Epoch 38/80\n",
            "360/360 [==============================] - 7s 19ms/step - loss: 0.7021 - accuracy: 0.7808 - val_loss: 1.6984 - val_accuracy: 0.6653\n",
            "Epoch 39/80\n",
            "360/360 [==============================] - 7s 19ms/step - loss: 0.7030 - accuracy: 0.7794 - val_loss: 1.6645 - val_accuracy: 0.6809\n",
            "Epoch 40/80\n",
            "360/360 [==============================] - 7s 19ms/step - loss: 0.6835 - accuracy: 0.7866 - val_loss: 1.6772 - val_accuracy: 0.6795\n",
            "Epoch 41/80\n",
            "360/360 [==============================] - 7s 19ms/step - loss: 0.6583 - accuracy: 0.7961 - val_loss: 1.6786 - val_accuracy: 0.6824\n",
            "Epoch 42/80\n",
            "360/360 [==============================] - 7s 19ms/step - loss: 0.6441 - accuracy: 0.7965 - val_loss: 1.6679 - val_accuracy: 0.6869\n",
            "Epoch 43/80\n",
            "360/360 [==============================] - 7s 19ms/step - loss: 0.6318 - accuracy: 0.8025 - val_loss: 1.6850 - val_accuracy: 0.6927\n",
            "Epoch 44/80\n",
            "360/360 [==============================] - 7s 19ms/step - loss: 0.6133 - accuracy: 0.8056 - val_loss: 1.6713 - val_accuracy: 0.6999\n",
            "Epoch 45/80\n",
            "360/360 [==============================] - 7s 19ms/step - loss: 0.5990 - accuracy: 0.8109 - val_loss: 1.6839 - val_accuracy: 0.6956\n",
            "Epoch 46/80\n",
            "360/360 [==============================] - 7s 19ms/step - loss: 0.5932 - accuracy: 0.8105 - val_loss: 1.6632 - val_accuracy: 0.7015\n",
            "Epoch 47/80\n",
            "360/360 [==============================] - 7s 19ms/step - loss: 0.5811 - accuracy: 0.8167 - val_loss: 1.6590 - val_accuracy: 0.7079\n",
            "Epoch 48/80\n",
            "360/360 [==============================] - 7s 19ms/step - loss: 0.5712 - accuracy: 0.8195 - val_loss: 1.6649 - val_accuracy: 0.7067\n",
            "Epoch 49/80\n",
            "360/360 [==============================] - 7s 19ms/step - loss: 0.5568 - accuracy: 0.8228 - val_loss: 1.6733 - val_accuracy: 0.7124\n",
            "Epoch 50/80\n",
            "360/360 [==============================] - 7s 19ms/step - loss: 0.5367 - accuracy: 0.8282 - val_loss: 1.6751 - val_accuracy: 0.7116\n",
            "Epoch 51/80\n",
            "360/360 [==============================] - 7s 19ms/step - loss: 0.5356 - accuracy: 0.8307 - val_loss: 1.6943 - val_accuracy: 0.7154\n",
            "Epoch 52/80\n",
            "360/360 [==============================] - 7s 19ms/step - loss: 0.5365 - accuracy: 0.8277 - val_loss: 1.6814 - val_accuracy: 0.7189\n",
            "Epoch 53/80\n",
            "360/360 [==============================] - 7s 19ms/step - loss: 0.5255 - accuracy: 0.8309 - val_loss: 1.6839 - val_accuracy: 0.7183\n",
            "Epoch 54/80\n",
            "360/360 [==============================] - 7s 19ms/step - loss: 0.5211 - accuracy: 0.8323 - val_loss: 1.6796 - val_accuracy: 0.7200\n",
            "Epoch 55/80\n",
            "360/360 [==============================] - 7s 19ms/step - loss: 0.5009 - accuracy: 0.8416 - val_loss: 1.7223 - val_accuracy: 0.7178\n",
            "Epoch 56/80\n",
            "360/360 [==============================] - 7s 19ms/step - loss: 0.4990 - accuracy: 0.8389 - val_loss: 1.7161 - val_accuracy: 0.7208\n",
            "Epoch 57/80\n",
            "360/360 [==============================] - 7s 19ms/step - loss: 0.4828 - accuracy: 0.8443 - val_loss: 1.7095 - val_accuracy: 0.7248\n",
            "Epoch 58/80\n",
            "360/360 [==============================] - 7s 19ms/step - loss: 0.4812 - accuracy: 0.8457 - val_loss: 1.7130 - val_accuracy: 0.7256\n",
            "Epoch 59/80\n",
            "360/360 [==============================] - 7s 19ms/step - loss: 0.4795 - accuracy: 0.8471 - val_loss: 1.7204 - val_accuracy: 0.7236\n",
            "Epoch 60/80\n",
            "360/360 [==============================] - 7s 19ms/step - loss: 0.4801 - accuracy: 0.8450 - val_loss: 1.7134 - val_accuracy: 0.7267\n",
            "Epoch 61/80\n",
            "360/360 [==============================] - 7s 19ms/step - loss: 0.4681 - accuracy: 0.8496 - val_loss: 1.7256 - val_accuracy: 0.7307\n",
            "Epoch 62/80\n",
            "360/360 [==============================] - 7s 19ms/step - loss: 0.4632 - accuracy: 0.8505 - val_loss: 1.7246 - val_accuracy: 0.7314\n",
            "Epoch 63/80\n",
            "360/360 [==============================] - 7s 19ms/step - loss: 0.4562 - accuracy: 0.8540 - val_loss: 1.7416 - val_accuracy: 0.7290\n",
            "Epoch 64/80\n",
            "360/360 [==============================] - 7s 19ms/step - loss: 0.4577 - accuracy: 0.8516 - val_loss: 1.7444 - val_accuracy: 0.7274\n",
            "Epoch 65/80\n",
            "360/360 [==============================] - 7s 19ms/step - loss: 0.4462 - accuracy: 0.8575 - val_loss: 1.7512 - val_accuracy: 0.7324\n",
            "Epoch 66/80\n",
            "360/360 [==============================] - 7s 19ms/step - loss: 0.4434 - accuracy: 0.8577 - val_loss: 1.7629 - val_accuracy: 0.7282\n",
            "Epoch 67/80\n",
            "360/360 [==============================] - 7s 19ms/step - loss: 0.4350 - accuracy: 0.8591 - val_loss: 1.7495 - val_accuracy: 0.7367\n",
            "Epoch 68/80\n",
            "360/360 [==============================] - 7s 19ms/step - loss: 0.4228 - accuracy: 0.8634 - val_loss: 1.7523 - val_accuracy: 0.7330\n",
            "Epoch 69/80\n",
            "360/360 [==============================] - 7s 19ms/step - loss: 0.4277 - accuracy: 0.8613 - val_loss: 1.7473 - val_accuracy: 0.7360\n",
            "Epoch 70/80\n",
            "360/360 [==============================] - 7s 19ms/step - loss: 0.4199 - accuracy: 0.8656 - val_loss: 1.7647 - val_accuracy: 0.7365\n",
            "Epoch 71/80\n",
            "360/360 [==============================] - 7s 19ms/step - loss: 0.4116 - accuracy: 0.8677 - val_loss: 1.7952 - val_accuracy: 0.7340\n",
            "Epoch 72/80\n",
            "360/360 [==============================] - 7s 19ms/step - loss: 0.4160 - accuracy: 0.8655 - val_loss: 1.7921 - val_accuracy: 0.7351\n",
            "Epoch 73/80\n",
            "360/360 [==============================] - 7s 19ms/step - loss: 0.4067 - accuracy: 0.8679 - val_loss: 1.7620 - val_accuracy: 0.7381\n",
            "Epoch 74/80\n",
            "360/360 [==============================] - 7s 19ms/step - loss: 0.4107 - accuracy: 0.8683 - val_loss: 1.7765 - val_accuracy: 0.7380\n",
            "Epoch 75/80\n",
            "360/360 [==============================] - 7s 19ms/step - loss: 0.4142 - accuracy: 0.8657 - val_loss: 1.7783 - val_accuracy: 0.7356\n",
            "Epoch 76/80\n",
            "360/360 [==============================] - 7s 19ms/step - loss: 0.3945 - accuracy: 0.8737 - val_loss: 1.7925 - val_accuracy: 0.7413\n",
            "Epoch 77/80\n",
            "360/360 [==============================] - 7s 19ms/step - loss: 0.3997 - accuracy: 0.8725 - val_loss: 1.8026 - val_accuracy: 0.7339\n",
            "Epoch 78/80\n",
            "360/360 [==============================] - 7s 19ms/step - loss: 0.3944 - accuracy: 0.8729 - val_loss: 1.8198 - val_accuracy: 0.7381\n",
            "Epoch 79/80\n",
            "360/360 [==============================] - 7s 19ms/step - loss: 0.3960 - accuracy: 0.8726 - val_loss: 1.7872 - val_accuracy: 0.7419\n",
            "Epoch 80/80\n",
            "360/360 [==============================] - 7s 19ms/step - loss: 0.3888 - accuracy: 0.8741 - val_loss: 1.7985 - val_accuracy: 0.7425\n"
          ]
        }
      ],
      "source": [
        "#compile the model using Adam optimizer\n",
        "model.compile(loss='sparse_categorical_crossentropy', optimizer='adam',metrics=['accuracy'])\n",
        "\n",
        "#train the model on training sets and validate on testing sets\n",
        "with tf.device('/gpu:0'):\n",
        "    model.fit(x_train,y_train,batch_size=128,epochs=80,validation_data=(x_test,y_test))"
      ]
    },
    {
      "cell_type": "code",
      "execution_count": 27,
      "metadata": {
        "colab": {
          "base_uri": "https://localhost:8080/"
        },
        "id": "wItEv4xjHPvv",
        "outputId": "7aac170d-f696-468c-adca-81431ca92809"
      },
      "outputs": [
        {
          "output_type": "stream",
          "name": "stderr",
          "text": [
            "WARNING:absl:Found untraced functions such as lstm_cell_4_layer_call_fn, lstm_cell_4_layer_call_and_return_conditional_losses, lstm_cell_5_layer_call_fn, lstm_cell_5_layer_call_and_return_conditional_losses while saving (showing 4 of 4). These functions will not be directly callable after loading.\n"
          ]
        },
        {
          "output_type": "stream",
          "name": "stdout",
          "text": [
            "INFO:tensorflow:Assets written to: MOD/assets\n"
          ]
        },
        {
          "output_type": "stream",
          "name": "stderr",
          "text": [
            "INFO:tensorflow:Assets written to: MOD/assets\n",
            "WARNING:absl:<keras.layers.recurrent.LSTMCell object at 0x7f86d767a490> has the same name 'LSTMCell' as a built-in Keras object. Consider renaming <class 'keras.layers.recurrent.LSTMCell'> to avoid naming conflicts when loading with `tf.keras.models.load_model`. If renaming is not possible, pass the object in the `custom_objects` parameter of the load function.\n",
            "WARNING:absl:<keras.layers.recurrent.LSTMCell object at 0x7f86d73a81d0> has the same name 'LSTMCell' as a built-in Keras object. Consider renaming <class 'keras.layers.recurrent.LSTMCell'> to avoid naming conflicts when loading with `tf.keras.models.load_model`. If renaming is not possible, pass the object in the `custom_objects` parameter of the load function.\n"
          ]
        }
      ],
      "source": [
        "model.save(\"MOD\")"
      ]
    },
    {
      "cell_type": "code",
      "execution_count": 28,
      "metadata": {
        "id": "HDFEVFYtMJEN"
      },
      "outputs": [],
      "source": [
        "model=load_model(\"MOD\")\n",
        "#generate random index\n",
        "index = np.random.randint(0,len(x_test)-1)\n",
        "#get the data of generated index from x_test\n",
        "music_pattern = x_test[index]\n",
        "\n",
        "out_pred=[] #it will store predicted notes\n",
        "\n",
        "#iterate till 200 note is generated\n",
        "for i in range(200):\n",
        "\n",
        "  #reshape the music pattern \n",
        "  music_pattern = music_pattern.reshape(1,len(music_pattern),1)\n",
        "  \n",
        "  #get the maximum probability value from the predicted output\n",
        "  pred_index = np.argmax(model.predict(music_pattern))\n",
        "  #get the note using predicted index and\n",
        "  #append to the output prediction list\n",
        "  out_pred.append(ind2note[pred_index])\n",
        "  music_pattern = np.append(music_pattern,pred_index)\n",
        "  \n",
        "  #update the music pattern with one timestep ahead\n",
        "  music_pattern = music_pattern[1:]"
      ]
    },
    {
      "cell_type": "code",
      "execution_count": 29,
      "metadata": {
        "colab": {
          "base_uri": "https://localhost:8080/",
          "height": 35
        },
        "id": "2SxRyyABMN_f",
        "outputId": "fb90f2d4-51c9-462c-e5ca-db57ea7f086a"
      },
      "outputs": [
        {
          "output_type": "execute_result",
          "data": {
            "text/plain": [
              "'AI_composed_music.mid'"
            ],
            "application/vnd.google.colaboratory.intrinsic+json": {
              "type": "string"
            }
          },
          "metadata": {},
          "execution_count": 29
        }
      ],
      "source": [
        "output_notes = []\n",
        "for offset,pattern in enumerate(out_pred):\n",
        "  #if pattern is a chord instance\n",
        "  if ('.' in pattern) or pattern.isdigit():\n",
        "    #split notes from the chord\n",
        "    notes_in_chord = pattern.split('.')\n",
        "    notes = []\n",
        "    for current_note in notes_in_chord:\n",
        "        i_curr_note=int(current_note)\n",
        "        #cast the current note to Note object and\n",
        "        #append the current note \n",
        "        new_note = note.Note(i_curr_note)\n",
        "        new_note.storedInstrument = instrument.Piano()\n",
        "        notes.append(new_note)\n",
        "    \n",
        "    #cast the current note to Chord object\n",
        "    #offset will be 1 step ahead from the previous note\n",
        "    #as it will prevent notes to stack up \n",
        "    new_chord = chord.Chord(notes)\n",
        "    new_chord.offset = offset\n",
        "    output_notes.append(new_chord)\n",
        "  \n",
        "  else:\n",
        "    #cast the pattern to Note object apply the offset and \n",
        "    #append the note\n",
        "    new_note = note.Note(pattern)\n",
        "    new_note.offset = offset\n",
        "    new_note.storedInstrument = instrument.Piano()\n",
        "    output_notes.append(new_note)\n",
        "\n",
        "#save the midi file \n",
        "midi_stream = stream.Stream(output_notes)\n",
        "midi_stream.write('midi', fp='AI_composed_music.mid')"
      ]
    },
    {
      "cell_type": "code",
      "execution_count": null,
      "metadata": {
        "colab": {
          "background_save": true
        },
        "id": "h2XRlRvAMTGW"
      },
      "outputs": [],
      "source": [
        ""
      ]
    }
  ],
  "metadata": {
    "accelerator": "GPU",
    "colab": {
      "collapsed_sections": [],
      "name": "Musify.ipynb",
      "provenance": [],
      "authorship_tag": "ABX9TyOZldar1deP57d+eAUlHOfE",
      "include_colab_link": true
    },
    "gpuClass": "standard",
    "kernelspec": {
      "display_name": "Python 3",
      "name": "python3"
    },
    "language_info": {
      "name": "python"
    }
  },
  "nbformat": 4,
  "nbformat_minor": 0
}