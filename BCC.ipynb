{
  "cells": [
    {
      "cell_type": "markdown",
      "metadata": {
        "id": "view-in-github",
        "colab_type": "text"
      },
      "source": [
        "<a href=\"https://colab.research.google.com/github/udaybhaskar717/Musify/blob/main/BCC.ipynb\" target=\"_parent\"><img src=\"https://colab.research.google.com/assets/colab-badge.svg\" alt=\"Open In Colab\"/></a>"
      ]
    },
    {
      "cell_type": "code",
      "execution_count": 1,
      "metadata": {
        "colab": {
          "base_uri": "https://localhost:8080/"
        },
        "id": "PsEiHJzRHX-7",
        "outputId": "106cde8d-4ef7-4856-c0f8-a2aec204886d"
      },
      "outputs": [
        {
          "output_type": "stream",
          "name": "stdout",
          "text": [
            "Looking in indexes: https://pypi.org/simple, https://us-python.pkg.dev/colab-wheels/public/simple/\n",
            "Collecting molmass\n",
            "  Downloading molmass-2021.6.18-py3-none-any.whl (66 kB)\n",
            "\u001b[K     |████████████████████████████████| 66 kB 1.5 MB/s \n",
            "\u001b[?25hInstalling collected packages: molmass\n",
            "Successfully installed molmass-2021.6.18\n"
          ]
        }
      ],
      "source": [
        "pip install molmass"
      ]
    },
    {
      "cell_type": "code",
      "execution_count": 2,
      "metadata": {
        "id": "mwcua9psNtjC"
      },
      "outputs": [],
      "source": [
        "import pandas as pd\n",
        "import numpy as np\n",
        "from molmass import Formula"
      ]
    },
    {
      "cell_type": "code",
      "execution_count": 3,
      "metadata": {
        "id": "arMSGN0yNzGr"
      },
      "outputs": [],
      "source": [
        "data=pd.read_excel(\"/content/BCC_NEW.xlsx\")\n"
      ]
    },
    {
      "cell_type": "code",
      "execution_count": 4,
      "metadata": {
        "colab": {
          "base_uri": "https://localhost:8080/",
          "height": 423
        },
        "id": "gheIFhpBN6M0",
        "outputId": "6e285abe-40b3-433e-e958-8145f4bf0692"
      },
      "outputs": [
        {
          "output_type": "execute_result",
          "data": {
            "text/plain": [
              "                     Composition       Comment 1   Wt.% H\n",
              "0                       Nb1-xFex  (x=0.004-0.01)  2.0-2.1\n",
              "1                   Nb.994Ge.006             NaN     92.1\n",
              "2                       Nb1-xSix  (x=0.01-0.026)  2.0-2.1\n",
              "3                       Ni1-xCux     (x=0.1-0.5)  0.4-1.2\n",
              "4                       Ni.8Cu.2             NaN       --\n",
              "..                           ...             ...      ...\n",
              "283      V0.56Ti0.20Cr0.12Mn0.12             NaN     1.85\n",
              "284  V0.778Ti0.074Zr0.074Ni0.074             NaN     1.35\n",
              "285    V0.77Ti0.10Cr0.06Fe0.06Zr             NaN     1.82\n",
              "286    V0.40Ti0.225Cr0.325Fe0.05             NaN     0.75\n",
              "287      V0.57Ti0.16Zr0.05Cr0.22             NaN     2.14\n",
              "\n",
              "[288 rows x 3 columns]"
            ],
            "text/html": [
              "\n",
              "  <div id=\"df-13244b27-737c-4900-b27f-e82a8c2c46d0\">\n",
              "    <div class=\"colab-df-container\">\n",
              "      <div>\n",
              "<style scoped>\n",
              "    .dataframe tbody tr th:only-of-type {\n",
              "        vertical-align: middle;\n",
              "    }\n",
              "\n",
              "    .dataframe tbody tr th {\n",
              "        vertical-align: top;\n",
              "    }\n",
              "\n",
              "    .dataframe thead th {\n",
              "        text-align: right;\n",
              "    }\n",
              "</style>\n",
              "<table border=\"1\" class=\"dataframe\">\n",
              "  <thead>\n",
              "    <tr style=\"text-align: right;\">\n",
              "      <th></th>\n",
              "      <th>Composition</th>\n",
              "      <th>Comment 1</th>\n",
              "      <th>Wt.% H</th>\n",
              "    </tr>\n",
              "  </thead>\n",
              "  <tbody>\n",
              "    <tr>\n",
              "      <th>0</th>\n",
              "      <td>Nb1-xFex</td>\n",
              "      <td>(x=0.004-0.01)</td>\n",
              "      <td>2.0-2.1</td>\n",
              "    </tr>\n",
              "    <tr>\n",
              "      <th>1</th>\n",
              "      <td>Nb.994Ge.006</td>\n",
              "      <td>NaN</td>\n",
              "      <td>92.1</td>\n",
              "    </tr>\n",
              "    <tr>\n",
              "      <th>2</th>\n",
              "      <td>Nb1-xSix</td>\n",
              "      <td>(x=0.01-0.026)</td>\n",
              "      <td>2.0-2.1</td>\n",
              "    </tr>\n",
              "    <tr>\n",
              "      <th>3</th>\n",
              "      <td>Ni1-xCux</td>\n",
              "      <td>(x=0.1-0.5)</td>\n",
              "      <td>0.4-1.2</td>\n",
              "    </tr>\n",
              "    <tr>\n",
              "      <th>4</th>\n",
              "      <td>Ni.8Cu.2</td>\n",
              "      <td>NaN</td>\n",
              "      <td>--</td>\n",
              "    </tr>\n",
              "    <tr>\n",
              "      <th>...</th>\n",
              "      <td>...</td>\n",
              "      <td>...</td>\n",
              "      <td>...</td>\n",
              "    </tr>\n",
              "    <tr>\n",
              "      <th>283</th>\n",
              "      <td>V0.56Ti0.20Cr0.12Mn0.12</td>\n",
              "      <td>NaN</td>\n",
              "      <td>1.85</td>\n",
              "    </tr>\n",
              "    <tr>\n",
              "      <th>284</th>\n",
              "      <td>V0.778Ti0.074Zr0.074Ni0.074</td>\n",
              "      <td>NaN</td>\n",
              "      <td>1.35</td>\n",
              "    </tr>\n",
              "    <tr>\n",
              "      <th>285</th>\n",
              "      <td>V0.77Ti0.10Cr0.06Fe0.06Zr</td>\n",
              "      <td>NaN</td>\n",
              "      <td>1.82</td>\n",
              "    </tr>\n",
              "    <tr>\n",
              "      <th>286</th>\n",
              "      <td>V0.40Ti0.225Cr0.325Fe0.05</td>\n",
              "      <td>NaN</td>\n",
              "      <td>0.75</td>\n",
              "    </tr>\n",
              "    <tr>\n",
              "      <th>287</th>\n",
              "      <td>V0.57Ti0.16Zr0.05Cr0.22</td>\n",
              "      <td>NaN</td>\n",
              "      <td>2.14</td>\n",
              "    </tr>\n",
              "  </tbody>\n",
              "</table>\n",
              "<p>288 rows × 3 columns</p>\n",
              "</div>\n",
              "      <button class=\"colab-df-convert\" onclick=\"convertToInteractive('df-13244b27-737c-4900-b27f-e82a8c2c46d0')\"\n",
              "              title=\"Convert this dataframe to an interactive table.\"\n",
              "              style=\"display:none;\">\n",
              "        \n",
              "  <svg xmlns=\"http://www.w3.org/2000/svg\" height=\"24px\"viewBox=\"0 0 24 24\"\n",
              "       width=\"24px\">\n",
              "    <path d=\"M0 0h24v24H0V0z\" fill=\"none\"/>\n",
              "    <path d=\"M18.56 5.44l.94 2.06.94-2.06 2.06-.94-2.06-.94-.94-2.06-.94 2.06-2.06.94zm-11 1L8.5 8.5l.94-2.06 2.06-.94-2.06-.94L8.5 2.5l-.94 2.06-2.06.94zm10 10l.94 2.06.94-2.06 2.06-.94-2.06-.94-.94-2.06-.94 2.06-2.06.94z\"/><path d=\"M17.41 7.96l-1.37-1.37c-.4-.4-.92-.59-1.43-.59-.52 0-1.04.2-1.43.59L10.3 9.45l-7.72 7.72c-.78.78-.78 2.05 0 2.83L4 21.41c.39.39.9.59 1.41.59.51 0 1.02-.2 1.41-.59l7.78-7.78 2.81-2.81c.8-.78.8-2.07 0-2.86zM5.41 20L4 18.59l7.72-7.72 1.47 1.35L5.41 20z\"/>\n",
              "  </svg>\n",
              "      </button>\n",
              "      \n",
              "  <style>\n",
              "    .colab-df-container {\n",
              "      display:flex;\n",
              "      flex-wrap:wrap;\n",
              "      gap: 12px;\n",
              "    }\n",
              "\n",
              "    .colab-df-convert {\n",
              "      background-color: #E8F0FE;\n",
              "      border: none;\n",
              "      border-radius: 50%;\n",
              "      cursor: pointer;\n",
              "      display: none;\n",
              "      fill: #1967D2;\n",
              "      height: 32px;\n",
              "      padding: 0 0 0 0;\n",
              "      width: 32px;\n",
              "    }\n",
              "\n",
              "    .colab-df-convert:hover {\n",
              "      background-color: #E2EBFA;\n",
              "      box-shadow: 0px 1px 2px rgba(60, 64, 67, 0.3), 0px 1px 3px 1px rgba(60, 64, 67, 0.15);\n",
              "      fill: #174EA6;\n",
              "    }\n",
              "\n",
              "    [theme=dark] .colab-df-convert {\n",
              "      background-color: #3B4455;\n",
              "      fill: #D2E3FC;\n",
              "    }\n",
              "\n",
              "    [theme=dark] .colab-df-convert:hover {\n",
              "      background-color: #434B5C;\n",
              "      box-shadow: 0px 1px 3px 1px rgba(0, 0, 0, 0.15);\n",
              "      filter: drop-shadow(0px 1px 2px rgba(0, 0, 0, 0.3));\n",
              "      fill: #FFFFFF;\n",
              "    }\n",
              "  </style>\n",
              "\n",
              "      <script>\n",
              "        const buttonEl =\n",
              "          document.querySelector('#df-13244b27-737c-4900-b27f-e82a8c2c46d0 button.colab-df-convert');\n",
              "        buttonEl.style.display =\n",
              "          google.colab.kernel.accessAllowed ? 'block' : 'none';\n",
              "\n",
              "        async function convertToInteractive(key) {\n",
              "          const element = document.querySelector('#df-13244b27-737c-4900-b27f-e82a8c2c46d0');\n",
              "          const dataTable =\n",
              "            await google.colab.kernel.invokeFunction('convertToInteractive',\n",
              "                                                     [key], {});\n",
              "          if (!dataTable) return;\n",
              "\n",
              "          const docLinkHtml = 'Like what you see? Visit the ' +\n",
              "            '<a target=\"_blank\" href=https://colab.research.google.com/notebooks/data_table.ipynb>data table notebook</a>'\n",
              "            + ' to learn more about interactive tables.';\n",
              "          element.innerHTML = '';\n",
              "          dataTable['output_type'] = 'display_data';\n",
              "          await google.colab.output.renderOutput(dataTable, element);\n",
              "          const docLink = document.createElement('div');\n",
              "          docLink.innerHTML = docLinkHtml;\n",
              "          element.appendChild(docLink);\n",
              "        }\n",
              "      </script>\n",
              "    </div>\n",
              "  </div>\n",
              "  "
            ]
          },
          "metadata": {},
          "execution_count": 4
        }
      ],
      "source": [
        "data"
      ]
    },
    {
      "cell_type": "code",
      "execution_count": 5,
      "metadata": {
        "colab": {
          "base_uri": "https://localhost:8080/",
          "height": 423
        },
        "id": "d3VZT5-AN9fz",
        "outputId": "4ab788a0-0e49-4481-b8a2-41c057709bf9"
      },
      "outputs": [
        {
          "output_type": "execute_result",
          "data": {
            "text/plain": [
              "                     Composition       Comment 1   Wt.% H\n",
              "0                       Nb1-xFex  (x=0.004-0.01)  2.0-2.1\n",
              "1                   Nb.994Ge.006             NaN     92.1\n",
              "2                       Nb1-xSix  (x=0.01-0.026)  2.0-2.1\n",
              "3                       Ni1-xCux     (x=0.1-0.5)  0.4-1.2\n",
              "4                       Ni.8Cu.2             NaN       --\n",
              "..                           ...             ...      ...\n",
              "283      V0.56Ti0.20Cr0.12Mn0.12             NaN     1.85\n",
              "284  V0.778Ti0.074Zr0.074Ni0.074             NaN     1.35\n",
              "285    V0.77Ti0.10Cr0.06Fe0.06Zr             NaN     1.82\n",
              "286    V0.40Ti0.225Cr0.325Fe0.05             NaN     0.75\n",
              "287      V0.57Ti0.16Zr0.05Cr0.22             NaN     2.14\n",
              "\n",
              "[288 rows x 3 columns]"
            ],
            "text/html": [
              "\n",
              "  <div id=\"df-98e0f124-fc04-4072-a2ce-82d166d5d552\">\n",
              "    <div class=\"colab-df-container\">\n",
              "      <div>\n",
              "<style scoped>\n",
              "    .dataframe tbody tr th:only-of-type {\n",
              "        vertical-align: middle;\n",
              "    }\n",
              "\n",
              "    .dataframe tbody tr th {\n",
              "        vertical-align: top;\n",
              "    }\n",
              "\n",
              "    .dataframe thead th {\n",
              "        text-align: right;\n",
              "    }\n",
              "</style>\n",
              "<table border=\"1\" class=\"dataframe\">\n",
              "  <thead>\n",
              "    <tr style=\"text-align: right;\">\n",
              "      <th></th>\n",
              "      <th>Composition</th>\n",
              "      <th>Comment 1</th>\n",
              "      <th>Wt.% H</th>\n",
              "    </tr>\n",
              "  </thead>\n",
              "  <tbody>\n",
              "    <tr>\n",
              "      <th>0</th>\n",
              "      <td>Nb1-xFex</td>\n",
              "      <td>(x=0.004-0.01)</td>\n",
              "      <td>2.0-2.1</td>\n",
              "    </tr>\n",
              "    <tr>\n",
              "      <th>1</th>\n",
              "      <td>Nb.994Ge.006</td>\n",
              "      <td>NaN</td>\n",
              "      <td>92.1</td>\n",
              "    </tr>\n",
              "    <tr>\n",
              "      <th>2</th>\n",
              "      <td>Nb1-xSix</td>\n",
              "      <td>(x=0.01-0.026)</td>\n",
              "      <td>2.0-2.1</td>\n",
              "    </tr>\n",
              "    <tr>\n",
              "      <th>3</th>\n",
              "      <td>Ni1-xCux</td>\n",
              "      <td>(x=0.1-0.5)</td>\n",
              "      <td>0.4-1.2</td>\n",
              "    </tr>\n",
              "    <tr>\n",
              "      <th>4</th>\n",
              "      <td>Ni.8Cu.2</td>\n",
              "      <td>NaN</td>\n",
              "      <td>--</td>\n",
              "    </tr>\n",
              "    <tr>\n",
              "      <th>...</th>\n",
              "      <td>...</td>\n",
              "      <td>...</td>\n",
              "      <td>...</td>\n",
              "    </tr>\n",
              "    <tr>\n",
              "      <th>283</th>\n",
              "      <td>V0.56Ti0.20Cr0.12Mn0.12</td>\n",
              "      <td>NaN</td>\n",
              "      <td>1.85</td>\n",
              "    </tr>\n",
              "    <tr>\n",
              "      <th>284</th>\n",
              "      <td>V0.778Ti0.074Zr0.074Ni0.074</td>\n",
              "      <td>NaN</td>\n",
              "      <td>1.35</td>\n",
              "    </tr>\n",
              "    <tr>\n",
              "      <th>285</th>\n",
              "      <td>V0.77Ti0.10Cr0.06Fe0.06Zr</td>\n",
              "      <td>NaN</td>\n",
              "      <td>1.82</td>\n",
              "    </tr>\n",
              "    <tr>\n",
              "      <th>286</th>\n",
              "      <td>V0.40Ti0.225Cr0.325Fe0.05</td>\n",
              "      <td>NaN</td>\n",
              "      <td>0.75</td>\n",
              "    </tr>\n",
              "    <tr>\n",
              "      <th>287</th>\n",
              "      <td>V0.57Ti0.16Zr0.05Cr0.22</td>\n",
              "      <td>NaN</td>\n",
              "      <td>2.14</td>\n",
              "    </tr>\n",
              "  </tbody>\n",
              "</table>\n",
              "<p>288 rows × 3 columns</p>\n",
              "</div>\n",
              "      <button class=\"colab-df-convert\" onclick=\"convertToInteractive('df-98e0f124-fc04-4072-a2ce-82d166d5d552')\"\n",
              "              title=\"Convert this dataframe to an interactive table.\"\n",
              "              style=\"display:none;\">\n",
              "        \n",
              "  <svg xmlns=\"http://www.w3.org/2000/svg\" height=\"24px\"viewBox=\"0 0 24 24\"\n",
              "       width=\"24px\">\n",
              "    <path d=\"M0 0h24v24H0V0z\" fill=\"none\"/>\n",
              "    <path d=\"M18.56 5.44l.94 2.06.94-2.06 2.06-.94-2.06-.94-.94-2.06-.94 2.06-2.06.94zm-11 1L8.5 8.5l.94-2.06 2.06-.94-2.06-.94L8.5 2.5l-.94 2.06-2.06.94zm10 10l.94 2.06.94-2.06 2.06-.94-2.06-.94-.94-2.06-.94 2.06-2.06.94z\"/><path d=\"M17.41 7.96l-1.37-1.37c-.4-.4-.92-.59-1.43-.59-.52 0-1.04.2-1.43.59L10.3 9.45l-7.72 7.72c-.78.78-.78 2.05 0 2.83L4 21.41c.39.39.9.59 1.41.59.51 0 1.02-.2 1.41-.59l7.78-7.78 2.81-2.81c.8-.78.8-2.07 0-2.86zM5.41 20L4 18.59l7.72-7.72 1.47 1.35L5.41 20z\"/>\n",
              "  </svg>\n",
              "      </button>\n",
              "      \n",
              "  <style>\n",
              "    .colab-df-container {\n",
              "      display:flex;\n",
              "      flex-wrap:wrap;\n",
              "      gap: 12px;\n",
              "    }\n",
              "\n",
              "    .colab-df-convert {\n",
              "      background-color: #E8F0FE;\n",
              "      border: none;\n",
              "      border-radius: 50%;\n",
              "      cursor: pointer;\n",
              "      display: none;\n",
              "      fill: #1967D2;\n",
              "      height: 32px;\n",
              "      padding: 0 0 0 0;\n",
              "      width: 32px;\n",
              "    }\n",
              "\n",
              "    .colab-df-convert:hover {\n",
              "      background-color: #E2EBFA;\n",
              "      box-shadow: 0px 1px 2px rgba(60, 64, 67, 0.3), 0px 1px 3px 1px rgba(60, 64, 67, 0.15);\n",
              "      fill: #174EA6;\n",
              "    }\n",
              "\n",
              "    [theme=dark] .colab-df-convert {\n",
              "      background-color: #3B4455;\n",
              "      fill: #D2E3FC;\n",
              "    }\n",
              "\n",
              "    [theme=dark] .colab-df-convert:hover {\n",
              "      background-color: #434B5C;\n",
              "      box-shadow: 0px 1px 3px 1px rgba(0, 0, 0, 0.15);\n",
              "      filter: drop-shadow(0px 1px 2px rgba(0, 0, 0, 0.3));\n",
              "      fill: #FFFFFF;\n",
              "    }\n",
              "  </style>\n",
              "\n",
              "      <script>\n",
              "        const buttonEl =\n",
              "          document.querySelector('#df-98e0f124-fc04-4072-a2ce-82d166d5d552 button.colab-df-convert');\n",
              "        buttonEl.style.display =\n",
              "          google.colab.kernel.accessAllowed ? 'block' : 'none';\n",
              "\n",
              "        async function convertToInteractive(key) {\n",
              "          const element = document.querySelector('#df-98e0f124-fc04-4072-a2ce-82d166d5d552');\n",
              "          const dataTable =\n",
              "            await google.colab.kernel.invokeFunction('convertToInteractive',\n",
              "                                                     [key], {});\n",
              "          if (!dataTable) return;\n",
              "\n",
              "          const docLinkHtml = 'Like what you see? Visit the ' +\n",
              "            '<a target=\"_blank\" href=https://colab.research.google.com/notebooks/data_table.ipynb>data table notebook</a>'\n",
              "            + ' to learn more about interactive tables.';\n",
              "          element.innerHTML = '';\n",
              "          dataTable['output_type'] = 'display_data';\n",
              "          await google.colab.output.renderOutput(dataTable, element);\n",
              "          const docLink = document.createElement('div');\n",
              "          docLink.innerHTML = docLinkHtml;\n",
              "          element.appendChild(docLink);\n",
              "        }\n",
              "      </script>\n",
              "    </div>\n",
              "  </div>\n",
              "  "
            ]
          },
          "metadata": {},
          "execution_count": 5
        }
      ],
      "source": [
        "data[['Composition','Comment 1','Wt.% H']]"
      ]
    },
    {
      "cell_type": "code",
      "execution_count": 6,
      "metadata": {
        "colab": {
          "base_uri": "https://localhost:8080/"
        },
        "id": "DEWqSS2mOCL0",
        "outputId": "33904768-1563-4448-b1a9-ecf0090a5cdd"
      },
      "outputs": [
        {
          "output_type": "execute_result",
          "data": {
            "text/plain": [
              "array([66])"
            ]
          },
          "metadata": {},
          "execution_count": 6
        }
      ],
      "source": [
        "data['Comment 1'].shape-data['Comment 1'].isnull().sum()"
      ]
    },
    {
      "cell_type": "code",
      "execution_count": 7,
      "metadata": {
        "colab": {
          "base_uri": "https://localhost:8080/"
        },
        "id": "5zSE6r7DOU2r",
        "outputId": "d5c7f6ce-f663-4471-99ba-cb1818cef844"
      },
      "outputs": [
        {
          "output_type": "execute_result",
          "data": {
            "text/plain": [
              "0      (x=0.004-0.01)\n",
              "1                 NaN\n",
              "2      (x=0.01-0.026)\n",
              "3         (x=0.1-0.5)\n",
              "4                 NaN\n",
              "5                 NaN\n",
              "6                 NaN\n",
              "7                 NaN\n",
              "8           (x=0-0.4)\n",
              "9                 NaN\n",
              "10                NaN\n",
              "11                NaN\n",
              "12                NaN\n",
              "13                NaN\n",
              "14    (x=0.033-0.162)\n",
              "15                NaN\n",
              "16          (x=0-0.1)\n",
              "17                NaN\n",
              "18                NaN\n",
              "19    (x=0.075-0.101)\n",
              "Name: Comment 1, dtype: object"
            ]
          },
          "metadata": {},
          "execution_count": 7
        }
      ],
      "source": [
        "data['Comment 1'].head(20)"
      ]
    },
    {
      "cell_type": "code",
      "execution_count": 8,
      "metadata": {
        "colab": {
          "base_uri": "https://localhost:8080/"
        },
        "id": "pxB2sk9IObGb",
        "outputId": "95d64f58-1c95-4997-b652-bf223910f9b5"
      },
      "outputs": [
        {
          "output_type": "execute_result",
          "data": {
            "text/plain": [
              "array([288])"
            ]
          },
          "metadata": {},
          "execution_count": 8
        }
      ],
      "source": [
        "data['Wt.% H'].shape-data['Wt.% H'].isnull().sum()"
      ]
    },
    {
      "cell_type": "code",
      "execution_count": 9,
      "metadata": {
        "id": "htuedIKBPwnf"
      },
      "outputs": [],
      "source": [
        "df=data[data[\"Wt.% H\"] !='--']"
      ]
    },
    {
      "cell_type": "code",
      "execution_count": 10,
      "metadata": {
        "colab": {
          "base_uri": "https://localhost:8080/",
          "height": 423
        },
        "id": "7ZdQco94VvcA",
        "outputId": "ad439c87-a729-49f3-c6bf-bf970da28da4"
      },
      "outputs": [
        {
          "output_type": "execute_result",
          "data": {
            "text/plain": [
              "                     Composition       Comment 1   Wt.% H\n",
              "0                       Nb1-xFex  (x=0.004-0.01)  2.0-2.1\n",
              "1                   Nb.994Ge.006             NaN     92.1\n",
              "2                       Nb1-xSix  (x=0.01-0.026)  2.0-2.1\n",
              "3                       Ni1-xCux     (x=0.1-0.5)  0.4-1.2\n",
              "5                   Ni.979Fe.021             NaN      1.6\n",
              "..                           ...             ...      ...\n",
              "283      V0.56Ti0.20Cr0.12Mn0.12             NaN     1.85\n",
              "284  V0.778Ti0.074Zr0.074Ni0.074             NaN     1.35\n",
              "285    V0.77Ti0.10Cr0.06Fe0.06Zr             NaN     1.82\n",
              "286    V0.40Ti0.225Cr0.325Fe0.05             NaN     0.75\n",
              "287      V0.57Ti0.16Zr0.05Cr0.22             NaN     2.14\n",
              "\n",
              "[271 rows x 3 columns]"
            ],
            "text/html": [
              "\n",
              "  <div id=\"df-70945b29-b0d8-4620-ba2a-4b21b8b0381f\">\n",
              "    <div class=\"colab-df-container\">\n",
              "      <div>\n",
              "<style scoped>\n",
              "    .dataframe tbody tr th:only-of-type {\n",
              "        vertical-align: middle;\n",
              "    }\n",
              "\n",
              "    .dataframe tbody tr th {\n",
              "        vertical-align: top;\n",
              "    }\n",
              "\n",
              "    .dataframe thead th {\n",
              "        text-align: right;\n",
              "    }\n",
              "</style>\n",
              "<table border=\"1\" class=\"dataframe\">\n",
              "  <thead>\n",
              "    <tr style=\"text-align: right;\">\n",
              "      <th></th>\n",
              "      <th>Composition</th>\n",
              "      <th>Comment 1</th>\n",
              "      <th>Wt.% H</th>\n",
              "    </tr>\n",
              "  </thead>\n",
              "  <tbody>\n",
              "    <tr>\n",
              "      <th>0</th>\n",
              "      <td>Nb1-xFex</td>\n",
              "      <td>(x=0.004-0.01)</td>\n",
              "      <td>2.0-2.1</td>\n",
              "    </tr>\n",
              "    <tr>\n",
              "      <th>1</th>\n",
              "      <td>Nb.994Ge.006</td>\n",
              "      <td>NaN</td>\n",
              "      <td>92.1</td>\n",
              "    </tr>\n",
              "    <tr>\n",
              "      <th>2</th>\n",
              "      <td>Nb1-xSix</td>\n",
              "      <td>(x=0.01-0.026)</td>\n",
              "      <td>2.0-2.1</td>\n",
              "    </tr>\n",
              "    <tr>\n",
              "      <th>3</th>\n",
              "      <td>Ni1-xCux</td>\n",
              "      <td>(x=0.1-0.5)</td>\n",
              "      <td>0.4-1.2</td>\n",
              "    </tr>\n",
              "    <tr>\n",
              "      <th>5</th>\n",
              "      <td>Ni.979Fe.021</td>\n",
              "      <td>NaN</td>\n",
              "      <td>1.6</td>\n",
              "    </tr>\n",
              "    <tr>\n",
              "      <th>...</th>\n",
              "      <td>...</td>\n",
              "      <td>...</td>\n",
              "      <td>...</td>\n",
              "    </tr>\n",
              "    <tr>\n",
              "      <th>283</th>\n",
              "      <td>V0.56Ti0.20Cr0.12Mn0.12</td>\n",
              "      <td>NaN</td>\n",
              "      <td>1.85</td>\n",
              "    </tr>\n",
              "    <tr>\n",
              "      <th>284</th>\n",
              "      <td>V0.778Ti0.074Zr0.074Ni0.074</td>\n",
              "      <td>NaN</td>\n",
              "      <td>1.35</td>\n",
              "    </tr>\n",
              "    <tr>\n",
              "      <th>285</th>\n",
              "      <td>V0.77Ti0.10Cr0.06Fe0.06Zr</td>\n",
              "      <td>NaN</td>\n",
              "      <td>1.82</td>\n",
              "    </tr>\n",
              "    <tr>\n",
              "      <th>286</th>\n",
              "      <td>V0.40Ti0.225Cr0.325Fe0.05</td>\n",
              "      <td>NaN</td>\n",
              "      <td>0.75</td>\n",
              "    </tr>\n",
              "    <tr>\n",
              "      <th>287</th>\n",
              "      <td>V0.57Ti0.16Zr0.05Cr0.22</td>\n",
              "      <td>NaN</td>\n",
              "      <td>2.14</td>\n",
              "    </tr>\n",
              "  </tbody>\n",
              "</table>\n",
              "<p>271 rows × 3 columns</p>\n",
              "</div>\n",
              "      <button class=\"colab-df-convert\" onclick=\"convertToInteractive('df-70945b29-b0d8-4620-ba2a-4b21b8b0381f')\"\n",
              "              title=\"Convert this dataframe to an interactive table.\"\n",
              "              style=\"display:none;\">\n",
              "        \n",
              "  <svg xmlns=\"http://www.w3.org/2000/svg\" height=\"24px\"viewBox=\"0 0 24 24\"\n",
              "       width=\"24px\">\n",
              "    <path d=\"M0 0h24v24H0V0z\" fill=\"none\"/>\n",
              "    <path d=\"M18.56 5.44l.94 2.06.94-2.06 2.06-.94-2.06-.94-.94-2.06-.94 2.06-2.06.94zm-11 1L8.5 8.5l.94-2.06 2.06-.94-2.06-.94L8.5 2.5l-.94 2.06-2.06.94zm10 10l.94 2.06.94-2.06 2.06-.94-2.06-.94-.94-2.06-.94 2.06-2.06.94z\"/><path d=\"M17.41 7.96l-1.37-1.37c-.4-.4-.92-.59-1.43-.59-.52 0-1.04.2-1.43.59L10.3 9.45l-7.72 7.72c-.78.78-.78 2.05 0 2.83L4 21.41c.39.39.9.59 1.41.59.51 0 1.02-.2 1.41-.59l7.78-7.78 2.81-2.81c.8-.78.8-2.07 0-2.86zM5.41 20L4 18.59l7.72-7.72 1.47 1.35L5.41 20z\"/>\n",
              "  </svg>\n",
              "      </button>\n",
              "      \n",
              "  <style>\n",
              "    .colab-df-container {\n",
              "      display:flex;\n",
              "      flex-wrap:wrap;\n",
              "      gap: 12px;\n",
              "    }\n",
              "\n",
              "    .colab-df-convert {\n",
              "      background-color: #E8F0FE;\n",
              "      border: none;\n",
              "      border-radius: 50%;\n",
              "      cursor: pointer;\n",
              "      display: none;\n",
              "      fill: #1967D2;\n",
              "      height: 32px;\n",
              "      padding: 0 0 0 0;\n",
              "      width: 32px;\n",
              "    }\n",
              "\n",
              "    .colab-df-convert:hover {\n",
              "      background-color: #E2EBFA;\n",
              "      box-shadow: 0px 1px 2px rgba(60, 64, 67, 0.3), 0px 1px 3px 1px rgba(60, 64, 67, 0.15);\n",
              "      fill: #174EA6;\n",
              "    }\n",
              "\n",
              "    [theme=dark] .colab-df-convert {\n",
              "      background-color: #3B4455;\n",
              "      fill: #D2E3FC;\n",
              "    }\n",
              "\n",
              "    [theme=dark] .colab-df-convert:hover {\n",
              "      background-color: #434B5C;\n",
              "      box-shadow: 0px 1px 3px 1px rgba(0, 0, 0, 0.15);\n",
              "      filter: drop-shadow(0px 1px 2px rgba(0, 0, 0, 0.3));\n",
              "      fill: #FFFFFF;\n",
              "    }\n",
              "  </style>\n",
              "\n",
              "      <script>\n",
              "        const buttonEl =\n",
              "          document.querySelector('#df-70945b29-b0d8-4620-ba2a-4b21b8b0381f button.colab-df-convert');\n",
              "        buttonEl.style.display =\n",
              "          google.colab.kernel.accessAllowed ? 'block' : 'none';\n",
              "\n",
              "        async function convertToInteractive(key) {\n",
              "          const element = document.querySelector('#df-70945b29-b0d8-4620-ba2a-4b21b8b0381f');\n",
              "          const dataTable =\n",
              "            await google.colab.kernel.invokeFunction('convertToInteractive',\n",
              "                                                     [key], {});\n",
              "          if (!dataTable) return;\n",
              "\n",
              "          const docLinkHtml = 'Like what you see? Visit the ' +\n",
              "            '<a target=\"_blank\" href=https://colab.research.google.com/notebooks/data_table.ipynb>data table notebook</a>'\n",
              "            + ' to learn more about interactive tables.';\n",
              "          element.innerHTML = '';\n",
              "          dataTable['output_type'] = 'display_data';\n",
              "          await google.colab.output.renderOutput(dataTable, element);\n",
              "          const docLink = document.createElement('div');\n",
              "          docLink.innerHTML = docLinkHtml;\n",
              "          element.appendChild(docLink);\n",
              "        }\n",
              "      </script>\n",
              "    </div>\n",
              "  </div>\n",
              "  "
            ]
          },
          "metadata": {},
          "execution_count": 10
        }
      ],
      "source": [
        "df"
      ]
    },
    {
      "cell_type": "code",
      "execution_count": 11,
      "metadata": {
        "id": "yiAATW-HarAk"
      },
      "outputs": [],
      "source": [
        "def remove_fn(m):\n",
        "    return list(map(float,(''.join(i for i in m if i not in ['X','y','x','(',')','=',\"&\",'a','n','d',' '])).split('-')))"
      ]
    },
    {
      "cell_type": "code",
      "execution_count": 12,
      "metadata": {
        "id": "JdbrLiyLXqVu"
      },
      "outputs": [],
      "source": [
        "index=df[df[\"Comment 1\"].notnull() ].index"
      ]
    },
    {
      "cell_type": "code",
      "execution_count": 13,
      "metadata": {
        "id": "ER_w8vAHwqg6"
      },
      "outputs": [],
      "source": [
        "index1=[i for i in df.index if i not in index]"
      ]
    },
    {
      "cell_type": "code",
      "execution_count": 14,
      "metadata": {
        "id": "DSzWxjs7xW8L"
      },
      "outputs": [],
      "source": [
        "d1=dict()\n",
        "for t in index1:\n",
        "    d1[df.loc[t,\"Composition\"]]=df.loc[t,\"Wt.% H\"]"
      ]
    },
    {
      "cell_type": "code",
      "execution_count": 15,
      "metadata": {
        "colab": {
          "base_uri": "https://localhost:8080/"
        },
        "id": "1KIMyhzvZsCz",
        "outputId": "da6027ef-cfdc-4aac-bdfd-898b703b9ee2"
      },
      "outputs": [
        {
          "output_type": "stream",
          "name": "stdout",
          "text": [
            "{0: [0.004, 0.01], 2: [0.01, 0.026], 3: [0.1, 0.5], 8: [0.0, 0.4], 14: [0.033, 0.162], 16: [0.0, 0.1], 19: [0.075, 0.101], 26: [0.025, 0.075], 27: [0.05, 0.2], 31: [0.02, 0.05], 33: [0.02, 0.05], 40: [0.0, 0.075], 41: [0.025, 0.05], 43: [0.026, 0.083], 45: [0.05, 0.15], 49: [0.05, 0.4], 53: [0.04, 0.1], 55: [0.0, 0.1], 57: [0.025, 0.075], 59: [0.0, 0.1], 62: [0.0, 0.04], 63: [0.02, 0.05], 64: [0.01, 0.04], 67: [0.02, 0.125], 68: [0.11, 0.19], 71: [0.18, 0.33], 72: [0.11, 0.26], 73: [0.14, 0.69], 74: [0.02, 0.35], 76: [0.2, 0.8], 78: [0.2, 0.6], 79: [0.3, 0.8], 81: [0.0, 1.0], 85: [0.005, 0.008], 87: [0.01, 0.049], 88: [0.0, 0.1], 90: [0.001, 0.009], 91: [0.003, 0.011], 96: [0.001, 0.017], 98: [0.004, 0.006], 103: [0.34, 0.5], 116: [0.008, 0.01], 119: [0.23, 0.82], 122: [0.12, 0.25], 124: [0.049, 0.197], 137: [0.02, 0.09], 138: [0.01, 0.03], 139: [0.018, 0.085], 141: [0.05, 0.15], 143: [0.1, 0.3], 156: [0.0, 0.25], 159: [0.1, 0.9], 160: [0.1, 0.9], 169: [0.037, 0.1], 175: [0.2, 0.8], 177: [0.2, 0.8], 181: [0.2, 0.8], 187: [0.0, 0.03], 192: [0.0, 0.1], 229: [0.36, 0.43], 232: [0.025, 0.075], 234: [0.0, 0.15], 235: [0.24, 0.28], 240: [0.03, 0.1]}\n"
          ]
        }
      ],
      "source": [
        "l1=dict()\n",
        "for i in index:\n",
        "    l1[i]=remove_fn(df.loc[i,\"Comment 1\"])\n",
        "print(l1)"
      ]
    },
    {
      "cell_type": "code",
      "execution_count": 16,
      "metadata": {
        "colab": {
          "base_uri": "https://localhost:8080/"
        },
        "id": "OaMj_-1WhL2X",
        "outputId": "89aaaa3d-129f-4a56-d99f-b897d62cdf5f"
      },
      "outputs": [
        {
          "output_type": "stream",
          "name": "stderr",
          "text": [
            "/usr/local/lib/python3.7/dist-packages/pandas/core/indexing.py:1732: SettingWithCopyWarning: \n",
            "A value is trying to be set on a copy of a slice from a DataFrame\n",
            "\n",
            "See the caveats in the documentation: https://pandas.pydata.org/pandas-docs/stable/user_guide/indexing.html#returning-a-view-versus-a-copy\n",
            "  self._setitem_single_block(indexer, value, name)\n",
            "/usr/local/lib/python3.7/dist-packages/pandas/core/indexing.py:723: SettingWithCopyWarning: \n",
            "A value is trying to be set on a copy of a slice from a DataFrame\n",
            "\n",
            "See the caveats in the documentation: https://pandas.pydata.org/pandas-docs/stable/user_guide/indexing.html#returning-a-view-versus-a-copy\n",
            "  iloc._setitem_with_indexer(indexer, value, self.name)\n"
          ]
        }
      ],
      "source": [
        "l2=[]\n",
        "for i in index:\n",
        "    if type(df.loc[i,\"Wt.% H\"])==float:\n",
        "        df.loc[i,\"Wt.% H\"]=str(df.loc[i,\"Wt.% H\"])+'-'+str(df.loc[i,\"Wt.% H\"])\n",
        "    l2+=list(map(float,df.loc[i,\"Wt.% H\"].split('-')))"
      ]
    },
    {
      "cell_type": "code",
      "execution_count": 17,
      "metadata": {
        "id": "pA7BDLVYIABV"
      },
      "outputs": [],
      "source": [
        "X=pd.DataFrame(index=range(len(l1)),columns=[\"Composition\"])"
      ]
    },
    {
      "cell_type": "code",
      "execution_count": 18,
      "metadata": {
        "id": "IgLrtK3wZuCL"
      },
      "outputs": [],
      "source": [
        "l3=[]\n",
        "for i in index:\n",
        "    string=df.loc[i,\"Composition\"]\n",
        "    pos=string.find('-')\n",
        "    #print(string)\n",
        "    if (string[pos-1] !='1') or (string[pos-2:pos] =='.1'):\n",
        "        u=\"\"\n",
        "        e=pos\n",
        "        j=1\n",
        "        while string[e-j] !='.':\n",
        "            u+=string[e-j]\n",
        "            j+=1\n",
        "        k=l1[i]\n",
        "        for h in k:\n",
        "            x=string.replace(\".\"+(u)[::-1]+'-x',str((float(\"0.\"+(u)[::-1])-h)))\n",
        "            l3.append(x.replace('x',str(h)))\n",
        "    else:\n",
        "        k=l1[i]\n",
        "        for h in k:\n",
        "            x=string.replace('1-x',str((1-h)))\n",
        "            l3.append(x.replace('x',str(h)))"
      ]
    },
    {
      "cell_type": "code",
      "execution_count": 19,
      "metadata": {
        "id": "2GHaYEKEmyS2"
      },
      "outputs": [],
      "source": [
        "d2=dict()\n",
        "for g,r in zip(l3,l2):\n",
        "    d2[g]=r\n"
      ]
    },
    {
      "cell_type": "code",
      "execution_count": 20,
      "metadata": {
        "colab": {
          "base_uri": "https://localhost:8080/"
        },
        "id": "ynZ7YHvPv8Nu",
        "outputId": "11d63fb1-8260-4016-d971-48545ab2ad71"
      },
      "outputs": [
        {
          "output_type": "stream",
          "name": "stdout",
          "text": [
            "{'Nb0.996Fe0.004': 2.0, 'Nb0.99Fe0.01': 2.1, 'Nb0.99Si0.01': 2.0, 'Nb0.974Si0.026': 2.1, 'Ni0.9Cu0.1': 0.4, 'Ni0.5Cu0.5': 1.2, 'Pd1.0Ag0.0': 0.2, 'Pd0.6Ag0.4': 0.7, 'Pd0.967B0.033': 0.1, 'Pd0.838B0.162': 0.6, 'Pd1.0Bi0.0': 0.2, 'Pd0.9Bi0.1': 0.7, 'Pd0.925Ce0.075': 0.1, 'Pd0.899Ce0.101': 0.2, 'Pd0.975Cr0.025': 0.5, 'Pd0.925Cr0.075': 0.6, 'Pd0.95Cu0.05': 0.4, 'Pd0.8Cu0.2': 0.6, 'Pd0.98Mo0.02': 0.3, 'Pd0.95Mo0.05': 0.5, 'Pd0.98Nb0.02': 0.3, 'Pd0.95Nb0.05': 0.4, 'Pd0.975Ni.025Rh0.0': 0.6, 'Pd0.9Ni.025Rh0.075': 0.7, 'Pd0.85Ni.125Rh0.025': 0.6, 'Pd0.825Ni.125Rh0.05': 0.6, 'Pd0.974Pb0.026': 0.4, 'Pd0.917Pb0.083': 0.4, 'Pd0.95Pt0.05': 0.2, 'Pd0.85Pt0.15': 0.5, 'Pd0.95Rh0.05': 0.9, 'Pd0.6Rh0.4': 1.0, 'Pd0.96Ru0.04': 0.5, 'Pd0.9Ru0.1': 0.6, 'Pd1.0Sb0.0': 0.2, 'Pd0.9Sb0.1': 0.7, 'Pd0.975Sc0.025': 0.4, 'Pd0.925Sc0.075': 0.55, 'Pd1.0Ti0.0': 0.1, 'Pd0.9Ti0.1': 0.6, 'Pd1.0V0.0': 0.4, 'Pd0.96V0.04': 0.6, 'Pd0.98V0.02': 0.4, 'Pd0.95V0.05': 0.6, 'Pd0.99V0.01': 0.4, 'Pd0.98Y0.02': 0.3, 'Pd0.875Y0.125': 0.5, 'Ti0.89Cr0.11': 3.2, 'Ti0.81Cr0.19': 3.3, 'Ti0.8200000000000001Mo0.18': 2.5, 'Ti0.6699999999999999Mo0.33': 3.7, 'Ti0.89Nb0.11': 3.7, 'Ti0.74Nb0.26': 3.8, 'Ti0.86V0.14': 3.2, 'Ti0.31000000000000005V0.69': 3.8, 'Ti0.98V0.02': 3.7, 'Ti0.65V0.35': 3.8, 'Ti0.8V0.2Fe.02': 3.92, 'Ti0.19999999999999996V0.8Fe.02': 4.14, 'Ti0.8V0.2Ni.02': 3.4, 'Ti0.4V0.6Ni.02': 3.7, 'Ti0.7V0.3Ni.05': 3.3, 'Ti0.19999999999999996V0.8Ni.05': 3.8, 'Ti1.0Zr0.0': 2.1, 'Ti0.0Zr1.0': 3.9, 'V0.995C0.005': 3.8, 'V0.992C0.008': 3.9, 'V0.99Cr0.01': 3.8, 'V0.951Cr0.049': 4.1, 'V1.0Cr0.0': 3.6, 'V0.9Cr0.1': 3.8, 'V0.999Fe0.001': 3.8, 'V0.991Fe0.009': 3.9, 'V0.997Ge0.003': 3.1, 'V0.989Ge0.011': 3.8, 'V0.999Si0.001': 3.5, 'V0.983Si0.017': 3.9, 'V0.996Sn0.004': 3.7, 'V0.994Sn0.006': 3.7, 'V0.6599999999999999Ti0.34': 3.8, 'V0.5Ti0.5': 3.9, 'V0.992W0.008': 3.7, 'V0.99W0.01': 3.7, 'Zr0.77Hf0.23': 0.9, 'Zr0.18000000000000005Hf0.82': 1.5, 'Zr0.88Nb0.12': 2.0, 'Zr0.75Nb0.25': 2.1, 'Zr0.951Nb0.049': 1.9, 'Zr0.8029999999999999Nb0.197': 2.1, 'Pd0.98Cr0.02': 0.3, 'Pd0.91Cr0.09': 0.55, 'Pd0.99Mo0.01': 0.35, 'Pd0.97Mo0.03': 0.55, 'Pd0.982Co0.018': 0.4, 'Pd0.915Co0.085': 0.6, 'V0.95Ti0.05': 3.7, 'V0.85Ti0.15': 3.7, 'Nb0.9V0.1': 2.2, 'Nb0.7V0.3': 2.2, 'Pd1.0Ni0.0': 0.6, 'Pd0.75Ni0.25': 0.8, 'Nb0.09999999999999998V0.9': 3.5, 'Ta0.9V0.1': 0.5, 'Ta0.09999999999999998V0.9': 3.1, 'Pd0.963Fe0.037': 0.5, 'Pd0.9Fe0.1': 0.3, 'Ti0.78V0.2Fe.02': 3.8, 'Ti0.17999999999999994V0.8Fe.02': 4.1, 'Ti0.78V0.2Co.02': 3.6, 'Ti0.17999999999999994V0.8Co.02': 3.8, 'Ti0.75V0.2Ni.05': 3.3, 'Ti0.1499999999999999V0.8Ni.05': 3.8, 'V.7Zr0.0Ti0.103Cr.17': 2.03, 'V.7Zr0.03Ti0.073Cr.17': 2.42, 'Pd.90Rh0.1Ni0.0': 0.7, 'Pd.90Rh0.0Ni0.1': 0.5, 'Ti0.29000000000000004V.35Cr0.36': 2.45, 'Ti0.22000000000000003V.35Cr0.43': 1.72, 'Ti.375V0.025Cr0.6': 2.6, 'Ti.375V0.075Cr0.55': 2.8, 'Ti.28V.35Cr0.37Mn0.0': 2.7, 'Ti.28V.35Cr0.22Mn0.15': 2.4, 'Ti0.24V.35Cr0.31000000000000005Mn.10': 2.7, 'Ti0.28V.35Cr0.27Mn.10': 2.7, 'Nb0.97Cr0.03': 0.9, 'Nb0.9Cr0.1': 0.9}\n"
          ]
        }
      ],
      "source": [
        "print(d2)"
      ]
    },
    {
      "cell_type": "code",
      "execution_count": 21,
      "metadata": {
        "colab": {
          "base_uri": "https://localhost:8080/"
        },
        "id": "Ync05NzDyb0b",
        "outputId": "4617988c-89a5-40f6-b8e8-d7977ed04b5e"
      },
      "outputs": [
        {
          "output_type": "stream",
          "name": "stdout",
          "text": [
            "{'Nb.994Ge.006': 92.1, 'Ni.979Fe.021': 1.6, 'Ni.943Fe.057': 1.4, 'Pd.75Ag.25': 0.4, 'Pd.9Ag.1': 0.5, 'Pd.8Ag.2': 0.4, 'Pd.7Ag.3': 0.3, 'Pd.6Ag.4': 0.2, 'Pd.95Bi.05': 0.4, 'Pd.947Ce.053': 0.3, 'Pd.942Ce.058': 0.4, 'Pd.95Co.05': 0.6, 'Pd.9Co.1': 0.5, 'Pd.9Cu.1': 0.5, 'Pd.95Cr.05': 0.6, 'Pd.972Ir.028': 0.5, 'Pd.942Ir.058': 0.4, 'Pd.927Ir.073': 0.1, 'Pd.975Mo.025': 0.5, 'Pd.85Ni.15': 0.5, 'Pd.95Ni.025Rh.025': 0.7, 'Pd.9Ni.05Rh.05': 0.6, 'Pd.825Ni.1Rh.075': 0.7, 'Pd.946Pb.054': 0.4, 'Pd.95Pt.05': 0.6, 'Pd.9Pt.1': 0.4, 'Pd.7Rh.3': 0.9, 'Pd.95Rh.05': 0.7, 'Pd.9Rh.1': 0.6, 'Pd.8Rh.2': 0.8, 'Pd.95Sb.05': 0.5, 'Pd.95Sc.05': 0.5, 'Pd.952Ti.048': 0.4, 'Pd.95U.05': 0.3, 'Pd.98V.02': 0.5, 'Pd.92Y.08': 0.5, 'Ti.95Cr.05': 3.5, 'Ti.93Mn.07': 3.8, 'Ti.5V.5': 3.88, 'Ti.435V.49Fe.075': 3.8, 'Ti.49Zr.51': 2.8, 'Ti.65Zr.35N.19': 1.9, 'Ti.81Zr.19N.25': 2, 'V.99B.01': 3.72, 'V.99Co.01': 3.4, 'V.855Cr.145': 2.3, 'V.99Mo.01': 3.4, 'V.99Nb.01': 3.5, 'V.8Nb.2': 3.1, 'V.991Ni.009': 3.62, 'V.96Si.04': 3.1, 'V.983Ta.013': 3.28, 'V.992Ti.008': 3.86, 'V.8Ti.2': 3.4, 'V.67Ti.33': 3.88, 'V.8Ti.18Fe.02': 3.79, 'V.6Ti.38Fe.02': 4.14, 'V.99Zr.01': 3.6, 'Zr.97Cr.03': 2.1, 'Zr.96Mo.04': 2, 'ZrN.28': 1.2, 'Zr.975Nb.025': 2.2, 'Zr.7Nb.3N.33': 1.1, 'Zr.5Nb.5N.34': 1, 'Zr.935Nb.024Ni.041': 2.6, 'Zr.924Nb.024Ti.052': 2.2, 'Zr.927Nb.024V.049': 2.7, 'Zr.977Ni.023': 2.4, 'Zr.96Sn.04': 1.9, 'Zr.94V.06': 2.1, 'Nb.8V.2': 2.2, 'Pd.88Pt.06Rh.06': 0.5, 'Pd.85Pt.075Rh.075': 0.4, 'Mg.72Li.28': 5.5, 'V.37Ti.33Mn.3': 2.6, 'Nb.865Fe.065Cr.07': 1, 'Nb.736Fe.184Cr.08': 1, 'Pd.9Ni.1': 0.5, 'Pd.85Rh.15': 0.4, 'Pd.75Rh.25': 0.8, 'Pd.975Rh.025': 0.7, 'Pd.925Rh.075': 0.7, 'Pd.91Ni.09': 0.5, 'V.690Ti.173Ni.112Co.009Nb.008Ta.008': 3, 'V.9Ti.1': 3.3, 'V.87Ti.13': 3.6, 'V.85Ti.15': 3.9, 'Ti.21Cr.29V.50': 3.1, 'Ti.32Cr.29V.39': 2.9, 'Ti.16Zr.05Cr.22V.57': 3.5, 'V.49Ti.43Fe.075': 3.9, 'V.995C.005': 2.1, 'V.975Zr.02C.005': 1.9, 'Ti.50V.45Fe.05': 3.9, 'Ti.50V.45Co.05': 3.5, 'Ti.78V.20Ni.02': 3.5, 'Ti.58V.40Ni.02': 3.7, 'Ta.5Ti.5': 1.5, 'Ta.4Ti.6 (M)': 1.4, 'V.667Zr.111Ti.111Fe.111': 1.65, 'V.667Zr.111Ti.111Mn.111': 1.7, 'V.667Zr.111Ti.111Ni.111': 1.79, 'Pd.96Pt.04': 0.5, 'Pd.92Pt.08': 0.4, 'Pd.90Pt.10': 0.3, 'Ti.23Mn.36V.41': 2.8, 'Pd.90Rh.05Ni.05': 0.6, 'Ti.33V.37Mn.30 (M)': 2.3, 'V.99Ti.01': 3.4, 'V.99Cr.01': 3.5, 'V.99Fe.01': 3.5, 'V.99Ni.01': 3.6, 'V.99Cu.01': 3.5, 'V.99Ru.01': 3.4, 'V.99Rh.01': 3.4, 'V.99Pd.01': 3.5, 'V.99Ag.01': 3.7, 'V.99Hf.01': 3.6, 'V.99Ta.01': 3.5, 'V.99W.01': 3.5, 'V.99Re.01': 3.4, 'V.99Os.01': 3.4, 'V.99Ir.01': 3.4, 'V.99Pt.01': 2.1, 'V.99Au.01': 3.6, 'V.99Al.01': 3.5, 'V.99Si.01': 3.3, 'V.99Ga.01': 3.4, 'V.99In.01': 3.6, 'V.99Sn.01': 3.4, 'Ti.3Cr.5V.2': 2.7, 'Ti.278Cr.422V.25Fe.05': 2.5, 'V.62Ti.2Ni.18': 1.2, 'V.49Ti.30Ni.21': 1.8, 'V.55Ti.30Ni.15': 2.5, 'V.61Ti.30Ni.09': 2.1, 'V.67Ti.30Ni.03': 2.6, 'Ti.25V.35Cr.40': 2.6, 'Ti.346V.10Cr.554': 2.5, 'Ti.375V.075Cr.55': 2.8, 'Pd.95Ag.05': 0.7, 'Pd.901Ag.099': 0.6, 'Pd.90Rh.10': 0.8, 'Nb.95Cr.05': 0.9, 'Nb.97Cr.03': 0.9, 'Pd.90Ag.10': 0.6, 'Pd.9Rh.10': 0.7, 'V': 1, 'V0.8Ti0.2': 0.8, 'V0.9Cr0.1': 3.8, 'V0.8Mo0.2': 1.95, 'V0.75Mo0.15Ti0.1': 2.1, 'V0.9Ti0.1': 0.9, '(V0.855Ti0.095)Cr0.05': 1, '(V0.855Ti0.095)Fe0.05': 0.85, '(V0.882Ti0.098)Zr0.02': 1, '(V0.882Ti0.098)Si0.02': 0.8, '(V0.855Ti0.095)Al0.05': 0.7, 'V0.7Ti0.1Cr0.2': 2.43, 'V0.68Ti0.2Cr0.12': 1.75, 'V0.35Ti0.25Cr0.40': 1.79, 'V0.65Ti0.12Cr0.23': 2.5, 'V0.50Ti0.16Cr0.34': 2.24, 'V0.40Ti0.25Cr0.35': 1.56, 'V0.80Ti0.08Cr0.12': 2.4, 'V0.855Ti0.095Fe0.05': 2.13, 'V0.49Ti0.435Fe0.075': 2.4, '(V0.5547Ti0.3053)Fe14': 2.9, 'V0.68Ti0.20Fe0.12': 1.5, '(V0.554Ti0.3053)Fe14': 1.97, 'V0.88Ti0.10Fe0.02': 1.8, 'V0.593Ti0.245Fe0.162': 1.56, '(V0.554Ti0.3053)Mn14': 1.97, '(V0.60171Ti0.33015)Co7': 0.25, '(V0.60171Ti0.33015)Co8': 0.33, 'V0.63Ti0.20Mn0.17': 1.7, 'V0.57Ti0.16Zr0.05Cr0.22': 2.14, 'V0.75Ti0.175Zr0.075': 0.9, 'V0.75Ti0.10Zr0.075Cr0.075': 1.09, 'V0.75Ti0.10Zr0.075Mn0.075': 0.95, 'V0.75Ti0.10Zr0.075Fe0.075': 0.76, 'V0.75Ti0.10Zr0.075Co0.075': 0.75, 'V0.75Ti0.10Zr0.075Ni0.075': 0.88, 'V0.56Ti0.20Cr0.12Mn0.12': 1.85, 'V0.778Ti0.074Zr0.074Ni0.074': 1.35, 'V0.77Ti0.10Cr0.06Fe0.06Zr': 1.82, 'V0.40Ti0.225Cr0.325Fe0.05': 0.75, 'Nb0.996Fe0.004': 2.0, 'Nb0.99Fe0.01': 2.1, 'Nb0.99Si0.01': 2.0, 'Nb0.974Si0.026': 2.1, 'Ni0.9Cu0.1': 0.4, 'Ni0.5Cu0.5': 1.2, 'Pd1.0Ag0.0': 0.2, 'Pd0.6Ag0.4': 0.7, 'Pd0.967B0.033': 0.1, 'Pd0.838B0.162': 0.6, 'Pd1.0Bi0.0': 0.2, 'Pd0.9Bi0.1': 0.7, 'Pd0.925Ce0.075': 0.1, 'Pd0.899Ce0.101': 0.2, 'Pd0.975Cr0.025': 0.5, 'Pd0.925Cr0.075': 0.6, 'Pd0.95Cu0.05': 0.4, 'Pd0.8Cu0.2': 0.6, 'Pd0.98Mo0.02': 0.3, 'Pd0.95Mo0.05': 0.5, 'Pd0.98Nb0.02': 0.3, 'Pd0.95Nb0.05': 0.4, 'Pd0.975Ni.025Rh0.0': 0.6, 'Pd0.9Ni.025Rh0.075': 0.7, 'Pd0.85Ni.125Rh0.025': 0.6, 'Pd0.825Ni.125Rh0.05': 0.6, 'Pd0.974Pb0.026': 0.4, 'Pd0.917Pb0.083': 0.4, 'Pd0.95Pt0.05': 0.2, 'Pd0.85Pt0.15': 0.5, 'Pd0.95Rh0.05': 0.9, 'Pd0.6Rh0.4': 1.0, 'Pd0.96Ru0.04': 0.5, 'Pd0.9Ru0.1': 0.6, 'Pd1.0Sb0.0': 0.2, 'Pd0.9Sb0.1': 0.7, 'Pd0.975Sc0.025': 0.4, 'Pd0.925Sc0.075': 0.55, 'Pd1.0Ti0.0': 0.1, 'Pd0.9Ti0.1': 0.6, 'Pd1.0V0.0': 0.4, 'Pd0.96V0.04': 0.6, 'Pd0.98V0.02': 0.4, 'Pd0.95V0.05': 0.6, 'Pd0.99V0.01': 0.4, 'Pd0.98Y0.02': 0.3, 'Pd0.875Y0.125': 0.5, 'Ti0.89Cr0.11': 3.2, 'Ti0.81Cr0.19': 3.3, 'Ti0.8200000000000001Mo0.18': 2.5, 'Ti0.6699999999999999Mo0.33': 3.7, 'Ti0.89Nb0.11': 3.7, 'Ti0.74Nb0.26': 3.8, 'Ti0.86V0.14': 3.2, 'Ti0.31000000000000005V0.69': 3.8, 'Ti0.98V0.02': 3.7, 'Ti0.65V0.35': 3.8, 'Ti0.8V0.2Fe.02': 3.92, 'Ti0.19999999999999996V0.8Fe.02': 4.14, 'Ti0.8V0.2Ni.02': 3.4, 'Ti0.4V0.6Ni.02': 3.7, 'Ti0.7V0.3Ni.05': 3.3, 'Ti0.19999999999999996V0.8Ni.05': 3.8, 'Ti1.0Zr0.0': 2.1, 'Ti0.0Zr1.0': 3.9, 'V0.995C0.005': 3.8, 'V0.992C0.008': 3.9, 'V0.99Cr0.01': 3.8, 'V0.951Cr0.049': 4.1, 'V1.0Cr0.0': 3.6, 'V0.999Fe0.001': 3.8, 'V0.991Fe0.009': 3.9, 'V0.997Ge0.003': 3.1, 'V0.989Ge0.011': 3.8, 'V0.999Si0.001': 3.5, 'V0.983Si0.017': 3.9, 'V0.996Sn0.004': 3.7, 'V0.994Sn0.006': 3.7, 'V0.6599999999999999Ti0.34': 3.8, 'V0.5Ti0.5': 3.9, 'V0.992W0.008': 3.7, 'V0.99W0.01': 3.7, 'Zr0.77Hf0.23': 0.9, 'Zr0.18000000000000005Hf0.82': 1.5, 'Zr0.88Nb0.12': 2.0, 'Zr0.75Nb0.25': 2.1, 'Zr0.951Nb0.049': 1.9, 'Zr0.8029999999999999Nb0.197': 2.1, 'Pd0.98Cr0.02': 0.3, 'Pd0.91Cr0.09': 0.55, 'Pd0.99Mo0.01': 0.35, 'Pd0.97Mo0.03': 0.55, 'Pd0.982Co0.018': 0.4, 'Pd0.915Co0.085': 0.6, 'V0.95Ti0.05': 3.7, 'V0.85Ti0.15': 3.7, 'Nb0.9V0.1': 2.2, 'Nb0.7V0.3': 2.2, 'Pd1.0Ni0.0': 0.6, 'Pd0.75Ni0.25': 0.8, 'Nb0.09999999999999998V0.9': 3.5, 'Ta0.9V0.1': 0.5, 'Ta0.09999999999999998V0.9': 3.1, 'Pd0.963Fe0.037': 0.5, 'Pd0.9Fe0.1': 0.3, 'Ti0.78V0.2Fe.02': 3.8, 'Ti0.17999999999999994V0.8Fe.02': 4.1, 'Ti0.78V0.2Co.02': 3.6, 'Ti0.17999999999999994V0.8Co.02': 3.8, 'Ti0.75V0.2Ni.05': 3.3, 'Ti0.1499999999999999V0.8Ni.05': 3.8, 'V.7Zr0.0Ti0.103Cr.17': 2.03, 'V.7Zr0.03Ti0.073Cr.17': 2.42, 'Pd.90Rh0.1Ni0.0': 0.7, 'Pd.90Rh0.0Ni0.1': 0.5, 'Ti0.29000000000000004V.35Cr0.36': 2.45, 'Ti0.22000000000000003V.35Cr0.43': 1.72, 'Ti.375V0.025Cr0.6': 2.6, 'Ti.375V0.075Cr0.55': 2.8, 'Ti.28V.35Cr0.37Mn0.0': 2.7, 'Ti.28V.35Cr0.22Mn0.15': 2.4, 'Ti0.24V.35Cr0.31000000000000005Mn.10': 2.7, 'Ti0.28V.35Cr0.27Mn.10': 2.7, 'Nb0.97Cr0.03': 0.9, 'Nb0.9Cr0.1': 0.9}\n"
          ]
        }
      ],
      "source": [
        "# Python code to merge dict using a single\n",
        "# expression\n",
        "def Merge(dict1, dict2):\n",
        "\tres = {**dict1, **dict2}\n",
        "\treturn res\n",
        "\t\n",
        "# Driver code\n",
        "dict1 =d1\n",
        "dict2 =d2\n",
        "dict3 = Merge(dict1, dict2)\n",
        "print(dict3)\n"
      ]
    },
    {
      "cell_type": "code",
      "execution_count": 22,
      "metadata": {
        "id": "sZUoae3CwFsB"
      },
      "outputs": [],
      "source": [
        "new_data=pd.DataFrame(dict3,index=['Wt.% H',])"
      ]
    },
    {
      "cell_type": "code",
      "execution_count": 23,
      "metadata": {
        "id": "gh1QOxxUy9TX"
      },
      "outputs": [],
      "source": [
        "new_df=new_data.T"
      ]
    },
    {
      "cell_type": "code",
      "execution_count": 24,
      "metadata": {
        "colab": {
          "base_uri": "https://localhost:8080/",
          "height": 423
        },
        "id": "RjUXDLbsTUU6",
        "outputId": "c0403ff1-6322-43f6-85e7-82b238d62565"
      },
      "outputs": [
        {
          "output_type": "execute_result",
          "data": {
            "text/plain": [
              "                                      Wt.% H\n",
              "Nb.994Ge.006                            92.1\n",
              "Ni.979Fe.021                             1.6\n",
              "Ni.943Fe.057                             1.4\n",
              "Pd.75Ag.25                               0.4\n",
              "Pd.9Ag.1                                 0.5\n",
              "...                                      ...\n",
              "Ti.28V.35Cr0.22Mn0.15                    2.4\n",
              "Ti0.24V.35Cr0.31000000000000005Mn.10     2.7\n",
              "Ti0.28V.35Cr0.27Mn.10                    2.7\n",
              "Nb0.97Cr0.03                             0.9\n",
              "Nb0.9Cr0.1                               0.9\n",
              "\n",
              "[312 rows x 1 columns]"
            ],
            "text/html": [
              "\n",
              "  <div id=\"df-bc4fbe87-86c4-4122-adbb-25be962caf95\">\n",
              "    <div class=\"colab-df-container\">\n",
              "      <div>\n",
              "<style scoped>\n",
              "    .dataframe tbody tr th:only-of-type {\n",
              "        vertical-align: middle;\n",
              "    }\n",
              "\n",
              "    .dataframe tbody tr th {\n",
              "        vertical-align: top;\n",
              "    }\n",
              "\n",
              "    .dataframe thead th {\n",
              "        text-align: right;\n",
              "    }\n",
              "</style>\n",
              "<table border=\"1\" class=\"dataframe\">\n",
              "  <thead>\n",
              "    <tr style=\"text-align: right;\">\n",
              "      <th></th>\n",
              "      <th>Wt.% H</th>\n",
              "    </tr>\n",
              "  </thead>\n",
              "  <tbody>\n",
              "    <tr>\n",
              "      <th>Nb.994Ge.006</th>\n",
              "      <td>92.1</td>\n",
              "    </tr>\n",
              "    <tr>\n",
              "      <th>Ni.979Fe.021</th>\n",
              "      <td>1.6</td>\n",
              "    </tr>\n",
              "    <tr>\n",
              "      <th>Ni.943Fe.057</th>\n",
              "      <td>1.4</td>\n",
              "    </tr>\n",
              "    <tr>\n",
              "      <th>Pd.75Ag.25</th>\n",
              "      <td>0.4</td>\n",
              "    </tr>\n",
              "    <tr>\n",
              "      <th>Pd.9Ag.1</th>\n",
              "      <td>0.5</td>\n",
              "    </tr>\n",
              "    <tr>\n",
              "      <th>...</th>\n",
              "      <td>...</td>\n",
              "    </tr>\n",
              "    <tr>\n",
              "      <th>Ti.28V.35Cr0.22Mn0.15</th>\n",
              "      <td>2.4</td>\n",
              "    </tr>\n",
              "    <tr>\n",
              "      <th>Ti0.24V.35Cr0.31000000000000005Mn.10</th>\n",
              "      <td>2.7</td>\n",
              "    </tr>\n",
              "    <tr>\n",
              "      <th>Ti0.28V.35Cr0.27Mn.10</th>\n",
              "      <td>2.7</td>\n",
              "    </tr>\n",
              "    <tr>\n",
              "      <th>Nb0.97Cr0.03</th>\n",
              "      <td>0.9</td>\n",
              "    </tr>\n",
              "    <tr>\n",
              "      <th>Nb0.9Cr0.1</th>\n",
              "      <td>0.9</td>\n",
              "    </tr>\n",
              "  </tbody>\n",
              "</table>\n",
              "<p>312 rows × 1 columns</p>\n",
              "</div>\n",
              "      <button class=\"colab-df-convert\" onclick=\"convertToInteractive('df-bc4fbe87-86c4-4122-adbb-25be962caf95')\"\n",
              "              title=\"Convert this dataframe to an interactive table.\"\n",
              "              style=\"display:none;\">\n",
              "        \n",
              "  <svg xmlns=\"http://www.w3.org/2000/svg\" height=\"24px\"viewBox=\"0 0 24 24\"\n",
              "       width=\"24px\">\n",
              "    <path d=\"M0 0h24v24H0V0z\" fill=\"none\"/>\n",
              "    <path d=\"M18.56 5.44l.94 2.06.94-2.06 2.06-.94-2.06-.94-.94-2.06-.94 2.06-2.06.94zm-11 1L8.5 8.5l.94-2.06 2.06-.94-2.06-.94L8.5 2.5l-.94 2.06-2.06.94zm10 10l.94 2.06.94-2.06 2.06-.94-2.06-.94-.94-2.06-.94 2.06-2.06.94z\"/><path d=\"M17.41 7.96l-1.37-1.37c-.4-.4-.92-.59-1.43-.59-.52 0-1.04.2-1.43.59L10.3 9.45l-7.72 7.72c-.78.78-.78 2.05 0 2.83L4 21.41c.39.39.9.59 1.41.59.51 0 1.02-.2 1.41-.59l7.78-7.78 2.81-2.81c.8-.78.8-2.07 0-2.86zM5.41 20L4 18.59l7.72-7.72 1.47 1.35L5.41 20z\"/>\n",
              "  </svg>\n",
              "      </button>\n",
              "      \n",
              "  <style>\n",
              "    .colab-df-container {\n",
              "      display:flex;\n",
              "      flex-wrap:wrap;\n",
              "      gap: 12px;\n",
              "    }\n",
              "\n",
              "    .colab-df-convert {\n",
              "      background-color: #E8F0FE;\n",
              "      border: none;\n",
              "      border-radius: 50%;\n",
              "      cursor: pointer;\n",
              "      display: none;\n",
              "      fill: #1967D2;\n",
              "      height: 32px;\n",
              "      padding: 0 0 0 0;\n",
              "      width: 32px;\n",
              "    }\n",
              "\n",
              "    .colab-df-convert:hover {\n",
              "      background-color: #E2EBFA;\n",
              "      box-shadow: 0px 1px 2px rgba(60, 64, 67, 0.3), 0px 1px 3px 1px rgba(60, 64, 67, 0.15);\n",
              "      fill: #174EA6;\n",
              "    }\n",
              "\n",
              "    [theme=dark] .colab-df-convert {\n",
              "      background-color: #3B4455;\n",
              "      fill: #D2E3FC;\n",
              "    }\n",
              "\n",
              "    [theme=dark] .colab-df-convert:hover {\n",
              "      background-color: #434B5C;\n",
              "      box-shadow: 0px 1px 3px 1px rgba(0, 0, 0, 0.15);\n",
              "      filter: drop-shadow(0px 1px 2px rgba(0, 0, 0, 0.3));\n",
              "      fill: #FFFFFF;\n",
              "    }\n",
              "  </style>\n",
              "\n",
              "      <script>\n",
              "        const buttonEl =\n",
              "          document.querySelector('#df-bc4fbe87-86c4-4122-adbb-25be962caf95 button.colab-df-convert');\n",
              "        buttonEl.style.display =\n",
              "          google.colab.kernel.accessAllowed ? 'block' : 'none';\n",
              "\n",
              "        async function convertToInteractive(key) {\n",
              "          const element = document.querySelector('#df-bc4fbe87-86c4-4122-adbb-25be962caf95');\n",
              "          const dataTable =\n",
              "            await google.colab.kernel.invokeFunction('convertToInteractive',\n",
              "                                                     [key], {});\n",
              "          if (!dataTable) return;\n",
              "\n",
              "          const docLinkHtml = 'Like what you see? Visit the ' +\n",
              "            '<a target=\"_blank\" href=https://colab.research.google.com/notebooks/data_table.ipynb>data table notebook</a>'\n",
              "            + ' to learn more about interactive tables.';\n",
              "          element.innerHTML = '';\n",
              "          dataTable['output_type'] = 'display_data';\n",
              "          await google.colab.output.renderOutput(dataTable, element);\n",
              "          const docLink = document.createElement('div');\n",
              "          docLink.innerHTML = docLinkHtml;\n",
              "          element.appendChild(docLink);\n",
              "        }\n",
              "      </script>\n",
              "    </div>\n",
              "  </div>\n",
              "  "
            ]
          },
          "metadata": {},
          "execution_count": 24
        }
      ],
      "source": [
        "new_df"
      ]
    },
    {
      "cell_type": "code",
      "execution_count": 25,
      "metadata": {
        "id": "_aiTlhj_5wzD"
      },
      "outputs": [],
      "source": [
        "new_df.to_csv(\"BCC_newdata.csv\")"
      ]
    },
    {
      "cell_type": "code",
      "execution_count": 26,
      "metadata": {
        "id": "PmS9ZhbI00ut"
      },
      "outputs": [],
      "source": [
        "index2=new_df.index"
      ]
    },
    {
      "cell_type": "code",
      "execution_count": 27,
      "metadata": {
        "id": "WNY19rAr2mMF"
      },
      "outputs": [],
      "source": [
        "l4=[]\n",
        "for i in index2:\n",
        "    #print(i.find('.'))\n",
        "    res = [j for j in range(len(i)) if i.startswith('.', j)]\n",
        "    list1 = res\n",
        "    list2 = range(len(res))\n",
        "\n",
        "    zipped_lists = zip(list1, list2)\n",
        "    sum = [x + y for (x, y) in zipped_lists]\n",
        "    for l in sum:\n",
        "        i = i[:l] + \"0\" + i[l:]\n",
        "    l4.append(i)"
      ]
    },
    {
      "cell_type": "code",
      "execution_count": 28,
      "metadata": {
        "id": "ayqo5TWP9m44"
      },
      "outputs": [],
      "source": [
        "new_df.index=l4"
      ]
    },
    {
      "cell_type": "code",
      "execution_count": 29,
      "metadata": {
        "colab": {
          "base_uri": "https://localhost:8080/",
          "height": 423
        },
        "id": "yHKsfSGu9n-X",
        "outputId": "b3a866f4-d757-4097-c713-35ee5f563f62"
      },
      "outputs": [
        {
          "output_type": "execute_result",
          "data": {
            "text/plain": [
              "                                          Wt.% H\n",
              "Nb0.994Ge0.006                              92.1\n",
              "Ni0.979Fe0.021                               1.6\n",
              "Ni0.943Fe0.057                               1.4\n",
              "Pd0.75Ag0.25                                 0.4\n",
              "Pd0.9Ag0.1                                   0.5\n",
              "...                                          ...\n",
              "Ti0.28V0.35Cr00.22Mn00.15                    2.4\n",
              "Ti00.24V0.35Cr00.31000000000000005Mn0.10     2.7\n",
              "Ti00.28V0.35Cr00.27Mn0.10                    2.7\n",
              "Nb00.97Cr00.03                               0.9\n",
              "Nb00.9Cr00.1                                 0.9\n",
              "\n",
              "[312 rows x 1 columns]"
            ],
            "text/html": [
              "\n",
              "  <div id=\"df-bae78a79-2c66-44f6-a045-fdcefff641f3\">\n",
              "    <div class=\"colab-df-container\">\n",
              "      <div>\n",
              "<style scoped>\n",
              "    .dataframe tbody tr th:only-of-type {\n",
              "        vertical-align: middle;\n",
              "    }\n",
              "\n",
              "    .dataframe tbody tr th {\n",
              "        vertical-align: top;\n",
              "    }\n",
              "\n",
              "    .dataframe thead th {\n",
              "        text-align: right;\n",
              "    }\n",
              "</style>\n",
              "<table border=\"1\" class=\"dataframe\">\n",
              "  <thead>\n",
              "    <tr style=\"text-align: right;\">\n",
              "      <th></th>\n",
              "      <th>Wt.% H</th>\n",
              "    </tr>\n",
              "  </thead>\n",
              "  <tbody>\n",
              "    <tr>\n",
              "      <th>Nb0.994Ge0.006</th>\n",
              "      <td>92.1</td>\n",
              "    </tr>\n",
              "    <tr>\n",
              "      <th>Ni0.979Fe0.021</th>\n",
              "      <td>1.6</td>\n",
              "    </tr>\n",
              "    <tr>\n",
              "      <th>Ni0.943Fe0.057</th>\n",
              "      <td>1.4</td>\n",
              "    </tr>\n",
              "    <tr>\n",
              "      <th>Pd0.75Ag0.25</th>\n",
              "      <td>0.4</td>\n",
              "    </tr>\n",
              "    <tr>\n",
              "      <th>Pd0.9Ag0.1</th>\n",
              "      <td>0.5</td>\n",
              "    </tr>\n",
              "    <tr>\n",
              "      <th>...</th>\n",
              "      <td>...</td>\n",
              "    </tr>\n",
              "    <tr>\n",
              "      <th>Ti0.28V0.35Cr00.22Mn00.15</th>\n",
              "      <td>2.4</td>\n",
              "    </tr>\n",
              "    <tr>\n",
              "      <th>Ti00.24V0.35Cr00.31000000000000005Mn0.10</th>\n",
              "      <td>2.7</td>\n",
              "    </tr>\n",
              "    <tr>\n",
              "      <th>Ti00.28V0.35Cr00.27Mn0.10</th>\n",
              "      <td>2.7</td>\n",
              "    </tr>\n",
              "    <tr>\n",
              "      <th>Nb00.97Cr00.03</th>\n",
              "      <td>0.9</td>\n",
              "    </tr>\n",
              "    <tr>\n",
              "      <th>Nb00.9Cr00.1</th>\n",
              "      <td>0.9</td>\n",
              "    </tr>\n",
              "  </tbody>\n",
              "</table>\n",
              "<p>312 rows × 1 columns</p>\n",
              "</div>\n",
              "      <button class=\"colab-df-convert\" onclick=\"convertToInteractive('df-bae78a79-2c66-44f6-a045-fdcefff641f3')\"\n",
              "              title=\"Convert this dataframe to an interactive table.\"\n",
              "              style=\"display:none;\">\n",
              "        \n",
              "  <svg xmlns=\"http://www.w3.org/2000/svg\" height=\"24px\"viewBox=\"0 0 24 24\"\n",
              "       width=\"24px\">\n",
              "    <path d=\"M0 0h24v24H0V0z\" fill=\"none\"/>\n",
              "    <path d=\"M18.56 5.44l.94 2.06.94-2.06 2.06-.94-2.06-.94-.94-2.06-.94 2.06-2.06.94zm-11 1L8.5 8.5l.94-2.06 2.06-.94-2.06-.94L8.5 2.5l-.94 2.06-2.06.94zm10 10l.94 2.06.94-2.06 2.06-.94-2.06-.94-.94-2.06-.94 2.06-2.06.94z\"/><path d=\"M17.41 7.96l-1.37-1.37c-.4-.4-.92-.59-1.43-.59-.52 0-1.04.2-1.43.59L10.3 9.45l-7.72 7.72c-.78.78-.78 2.05 0 2.83L4 21.41c.39.39.9.59 1.41.59.51 0 1.02-.2 1.41-.59l7.78-7.78 2.81-2.81c.8-.78.8-2.07 0-2.86zM5.41 20L4 18.59l7.72-7.72 1.47 1.35L5.41 20z\"/>\n",
              "  </svg>\n",
              "      </button>\n",
              "      \n",
              "  <style>\n",
              "    .colab-df-container {\n",
              "      display:flex;\n",
              "      flex-wrap:wrap;\n",
              "      gap: 12px;\n",
              "    }\n",
              "\n",
              "    .colab-df-convert {\n",
              "      background-color: #E8F0FE;\n",
              "      border: none;\n",
              "      border-radius: 50%;\n",
              "      cursor: pointer;\n",
              "      display: none;\n",
              "      fill: #1967D2;\n",
              "      height: 32px;\n",
              "      padding: 0 0 0 0;\n",
              "      width: 32px;\n",
              "    }\n",
              "\n",
              "    .colab-df-convert:hover {\n",
              "      background-color: #E2EBFA;\n",
              "      box-shadow: 0px 1px 2px rgba(60, 64, 67, 0.3), 0px 1px 3px 1px rgba(60, 64, 67, 0.15);\n",
              "      fill: #174EA6;\n",
              "    }\n",
              "\n",
              "    [theme=dark] .colab-df-convert {\n",
              "      background-color: #3B4455;\n",
              "      fill: #D2E3FC;\n",
              "    }\n",
              "\n",
              "    [theme=dark] .colab-df-convert:hover {\n",
              "      background-color: #434B5C;\n",
              "      box-shadow: 0px 1px 3px 1px rgba(0, 0, 0, 0.15);\n",
              "      filter: drop-shadow(0px 1px 2px rgba(0, 0, 0, 0.3));\n",
              "      fill: #FFFFFF;\n",
              "    }\n",
              "  </style>\n",
              "\n",
              "      <script>\n",
              "        const buttonEl =\n",
              "          document.querySelector('#df-bae78a79-2c66-44f6-a045-fdcefff641f3 button.colab-df-convert');\n",
              "        buttonEl.style.display =\n",
              "          google.colab.kernel.accessAllowed ? 'block' : 'none';\n",
              "\n",
              "        async function convertToInteractive(key) {\n",
              "          const element = document.querySelector('#df-bae78a79-2c66-44f6-a045-fdcefff641f3');\n",
              "          const dataTable =\n",
              "            await google.colab.kernel.invokeFunction('convertToInteractive',\n",
              "                                                     [key], {});\n",
              "          if (!dataTable) return;\n",
              "\n",
              "          const docLinkHtml = 'Like what you see? Visit the ' +\n",
              "            '<a target=\"_blank\" href=https://colab.research.google.com/notebooks/data_table.ipynb>data table notebook</a>'\n",
              "            + ' to learn more about interactive tables.';\n",
              "          element.innerHTML = '';\n",
              "          dataTable['output_type'] = 'display_data';\n",
              "          await google.colab.output.renderOutput(dataTable, element);\n",
              "          const docLink = document.createElement('div');\n",
              "          docLink.innerHTML = docLinkHtml;\n",
              "          element.appendChild(docLink);\n",
              "        }\n",
              "      </script>\n",
              "    </div>\n",
              "  </div>\n",
              "  "
            ]
          },
          "metadata": {},
          "execution_count": 29
        }
      ],
      "source": [
        "new_df"
      ]
    },
    {
      "cell_type": "code",
      "execution_count": 30,
      "metadata": {
        "id": "ItOMfKSa-NUL"
      },
      "outputs": [],
      "source": [
        "l5=[]\n",
        "import re\n",
        "for i in new_df.index:\n",
        "    test_str =i\n",
        "    res =re.findall(r'(\\w+?)(\\d+\\.\\d+)', test_str)\n",
        "    l5+=[res]\n"
      ]
    },
    {
      "cell_type": "code",
      "execution_count": 31,
      "metadata": {
        "colab": {
          "base_uri": "https://localhost:8080/"
        },
        "id": "N32VQqKfQbBl",
        "outputId": "23df30e6-0e8f-4d6f-ab83-9c7766a399da"
      },
      "outputs": [
        {
          "output_type": "execute_result",
          "data": {
            "text/plain": [
              "312"
            ]
          },
          "metadata": {},
          "execution_count": 31
        }
      ],
      "source": [
        "len(l5)"
      ]
    },
    {
      "cell_type": "code",
      "execution_count": 32,
      "metadata": {
        "colab": {
          "base_uri": "https://localhost:8080/"
        },
        "id": "-xU37Aa6yFFL",
        "outputId": "b8268126-630a-4ba6-b887-4fcf76779653"
      },
      "outputs": [
        {
          "output_type": "execute_result",
          "data": {
            "text/plain": [
              "[[('Nb', '0.994'), ('Ge', '0.006')],\n",
              " [('Ni', '0.979'), ('Fe', '0.021')],\n",
              " [('Ni', '0.943'), ('Fe', '0.057')],\n",
              " [('Pd', '0.75'), ('Ag', '0.25')],\n",
              " [('Pd', '0.9'), ('Ag', '0.1')],\n",
              " [('Pd', '0.8'), ('Ag', '0.2')],\n",
              " [('Pd', '0.7'), ('Ag', '0.3')],\n",
              " [('Pd', '0.6'), ('Ag', '0.4')],\n",
              " [('Pd', '0.95'), ('Bi', '0.05')],\n",
              " [('Pd', '0.947'), ('Ce', '0.053')],\n",
              " [('Pd', '0.942'), ('Ce', '0.058')],\n",
              " [('Pd', '0.95'), ('Co', '0.05')],\n",
              " [('Pd', '0.9'), ('Co', '0.1')],\n",
              " [('Pd', '0.9'), ('Cu', '0.1')],\n",
              " [('Pd', '0.95'), ('Cr', '0.05')],\n",
              " [('Pd', '0.972'), ('Ir', '0.028')],\n",
              " [('Pd', '0.942'), ('Ir', '0.058')],\n",
              " [('Pd', '0.927'), ('Ir', '0.073')],\n",
              " [('Pd', '0.975'), ('Mo', '0.025')],\n",
              " [('Pd', '0.85'), ('Ni', '0.15')],\n",
              " [('Pd', '0.95'), ('Ni', '0.025'), ('Rh', '0.025')],\n",
              " [('Pd', '0.9'), ('Ni', '0.05'), ('Rh', '0.05')],\n",
              " [('Pd', '0.825'), ('Ni', '0.1'), ('Rh', '0.075')],\n",
              " [('Pd', '0.946'), ('Pb', '0.054')],\n",
              " [('Pd', '0.95'), ('Pt', '0.05')],\n",
              " [('Pd', '0.9'), ('Pt', '0.1')],\n",
              " [('Pd', '0.7'), ('Rh', '0.3')],\n",
              " [('Pd', '0.95'), ('Rh', '0.05')],\n",
              " [('Pd', '0.9'), ('Rh', '0.1')],\n",
              " [('Pd', '0.8'), ('Rh', '0.2')],\n",
              " [('Pd', '0.95'), ('Sb', '0.05')],\n",
              " [('Pd', '0.95'), ('Sc', '0.05')],\n",
              " [('Pd', '0.952'), ('Ti', '0.048')],\n",
              " [('Pd', '0.95'), ('U', '0.05')],\n",
              " [('Pd', '0.98'), ('V', '0.02')],\n",
              " [('Pd', '0.92'), ('Y', '0.08')],\n",
              " [('Ti', '0.95'), ('Cr', '0.05')],\n",
              " [('Ti', '0.93'), ('Mn', '0.07')],\n",
              " [('Ti', '0.5'), ('V', '0.5')],\n",
              " [('Ti', '0.435'), ('V', '0.49'), ('Fe', '0.075')],\n",
              " [('Ti', '0.49'), ('Zr', '0.51')],\n",
              " [('Ti', '0.65'), ('Zr', '0.35'), ('N', '0.19')],\n",
              " [('Ti', '0.81'), ('Zr', '0.19'), ('N', '0.25')],\n",
              " [('V', '0.99'), ('B', '0.01')],\n",
              " [('V', '0.99'), ('Co', '0.01')],\n",
              " [('V', '0.855'), ('Cr', '0.145')],\n",
              " [('V', '0.99'), ('Mo', '0.01')],\n",
              " [('V', '0.99'), ('Nb', '0.01')],\n",
              " [('V', '0.8'), ('Nb', '0.2')],\n",
              " [('V', '0.991'), ('Ni', '0.009')],\n",
              " [('V', '0.96'), ('Si', '0.04')],\n",
              " [('V', '0.983'), ('Ta', '0.013')],\n",
              " [('V', '0.992'), ('Ti', '0.008')],\n",
              " [('V', '0.8'), ('Ti', '0.2')],\n",
              " [('V', '0.67'), ('Ti', '0.33')],\n",
              " [('V', '0.8'), ('Ti', '0.18'), ('Fe', '0.02')],\n",
              " [('V', '0.6'), ('Ti', '0.38'), ('Fe', '0.02')],\n",
              " [('V', '0.99'), ('Zr', '0.01')],\n",
              " [('Zr', '0.97'), ('Cr', '0.03')],\n",
              " [('Zr', '0.96'), ('Mo', '0.04')],\n",
              " [('ZrN', '0.28')],\n",
              " [('Zr', '0.975'), ('Nb', '0.025')],\n",
              " [('Zr', '0.7'), ('Nb', '0.3'), ('N', '0.33')],\n",
              " [('Zr', '0.5'), ('Nb', '0.5'), ('N', '0.34')],\n",
              " [('Zr', '0.935'), ('Nb', '0.024'), ('Ni', '0.041')],\n",
              " [('Zr', '0.924'), ('Nb', '0.024'), ('Ti', '0.052')],\n",
              " [('Zr', '0.927'), ('Nb', '0.024'), ('V', '0.049')],\n",
              " [('Zr', '0.977'), ('Ni', '0.023')],\n",
              " [('Zr', '0.96'), ('Sn', '0.04')],\n",
              " [('Zr', '0.94'), ('V', '0.06')],\n",
              " [('Nb', '0.8'), ('V', '0.2')],\n",
              " [('Pd', '0.88'), ('Pt', '0.06'), ('Rh', '0.06')],\n",
              " [('Pd', '0.85'), ('Pt', '0.075'), ('Rh', '0.075')],\n",
              " [('Mg', '0.72'), ('Li', '0.28')],\n",
              " [('V', '0.37'), ('Ti', '0.33'), ('Mn', '0.3')],\n",
              " [('Nb', '0.865'), ('Fe', '0.065'), ('Cr', '0.07')],\n",
              " [('Nb', '0.736'), ('Fe', '0.184'), ('Cr', '0.08')],\n",
              " [('Pd', '0.9'), ('Ni', '0.1')],\n",
              " [('Pd', '0.85'), ('Rh', '0.15')],\n",
              " [('Pd', '0.75'), ('Rh', '0.25')],\n",
              " [('Pd', '0.975'), ('Rh', '0.025')],\n",
              " [('Pd', '0.925'), ('Rh', '0.075')],\n",
              " [('Pd', '0.91'), ('Ni', '0.09')],\n",
              " [('V', '0.690'),\n",
              "  ('Ti', '0.173'),\n",
              "  ('Ni', '0.112'),\n",
              "  ('Co', '0.009'),\n",
              "  ('Nb', '0.008'),\n",
              "  ('Ta', '0.008')],\n",
              " [('V', '0.9'), ('Ti', '0.1')],\n",
              " [('V', '0.87'), ('Ti', '0.13')],\n",
              " [('V', '0.85'), ('Ti', '0.15')],\n",
              " [('Ti', '0.21'), ('Cr', '0.29'), ('V', '0.50')],\n",
              " [('Ti', '0.32'), ('Cr', '0.29'), ('V', '0.39')],\n",
              " [('Ti', '0.16'), ('Zr', '0.05'), ('Cr', '0.22'), ('V', '0.57')],\n",
              " [('V', '0.49'), ('Ti', '0.43'), ('Fe', '0.075')],\n",
              " [('V', '0.995'), ('C', '0.005')],\n",
              " [('V', '0.975'), ('Zr', '0.02'), ('C', '0.005')],\n",
              " [('Ti', '0.50'), ('V', '0.45'), ('Fe', '0.05')],\n",
              " [('Ti', '0.50'), ('V', '0.45'), ('Co', '0.05')],\n",
              " [('Ti', '0.78'), ('V', '0.20'), ('Ni', '0.02')],\n",
              " [('Ti', '0.58'), ('V', '0.40'), ('Ni', '0.02')],\n",
              " [('Ta', '0.5'), ('Ti', '0.5')],\n",
              " [('Ta', '0.4'), ('Ti', '0.6')],\n",
              " [('V', '0.667'), ('Zr', '0.111'), ('Ti', '0.111'), ('Fe', '0.111')],\n",
              " [('V', '0.667'), ('Zr', '0.111'), ('Ti', '0.111'), ('Mn', '0.111')],\n",
              " [('V', '0.667'), ('Zr', '0.111'), ('Ti', '0.111'), ('Ni', '0.111')],\n",
              " [('Pd', '0.96'), ('Pt', '0.04')],\n",
              " [('Pd', '0.92'), ('Pt', '0.08')],\n",
              " [('Pd', '0.90'), ('Pt', '0.10')],\n",
              " [('Ti', '0.23'), ('Mn', '0.36'), ('V', '0.41')],\n",
              " [('Pd', '0.90'), ('Rh', '0.05'), ('Ni', '0.05')],\n",
              " [('Ti', '0.33'), ('V', '0.37'), ('Mn', '0.30')],\n",
              " [('V', '0.99'), ('Ti', '0.01')],\n",
              " [('V', '0.99'), ('Cr', '0.01')],\n",
              " [('V', '0.99'), ('Fe', '0.01')],\n",
              " [('V', '0.99'), ('Ni', '0.01')],\n",
              " [('V', '0.99'), ('Cu', '0.01')],\n",
              " [('V', '0.99'), ('Ru', '0.01')],\n",
              " [('V', '0.99'), ('Rh', '0.01')],\n",
              " [('V', '0.99'), ('Pd', '0.01')],\n",
              " [('V', '0.99'), ('Ag', '0.01')],\n",
              " [('V', '0.99'), ('Hf', '0.01')],\n",
              " [('V', '0.99'), ('Ta', '0.01')],\n",
              " [('V', '0.99'), ('W', '0.01')],\n",
              " [('V', '0.99'), ('Re', '0.01')],\n",
              " [('V', '0.99'), ('Os', '0.01')],\n",
              " [('V', '0.99'), ('Ir', '0.01')],\n",
              " [('V', '0.99'), ('Pt', '0.01')],\n",
              " [('V', '0.99'), ('Au', '0.01')],\n",
              " [('V', '0.99'), ('Al', '0.01')],\n",
              " [('V', '0.99'), ('Si', '0.01')],\n",
              " [('V', '0.99'), ('Ga', '0.01')],\n",
              " [('V', '0.99'), ('In', '0.01')],\n",
              " [('V', '0.99'), ('Sn', '0.01')],\n",
              " [('Ti', '0.3'), ('Cr', '0.5'), ('V', '0.2')],\n",
              " [('Ti', '0.278'), ('Cr', '0.422'), ('V', '0.25'), ('Fe', '0.05')],\n",
              " [('V', '0.62'), ('Ti', '0.2'), ('Ni', '0.18')],\n",
              " [('V', '0.49'), ('Ti', '0.30'), ('Ni', '0.21')],\n",
              " [('V', '0.55'), ('Ti', '0.30'), ('Ni', '0.15')],\n",
              " [('V', '0.61'), ('Ti', '0.30'), ('Ni', '0.09')],\n",
              " [('V', '0.67'), ('Ti', '0.30'), ('Ni', '0.03')],\n",
              " [('Ti', '0.25'), ('V', '0.35'), ('Cr', '0.40')],\n",
              " [('Ti', '0.346'), ('V', '0.10'), ('Cr', '0.554')],\n",
              " [('Ti', '0.375'), ('V', '0.075'), ('Cr', '0.55')],\n",
              " [('Pd', '0.95'), ('Ag', '0.05')],\n",
              " [('Pd', '0.901'), ('Ag', '0.099')],\n",
              " [('Pd', '0.90'), ('Rh', '0.10')],\n",
              " [('Nb', '0.95'), ('Cr', '0.05')],\n",
              " [('Nb', '0.97'), ('Cr', '0.03')],\n",
              " [('Pd', '0.90'), ('Ag', '0.10')],\n",
              " [('Pd', '0.9'), ('Rh', '0.10')],\n",
              " [],\n",
              " [('V', '00.8'), ('Ti', '00.2')],\n",
              " [('V', '00.9'), ('Cr', '00.1')],\n",
              " [('V', '00.8'), ('Mo', '00.2')],\n",
              " [('V', '00.75'), ('Mo', '00.15'), ('Ti', '00.1')],\n",
              " [('V', '00.9'), ('Ti', '00.1')],\n",
              " [('V', '00.855'), ('Ti', '00.095'), ('Cr', '00.05')],\n",
              " [('V', '00.855'), ('Ti', '00.095'), ('Fe', '00.05')],\n",
              " [('V', '00.882'), ('Ti', '00.098'), ('Zr', '00.02')],\n",
              " [('V', '00.882'), ('Ti', '00.098'), ('Si', '00.02')],\n",
              " [('V', '00.855'), ('Ti', '00.095'), ('Al', '00.05')],\n",
              " [('V', '00.7'), ('Ti', '00.1'), ('Cr', '00.2')],\n",
              " [('V', '00.68'), ('Ti', '00.2'), ('Cr', '00.12')],\n",
              " [('V', '00.35'), ('Ti', '00.25'), ('Cr', '00.40')],\n",
              " [('V', '00.65'), ('Ti', '00.12'), ('Cr', '00.23')],\n",
              " [('V', '00.50'), ('Ti', '00.16'), ('Cr', '00.34')],\n",
              " [('V', '00.40'), ('Ti', '00.25'), ('Cr', '00.35')],\n",
              " [('V', '00.80'), ('Ti', '00.08'), ('Cr', '00.12')],\n",
              " [('V', '00.855'), ('Ti', '00.095'), ('Fe', '00.05')],\n",
              " [('V', '00.49'), ('Ti', '00.435'), ('Fe', '00.075')],\n",
              " [('V', '00.5547'), ('Ti', '00.3053')],\n",
              " [('V', '00.68'), ('Ti', '00.20'), ('Fe', '00.12')],\n",
              " [('V', '00.554'), ('Ti', '00.3053')],\n",
              " [('V', '00.88'), ('Ti', '00.10'), ('Fe', '00.02')],\n",
              " [('V', '00.593'), ('Ti', '00.245'), ('Fe', '00.162')],\n",
              " [('V', '00.554'), ('Ti', '00.3053')],\n",
              " [('V', '00.60171'), ('Ti', '00.33015')],\n",
              " [('V', '00.60171'), ('Ti', '00.33015')],\n",
              " [('V', '00.63'), ('Ti', '00.20'), ('Mn', '00.17')],\n",
              " [('V', '00.57'), ('Ti', '00.16'), ('Zr', '00.05'), ('Cr', '00.22')],\n",
              " [('V', '00.75'), ('Ti', '00.175'), ('Zr', '00.075')],\n",
              " [('V', '00.75'), ('Ti', '00.10'), ('Zr', '00.075'), ('Cr', '00.075')],\n",
              " [('V', '00.75'), ('Ti', '00.10'), ('Zr', '00.075'), ('Mn', '00.075')],\n",
              " [('V', '00.75'), ('Ti', '00.10'), ('Zr', '00.075'), ('Fe', '00.075')],\n",
              " [('V', '00.75'), ('Ti', '00.10'), ('Zr', '00.075'), ('Co', '00.075')],\n",
              " [('V', '00.75'), ('Ti', '00.10'), ('Zr', '00.075'), ('Ni', '00.075')],\n",
              " [('V', '00.56'), ('Ti', '00.20'), ('Cr', '00.12'), ('Mn', '00.12')],\n",
              " [('V', '00.778'), ('Ti', '00.074'), ('Zr', '00.074'), ('Ni', '00.074')],\n",
              " [('V', '00.77'), ('Ti', '00.10'), ('Cr', '00.06'), ('Fe', '00.06')],\n",
              " [('V', '00.40'), ('Ti', '00.225'), ('Cr', '00.325'), ('Fe', '00.05')],\n",
              " [('Nb', '00.996'), ('Fe', '00.004')],\n",
              " [('Nb', '00.99'), ('Fe', '00.01')],\n",
              " [('Nb', '00.99'), ('Si', '00.01')],\n",
              " [('Nb', '00.974'), ('Si', '00.026')],\n",
              " [('Ni', '00.9'), ('Cu', '00.1')],\n",
              " [('Ni', '00.5'), ('Cu', '00.5')],\n",
              " [('Pd', '10.0'), ('Ag', '00.0')],\n",
              " [('Pd', '00.6'), ('Ag', '00.4')],\n",
              " [('Pd', '00.967'), ('B', '00.033')],\n",
              " [('Pd', '00.838'), ('B', '00.162')],\n",
              " [('Pd', '10.0'), ('Bi', '00.0')],\n",
              " [('Pd', '00.9'), ('Bi', '00.1')],\n",
              " [('Pd', '00.925'), ('Ce', '00.075')],\n",
              " [('Pd', '00.899'), ('Ce', '00.101')],\n",
              " [('Pd', '00.975'), ('Cr', '00.025')],\n",
              " [('Pd', '00.925'), ('Cr', '00.075')],\n",
              " [('Pd', '00.95'), ('Cu', '00.05')],\n",
              " [('Pd', '00.8'), ('Cu', '00.2')],\n",
              " [('Pd', '00.98'), ('Mo', '00.02')],\n",
              " [('Pd', '00.95'), ('Mo', '00.05')],\n",
              " [('Pd', '00.98'), ('Nb', '00.02')],\n",
              " [('Pd', '00.95'), ('Nb', '00.05')],\n",
              " [('Pd', '00.975'), ('Ni', '0.025'), ('Rh', '00.0')],\n",
              " [('Pd', '00.9'), ('Ni', '0.025'), ('Rh', '00.075')],\n",
              " [('Pd', '00.85'), ('Ni', '0.125'), ('Rh', '00.025')],\n",
              " [('Pd', '00.825'), ('Ni', '0.125'), ('Rh', '00.05')],\n",
              " [('Pd', '00.974'), ('Pb', '00.026')],\n",
              " [('Pd', '00.917'), ('Pb', '00.083')],\n",
              " [('Pd', '00.95'), ('Pt', '00.05')],\n",
              " [('Pd', '00.85'), ('Pt', '00.15')],\n",
              " [('Pd', '00.95'), ('Rh', '00.05')],\n",
              " [('Pd', '00.6'), ('Rh', '00.4')],\n",
              " [('Pd', '00.96'), ('Ru', '00.04')],\n",
              " [('Pd', '00.9'), ('Ru', '00.1')],\n",
              " [('Pd', '10.0'), ('Sb', '00.0')],\n",
              " [('Pd', '00.9'), ('Sb', '00.1')],\n",
              " [('Pd', '00.975'), ('Sc', '00.025')],\n",
              " [('Pd', '00.925'), ('Sc', '00.075')],\n",
              " [('Pd', '10.0'), ('Ti', '00.0')],\n",
              " [('Pd', '00.9'), ('Ti', '00.1')],\n",
              " [('Pd', '10.0'), ('V', '00.0')],\n",
              " [('Pd', '00.96'), ('V', '00.04')],\n",
              " [('Pd', '00.98'), ('V', '00.02')],\n",
              " [('Pd', '00.95'), ('V', '00.05')],\n",
              " [('Pd', '00.99'), ('V', '00.01')],\n",
              " [('Pd', '00.98'), ('Y', '00.02')],\n",
              " [('Pd', '00.875'), ('Y', '00.125')],\n",
              " [('Ti', '00.89'), ('Cr', '00.11')],\n",
              " [('Ti', '00.81'), ('Cr', '00.19')],\n",
              " [('Ti', '00.8200000000000001'), ('Mo', '00.18')],\n",
              " [('Ti', '00.6699999999999999'), ('Mo', '00.33')],\n",
              " [('Ti', '00.89'), ('Nb', '00.11')],\n",
              " [('Ti', '00.74'), ('Nb', '00.26')],\n",
              " [('Ti', '00.86'), ('V', '00.14')],\n",
              " [('Ti', '00.31000000000000005'), ('V', '00.69')],\n",
              " [('Ti', '00.98'), ('V', '00.02')],\n",
              " [('Ti', '00.65'), ('V', '00.35')],\n",
              " [('Ti', '00.8'), ('V', '00.2'), ('Fe', '0.02')],\n",
              " [('Ti', '00.19999999999999996'), ('V', '00.8'), ('Fe', '0.02')],\n",
              " [('Ti', '00.8'), ('V', '00.2'), ('Ni', '0.02')],\n",
              " [('Ti', '00.4'), ('V', '00.6'), ('Ni', '0.02')],\n",
              " [('Ti', '00.7'), ('V', '00.3'), ('Ni', '0.05')],\n",
              " [('Ti', '00.19999999999999996'), ('V', '00.8'), ('Ni', '0.05')],\n",
              " [('Ti', '10.0'), ('Zr', '00.0')],\n",
              " [('Ti', '00.0'), ('Zr', '10.0')],\n",
              " [('V', '00.995'), ('C', '00.005')],\n",
              " [('V', '00.992'), ('C', '00.008')],\n",
              " [('V', '00.99'), ('Cr', '00.01')],\n",
              " [('V', '00.951'), ('Cr', '00.049')],\n",
              " [('V', '10.0'), ('Cr', '00.0')],\n",
              " [('V', '00.999'), ('Fe', '00.001')],\n",
              " [('V', '00.991'), ('Fe', '00.009')],\n",
              " [('V', '00.997'), ('Ge', '00.003')],\n",
              " [('V', '00.989'), ('Ge', '00.011')],\n",
              " [('V', '00.999'), ('Si', '00.001')],\n",
              " [('V', '00.983'), ('Si', '00.017')],\n",
              " [('V', '00.996'), ('Sn', '00.004')],\n",
              " [('V', '00.994'), ('Sn', '00.006')],\n",
              " [('V', '00.6599999999999999'), ('Ti', '00.34')],\n",
              " [('V', '00.5'), ('Ti', '00.5')],\n",
              " [('V', '00.992'), ('W', '00.008')],\n",
              " [('V', '00.99'), ('W', '00.01')],\n",
              " [('Zr', '00.77'), ('Hf', '00.23')],\n",
              " [('Zr', '00.18000000000000005'), ('Hf', '00.82')],\n",
              " [('Zr', '00.88'), ('Nb', '00.12')],\n",
              " [('Zr', '00.75'), ('Nb', '00.25')],\n",
              " [('Zr', '00.951'), ('Nb', '00.049')],\n",
              " [('Zr', '00.8029999999999999'), ('Nb', '00.197')],\n",
              " [('Pd', '00.98'), ('Cr', '00.02')],\n",
              " [('Pd', '00.91'), ('Cr', '00.09')],\n",
              " [('Pd', '00.99'), ('Mo', '00.01')],\n",
              " [('Pd', '00.97'), ('Mo', '00.03')],\n",
              " [('Pd', '00.982'), ('Co', '00.018')],\n",
              " [('Pd', '00.915'), ('Co', '00.085')],\n",
              " [('V', '00.95'), ('Ti', '00.05')],\n",
              " [('V', '00.85'), ('Ti', '00.15')],\n",
              " [('Nb', '00.9'), ('V', '00.1')],\n",
              " [('Nb', '00.7'), ('V', '00.3')],\n",
              " [('Pd', '10.0'), ('Ni', '00.0')],\n",
              " [('Pd', '00.75'), ('Ni', '00.25')],\n",
              " [('Nb', '00.09999999999999998'), ('V', '00.9')],\n",
              " [('Ta', '00.9'), ('V', '00.1')],\n",
              " [('Ta', '00.09999999999999998'), ('V', '00.9')],\n",
              " [('Pd', '00.963'), ('Fe', '00.037')],\n",
              " [('Pd', '00.9'), ('Fe', '00.1')],\n",
              " [('Ti', '00.78'), ('V', '00.2'), ('Fe', '0.02')],\n",
              " [('Ti', '00.17999999999999994'), ('V', '00.8'), ('Fe', '0.02')],\n",
              " [('Ti', '00.78'), ('V', '00.2'), ('Co', '0.02')],\n",
              " [('Ti', '00.17999999999999994'), ('V', '00.8'), ('Co', '0.02')],\n",
              " [('Ti', '00.75'), ('V', '00.2'), ('Ni', '0.05')],\n",
              " [('Ti', '00.1499999999999999'), ('V', '00.8'), ('Ni', '0.05')],\n",
              " [('V', '0.7'), ('Zr', '00.0'), ('Ti', '00.103'), ('Cr', '0.17')],\n",
              " [('V', '0.7'), ('Zr', '00.03'), ('Ti', '00.073'), ('Cr', '0.17')],\n",
              " [('Pd', '0.90'), ('Rh', '00.1'), ('Ni', '00.0')],\n",
              " [('Pd', '0.90'), ('Rh', '00.0'), ('Ni', '00.1')],\n",
              " [('Ti', '00.29000000000000004'), ('V', '0.35'), ('Cr', '00.36')],\n",
              " [('Ti', '00.22000000000000003'), ('V', '0.35'), ('Cr', '00.43')],\n",
              " [('Ti', '0.375'), ('V', '00.025'), ('Cr', '00.6')],\n",
              " [('Ti', '0.375'), ('V', '00.075'), ('Cr', '00.55')],\n",
              " [('Ti', '0.28'), ('V', '0.35'), ('Cr', '00.37'), ('Mn', '00.0')],\n",
              " [('Ti', '0.28'), ('V', '0.35'), ('Cr', '00.22'), ('Mn', '00.15')],\n",
              " [('Ti', '00.24'),\n",
              "  ('V', '0.35'),\n",
              "  ('Cr', '00.31000000000000005'),\n",
              "  ('Mn', '0.10')],\n",
              " [('Ti', '00.28'), ('V', '0.35'), ('Cr', '00.27'), ('Mn', '0.10')],\n",
              " [('Nb', '00.97'), ('Cr', '00.03')],\n",
              " [('Nb', '00.9'), ('Cr', '00.1')]]"
            ]
          },
          "metadata": {},
          "execution_count": 32
        }
      ],
      "source": [
        "l5"
      ]
    },
    {
      "cell_type": "code",
      "execution_count": 33,
      "metadata": {
        "id": "8VW2sFqLHuOg"
      },
      "outputs": [],
      "source": [
        "data_new=pd.DataFrame(np.zeros((312,1)),index=new_df.index,columns=[\"Total_Molecular_weight\"])"
      ]
    },
    {
      "cell_type": "code",
      "execution_count": 34,
      "metadata": {
        "id": "vIsjxwy5Kua-"
      },
      "outputs": [],
      "source": [
        "\n",
        "for x,z in enumerate(l5):\n",
        "    sum=0\n",
        "    for y in z:\n",
        "        #print(y)\n",
        "        f = Formula(y[0])\n",
        "        sum+=(f.mass*float(y[1]))\n",
        "    #print(sum)\n",
        "    data_new.iloc[x,0]=sum"
      ]
    },
    {
      "cell_type": "code",
      "execution_count": 35,
      "metadata": {
        "colab": {
          "base_uri": "https://localhost:8080/"
        },
        "id": "9_H4qThbVC1d",
        "outputId": "08132d63-b368-4553-9a4c-32af03225045"
      },
      "outputs": [
        {
          "output_type": "execute_result",
          "data": {
            "text/plain": [
              "51.9961"
            ]
          },
          "metadata": {},
          "execution_count": 35
        }
      ],
      "source": [
        "f = Formula(y[0])\n",
        "f.mass"
      ]
    },
    {
      "cell_type": "code",
      "execution_count": 36,
      "metadata": {
        "colab": {
          "base_uri": "https://localhost:8080/"
        },
        "id": "2b50dpabVXsd",
        "outputId": "33f5c4ef-8d63-4b9d-8ee0-7b6a7f164e70"
      },
      "outputs": [
        {
          "output_type": "execute_result",
          "data": {
            "text/plain": [
              "(312,)"
            ]
          },
          "metadata": {},
          "execution_count": 36
        }
      ],
      "source": [
        "new_df[\"Wt.% H\"].shape"
      ]
    },
    {
      "cell_type": "code",
      "execution_count": 37,
      "metadata": {
        "id": "jzOBSnMkLYGz"
      },
      "outputs": [],
      "source": [
        "data_new[\"Wt.% H\"]=new_df[\"Wt.% H\"]"
      ]
    },
    {
      "cell_type": "code",
      "execution_count": 38,
      "metadata": {
        "id": "3hNAzW98Rq-4"
      },
      "outputs": [],
      "source": [
        "data_new.dropna(inplace=True)"
      ]
    },
    {
      "cell_type": "code",
      "execution_count": 39,
      "metadata": {
        "id": "wzEiBE4hVTxc"
      },
      "outputs": [],
      "source": [
        "data_new.to_csv(\"New_Data.csv\")"
      ]
    },
    {
      "cell_type": "code",
      "execution_count": 40,
      "metadata": {
        "id": "-8fq-IBsWW3T"
      },
      "outputs": [],
      "source": [
        "from sklearn import preprocessing\n",
        "scaler = preprocessing.StandardScaler().fit(data_new)\n",
        "X_scaled = scaler.transform(data_new)"
      ]
    },
    {
      "cell_type": "code",
      "execution_count": 41,
      "metadata": {
        "id": "ePaO1AyBWi-m"
      },
      "outputs": [],
      "source": [
        "X_new=pd.DataFrame(X_scaled,index=data_new.index,columns=data_new.columns)"
      ]
    },
    {
      "cell_type": "code",
      "execution_count": 42,
      "metadata": {
        "colab": {
          "base_uri": "https://localhost:8080/",
          "height": 423
        },
        "id": "q2H28CJ4W3_R",
        "outputId": "10b8c830-f8b7-4650-d58d-1f6f87cc5cb1"
      },
      "outputs": [
        {
          "output_type": "execute_result",
          "data": {
            "text/plain": [
              "                                          Total_Molecular_weight     Wt.% H\n",
              "Nb0.994Ge0.006                                         -0.035924  17.064260\n",
              "Ni0.979Fe0.021                                         -0.264188  -0.116712\n",
              "Ni0.943Fe0.057                                         -0.264873  -0.154681\n",
              "Pd0.75Ag0.25                                            0.057633  -0.344526\n",
              "Pd0.9Ag0.1                                              0.056181  -0.325542\n",
              "...                                                          ...        ...\n",
              "Ti0.28V0.35Cr00.22Mn00.15                              -0.315798   0.035164\n",
              "Ti00.24V0.35Cr00.31000000000000005Mn0.10               -0.315677   0.092117\n",
              "Ti00.28V0.35Cr00.27Mn0.10                              -0.316781   0.092117\n",
              "Nb00.97Cr00.03                                         -0.043314  -0.249604\n",
              "Nb00.9Cr00.1                                           -0.062455  -0.249604\n",
              "\n",
              "[312 rows x 2 columns]"
            ],
            "text/html": [
              "\n",
              "  <div id=\"df-15fcd283-24ec-487b-bf3b-624b1d887067\">\n",
              "    <div class=\"colab-df-container\">\n",
              "      <div>\n",
              "<style scoped>\n",
              "    .dataframe tbody tr th:only-of-type {\n",
              "        vertical-align: middle;\n",
              "    }\n",
              "\n",
              "    .dataframe tbody tr th {\n",
              "        vertical-align: top;\n",
              "    }\n",
              "\n",
              "    .dataframe thead th {\n",
              "        text-align: right;\n",
              "    }\n",
              "</style>\n",
              "<table border=\"1\" class=\"dataframe\">\n",
              "  <thead>\n",
              "    <tr style=\"text-align: right;\">\n",
              "      <th></th>\n",
              "      <th>Total_Molecular_weight</th>\n",
              "      <th>Wt.% H</th>\n",
              "    </tr>\n",
              "  </thead>\n",
              "  <tbody>\n",
              "    <tr>\n",
              "      <th>Nb0.994Ge0.006</th>\n",
              "      <td>-0.035924</td>\n",
              "      <td>17.064260</td>\n",
              "    </tr>\n",
              "    <tr>\n",
              "      <th>Ni0.979Fe0.021</th>\n",
              "      <td>-0.264188</td>\n",
              "      <td>-0.116712</td>\n",
              "    </tr>\n",
              "    <tr>\n",
              "      <th>Ni0.943Fe0.057</th>\n",
              "      <td>-0.264873</td>\n",
              "      <td>-0.154681</td>\n",
              "    </tr>\n",
              "    <tr>\n",
              "      <th>Pd0.75Ag0.25</th>\n",
              "      <td>0.057633</td>\n",
              "      <td>-0.344526</td>\n",
              "    </tr>\n",
              "    <tr>\n",
              "      <th>Pd0.9Ag0.1</th>\n",
              "      <td>0.056181</td>\n",
              "      <td>-0.325542</td>\n",
              "    </tr>\n",
              "    <tr>\n",
              "      <th>...</th>\n",
              "      <td>...</td>\n",
              "      <td>...</td>\n",
              "    </tr>\n",
              "    <tr>\n",
              "      <th>Ti0.28V0.35Cr00.22Mn00.15</th>\n",
              "      <td>-0.315798</td>\n",
              "      <td>0.035164</td>\n",
              "    </tr>\n",
              "    <tr>\n",
              "      <th>Ti00.24V0.35Cr00.31000000000000005Mn0.10</th>\n",
              "      <td>-0.315677</td>\n",
              "      <td>0.092117</td>\n",
              "    </tr>\n",
              "    <tr>\n",
              "      <th>Ti00.28V0.35Cr00.27Mn0.10</th>\n",
              "      <td>-0.316781</td>\n",
              "      <td>0.092117</td>\n",
              "    </tr>\n",
              "    <tr>\n",
              "      <th>Nb00.97Cr00.03</th>\n",
              "      <td>-0.043314</td>\n",
              "      <td>-0.249604</td>\n",
              "    </tr>\n",
              "    <tr>\n",
              "      <th>Nb00.9Cr00.1</th>\n",
              "      <td>-0.062455</td>\n",
              "      <td>-0.249604</td>\n",
              "    </tr>\n",
              "  </tbody>\n",
              "</table>\n",
              "<p>312 rows × 2 columns</p>\n",
              "</div>\n",
              "      <button class=\"colab-df-convert\" onclick=\"convertToInteractive('df-15fcd283-24ec-487b-bf3b-624b1d887067')\"\n",
              "              title=\"Convert this dataframe to an interactive table.\"\n",
              "              style=\"display:none;\">\n",
              "        \n",
              "  <svg xmlns=\"http://www.w3.org/2000/svg\" height=\"24px\"viewBox=\"0 0 24 24\"\n",
              "       width=\"24px\">\n",
              "    <path d=\"M0 0h24v24H0V0z\" fill=\"none\"/>\n",
              "    <path d=\"M18.56 5.44l.94 2.06.94-2.06 2.06-.94-2.06-.94-.94-2.06-.94 2.06-2.06.94zm-11 1L8.5 8.5l.94-2.06 2.06-.94-2.06-.94L8.5 2.5l-.94 2.06-2.06.94zm10 10l.94 2.06.94-2.06 2.06-.94-2.06-.94-.94-2.06-.94 2.06-2.06.94z\"/><path d=\"M17.41 7.96l-1.37-1.37c-.4-.4-.92-.59-1.43-.59-.52 0-1.04.2-1.43.59L10.3 9.45l-7.72 7.72c-.78.78-.78 2.05 0 2.83L4 21.41c.39.39.9.59 1.41.59.51 0 1.02-.2 1.41-.59l7.78-7.78 2.81-2.81c.8-.78.8-2.07 0-2.86zM5.41 20L4 18.59l7.72-7.72 1.47 1.35L5.41 20z\"/>\n",
              "  </svg>\n",
              "      </button>\n",
              "      \n",
              "  <style>\n",
              "    .colab-df-container {\n",
              "      display:flex;\n",
              "      flex-wrap:wrap;\n",
              "      gap: 12px;\n",
              "    }\n",
              "\n",
              "    .colab-df-convert {\n",
              "      background-color: #E8F0FE;\n",
              "      border: none;\n",
              "      border-radius: 50%;\n",
              "      cursor: pointer;\n",
              "      display: none;\n",
              "      fill: #1967D2;\n",
              "      height: 32px;\n",
              "      padding: 0 0 0 0;\n",
              "      width: 32px;\n",
              "    }\n",
              "\n",
              "    .colab-df-convert:hover {\n",
              "      background-color: #E2EBFA;\n",
              "      box-shadow: 0px 1px 2px rgba(60, 64, 67, 0.3), 0px 1px 3px 1px rgba(60, 64, 67, 0.15);\n",
              "      fill: #174EA6;\n",
              "    }\n",
              "\n",
              "    [theme=dark] .colab-df-convert {\n",
              "      background-color: #3B4455;\n",
              "      fill: #D2E3FC;\n",
              "    }\n",
              "\n",
              "    [theme=dark] .colab-df-convert:hover {\n",
              "      background-color: #434B5C;\n",
              "      box-shadow: 0px 1px 3px 1px rgba(0, 0, 0, 0.15);\n",
              "      filter: drop-shadow(0px 1px 2px rgba(0, 0, 0, 0.3));\n",
              "      fill: #FFFFFF;\n",
              "    }\n",
              "  </style>\n",
              "\n",
              "      <script>\n",
              "        const buttonEl =\n",
              "          document.querySelector('#df-15fcd283-24ec-487b-bf3b-624b1d887067 button.colab-df-convert');\n",
              "        buttonEl.style.display =\n",
              "          google.colab.kernel.accessAllowed ? 'block' : 'none';\n",
              "\n",
              "        async function convertToInteractive(key) {\n",
              "          const element = document.querySelector('#df-15fcd283-24ec-487b-bf3b-624b1d887067');\n",
              "          const dataTable =\n",
              "            await google.colab.kernel.invokeFunction('convertToInteractive',\n",
              "                                                     [key], {});\n",
              "          if (!dataTable) return;\n",
              "\n",
              "          const docLinkHtml = 'Like what you see? Visit the ' +\n",
              "            '<a target=\"_blank\" href=https://colab.research.google.com/notebooks/data_table.ipynb>data table notebook</a>'\n",
              "            + ' to learn more about interactive tables.';\n",
              "          element.innerHTML = '';\n",
              "          dataTable['output_type'] = 'display_data';\n",
              "          await google.colab.output.renderOutput(dataTable, element);\n",
              "          const docLink = document.createElement('div');\n",
              "          docLink.innerHTML = docLinkHtml;\n",
              "          element.appendChild(docLink);\n",
              "        }\n",
              "      </script>\n",
              "    </div>\n",
              "  </div>\n",
              "  "
            ]
          },
          "metadata": {},
          "execution_count": 42
        }
      ],
      "source": [
        "X_new"
      ]
    },
    {
      "cell_type": "code",
      "execution_count": 43,
      "metadata": {
        "id": "tSs5Q8i0VeIS"
      },
      "outputs": [],
      "source": [
        "import seaborn as sns"
      ]
    },
    {
      "cell_type": "code",
      "execution_count": 44,
      "metadata": {
        "colab": {
          "base_uri": "https://localhost:8080/",
          "height": 298
        },
        "id": "TUYQSI5wViKP",
        "outputId": "95200938-6066-4eae-8c93-a00431614a93"
      },
      "outputs": [
        {
          "output_type": "execute_result",
          "data": {
            "text/plain": [
              "<matplotlib.axes._subplots.AxesSubplot at 0x7f2460f5a590>"
            ]
          },
          "metadata": {},
          "execution_count": 44
        },
        {
          "output_type": "display_data",
          "data": {
            "text/plain": [
              "<Figure size 432x288 with 1 Axes>"
            ],
            "image/png": "[encoded data removed]"
          },
          "metadata": {
            "needs_background": "light"
          }
        }
      ],
      "source": [
        "sns.scatterplot(x=\"Total_Molecular_weight\",y=\"Wt.% H\",data=X_new)"
      ]
    },
    {
      "cell_type": "code",
      "execution_count": 45,
      "metadata": {
        "colab": {
          "base_uri": "https://localhost:8080/",
          "height": 354
        },
        "id": "70GxKFD3aae_",
        "outputId": "265b8b09-ebd9-4fe9-d06d-1e508d30e87f"
      },
      "outputs": [
        {
          "output_type": "stream",
          "name": "stderr",
          "text": [
            "/usr/local/lib/python3.7/dist-packages/seaborn/distributions.py:2619: FutureWarning: `distplot` is a deprecated function and will be removed in a future version. Please adapt your code to use either `displot` (a figure-level function with similar flexibility) or `histplot` (an axes-level function for histograms).\n",
            "  warnings.warn(msg, FutureWarning)\n"
          ]
        },
        {
          "output_type": "execute_result",
          "data": {
            "text/plain": [
              "<matplotlib.axes._subplots.AxesSubplot at 0x7f2460a3cf50>"
            ]
          },
          "metadata": {},
          "execution_count": 45
        },
        {
          "output_type": "display_data",
          "data": {
            "text/plain": [
              "<Figure size 432x288 with 1 Axes>"
            ],
            "image/png": "[encoded data removed]"
          },
          "metadata": {
            "needs_background": "light"
          }
        }
      ],
      "source": [
        "sns.distplot(X_new[\"Total_Molecular_weight\"])"
      ]
    },
    {
      "cell_type": "code",
      "execution_count": 46,
      "metadata": {
        "colab": {
          "base_uri": "https://localhost:8080/",
          "height": 353
        },
        "id": "ue0HPUhdVwJN",
        "outputId": "a739d4ad-15e5-4dca-b5cb-5a9642602227"
      },
      "outputs": [
        {
          "output_type": "stream",
          "name": "stderr",
          "text": [
            "/usr/local/lib/python3.7/dist-packages/seaborn/distributions.py:2619: FutureWarning: `distplot` is a deprecated function and will be removed in a future version. Please adapt your code to use either `displot` (a figure-level function with similar flexibility) or `histplot` (an axes-level function for histograms).\n",
            "  warnings.warn(msg, FutureWarning)\n"
          ]
        },
        {
          "output_type": "execute_result",
          "data": {
            "text/plain": [
              "<matplotlib.axes._subplots.AxesSubplot at 0x7f245e8ee2d0>"
            ]
          },
          "metadata": {},
          "execution_count": 46
        },
        {
          "output_type": "display_data",
          "data": {
            "text/plain": [
              "<Figure size 432x288 with 1 Axes>"
            ],
            "image/png": "[encoded data removed]"
          },
          "metadata": {
            "needs_background": "light"
          }
        }
      ],
      "source": [
        "sns.distplot(X_new[\"Wt.% H\"])"
      ]
    },
    {
      "cell_type": "code",
      "execution_count": 47,
      "metadata": {
        "id": "i8yfCOMKd-nL"
      },
      "outputs": [],
      "source": [
        "X_new.reset_index(inplace=True)"
      ]
    },
    {
      "cell_type": "code",
      "execution_count": 48,
      "metadata": {
        "colab": {
          "base_uri": "https://localhost:8080/"
        },
        "id": "ZI7qNpjHbobU",
        "outputId": "3e8302f3-5a60-41d4-ad77-119ee2fe7b56"
      },
      "outputs": [
        {
          "output_type": "execute_result",
          "data": {
            "text/plain": [
              "array([-3.59239553e-02, -2.64187925e-01, -2.64873312e-01,  5.76333636e-02,\n",
              "        5.61814121e-02,  5.71493797e-02,  5.81173474e-02,  5.90853151e-02,\n",
              "        8.94888041e-02,  6.71502063e-02,  6.82763159e-02,  3.93435047e-02,\n",
              "        2.34735651e-02,  2.65567353e-02,  3.70251500e-02,  7.12703718e-02,\n",
              "        8.84742227e-02,  9.70761481e-02,  5.34639240e-02,  7.36321029e-03,\n",
              "        4.66511380e-02,  3.80888316e-02,  2.15514862e-02,  9.15882285e-02,\n",
              "        8.48446714e-02,  1.14475898e-01,  4.81662360e-02,  5.40389097e-02,\n",
              "        5.28643749e-02,  5.05153055e-02,  6.03400236e-02,  3.46723402e-02,\n",
              "        3.64279469e-02,  9.91967238e-02,  4.77971490e-02,  4.58483618e-02,\n",
              "       -3.34771154e-01, -3.32842717e-01, -3.25876204e-01, -3.22082369e-01,\n",
              "       -1.88355415e-01, -2.16934901e-01, -2.57684975e-01, -3.18283620e-01,\n",
              "       -3.15067163e-01, -3.14579236e-01, -3.12592984e-01, -3.12796418e-01,\n",
              "       -2.59503218e-01, -3.15135004e-01, -3.21712045e-01, -3.05666875e-01,\n",
              "       -3.15765721e-01, -3.19711276e-01, -3.22382745e-01, -3.18644787e-01,\n",
              "       -3.22754739e-01, -3.12908866e-01, -5.42215574e-02, -4.50921223e-02,\n",
              "       -4.59151579e-01, -4.60745323e-02, -1.20876263e-02, -8.90245635e-03,\n",
              "       -5.50005081e-02, -6.11551396e-02, -5.92788150e-02, -5.13566003e-02,\n",
              "       -3.90070666e-02, -6.25103938e-02, -9.12089043e-02,  8.93614751e-02,\n",
              "        9.78984828e-02, -5.26136150e-01, -3.14368951e-01, -7.03532443e-02,\n",
              "       -1.02565846e-01,  2.33132883e-02,  5.16898402e-02,  4.93407707e-02,\n",
              "        5.46261770e-02,  5.34516423e-02,  2.65033039e-02, -3.03677050e-01,\n",
              "       -3.17656299e-01, -3.18272792e-01, -3.18683788e-01, -3.17872598e-01,\n",
              "       -3.20133072e-01, -3.03876248e-01, -3.23682069e-01, -3.16902377e-01,\n",
              "       -3.11517463e-01, -3.24237470e-01, -3.23205406e-01, -3.30593874e-01,\n",
              "       -3.26483921e-01,  1.08600986e-01,  1.96505714e-02, -2.84358088e-01,\n",
              "       -2.85030974e-01, -2.82244812e-01,  7.89184260e-02,  1.02623408e-01,\n",
              "        1.14475898e-01, -3.10711216e-01,  3.80888316e-02, -3.14368951e-01,\n",
              "       -3.15806821e-01, -3.15530834e-01, -3.15273576e-01, -3.15083191e-01,\n",
              "       -3.14758846e-01, -3.12250766e-01, -3.12128082e-01, -3.11893175e-01,\n",
              "       -3.11796379e-01, -3.07076062e-01, -3.06911779e-01, -3.06718472e-01,\n",
              "       -3.06560263e-01, -3.06291368e-01, -3.06158559e-01, -3.05966930e-01,\n",
              "       -3.05841100e-01, -3.17202792e-01, -3.17129004e-01, -3.14345980e-01,\n",
              "       -3.11331858e-01, -3.11071720e-01, -3.18241812e-01, -3.16700796e-01,\n",
              "       -3.10384898e-01, -3.10885478e-01, -3.13994271e-01, -3.17103063e-01,\n",
              "       -3.20211856e-01, -3.17919212e-01, -3.18806462e-01, -3.19430600e-01,\n",
              "        5.56974282e-02,  5.61717324e-02,  5.28643749e-02, -4.87828818e-02,\n",
              "       -4.33140489e-02,  5.61814121e-02,  5.28643749e-02, -6.56091071e-01,\n",
              "       -3.19711276e-01, -3.14896435e-01, -2.55434533e-01, -2.72531206e-01,\n",
              "       -3.17656299e-01, -3.17201107e-01, -3.15914816e-01, -3.12230286e-01,\n",
              "       -3.20670561e-01, -3.25560894e-01, -3.16246524e-01, -3.18865410e-01,\n",
              "       -3.17919212e-01, -3.16446052e-01, -3.16492666e-01, -3.18271656e-01,\n",
              "       -3.16399439e-01, -3.15914816e-01, -3.22082369e-01, -3.69543730e-01,\n",
              "       -3.15778314e-01, -3.69782073e-01, -3.17000806e-01, -3.15326516e-01,\n",
              "       -3.69782073e-01, -3.45586799e-01, -3.45586799e-01, -3.15170126e-01,\n",
              "       -3.03876248e-01, -2.99004106e-01, -2.96934208e-01, -2.95459426e-01,\n",
              "       -2.95004773e-01, -2.93456676e-01, -2.93576884e-01, -3.15659893e-01,\n",
              "       -2.93363649e-01, -3.18671783e-01, -3.16295400e-01, -3.61016629e-02,\n",
              "       -3.75879580e-02, -3.94433853e-02, -4.63755225e-02, -2.60544669e-01,\n",
              "       -2.47570881e-01,  6.45695408e+00,  5.90853151e-02,  3.41249766e-02,\n",
              "       -4.83117611e-02,  6.45695408e+00,  1.23764164e-01,  7.21050885e-02,\n",
              "        7.79608585e-02,  4.61192972e-02,  2.79310028e-02,  4.08850899e-02,\n",
              "       -2.09997376e-03,  5.38138281e-02,  5.17144037e-02,  5.34069595e-02,\n",
              "        5.06972322e-02,  4.72384054e-02,  4.54766033e-02,  1.47509819e-02,\n",
              "        1.41637146e-02,  7.27272294e-02,  1.11122835e-01,  8.48446714e-02,\n",
              "        1.44107125e-01,  5.40389097e-02,  4.58171665e-02,  5.37830820e-02,\n",
              "        5.16375384e-02,  6.45695408e+00,  6.54666029e-02,  4.49428923e-02,\n",
              "        2.44017881e-02,  6.45695408e+00,  1.60769914e-02,  6.45695408e+00,\n",
              "        4.03808537e-02,  4.77971490e-02,  3.66727060e-02,  5.15052967e-02,\n",
              "        5.28721737e-02,  4.05805029e-02, -3.33115235e-01, -3.30907344e-01,\n",
              "       -2.78302017e-01, -2.30094460e-01, -3.03036654e-01, -2.57880611e-01,\n",
              "       -3.33274119e-01, -3.21971750e-01, -3.35740090e-01, -3.28958669e-01,\n",
              "       -3.24575845e-01, -3.12245987e-01, -3.24195074e-01, -3.15975169e-01,\n",
              "       -3.10371009e-01, -3.00096128e-01,  2.54330878e+00,  5.44126310e+00,\n",
              "       -3.16902377e-01, -3.17683009e-01, -3.15530834e-01, -3.15255928e-01,\n",
              "        2.74880641e+00, -3.15568548e-01, -3.15306351e-01, -3.15166429e-01,\n",
              "       -3.14006713e-01, -3.15754091e-01, -3.18198380e-01, -3.13789482e-01,\n",
              "       -3.12883561e-01, -3.22588242e-01, -3.25876204e-01, -3.08495042e-01,\n",
              "       -3.06718472e-01,  8.77988376e-02,  4.31934272e-01, -4.50062712e-02,\n",
              "       -4.35444401e-02, -4.58046558e-02, -4.41404174e-02,  4.79381266e-02,\n",
              "        2.24745145e-02,  5.45136362e-02,  5.31140200e-02,  4.95002661e-02,\n",
              "        2.82345470e-02, -3.16628811e-01, -3.18683788e-01, -6.31598519e-02,\n",
              "       -1.19257957e-01,  6.45695408e+00, -2.45369458e-02, -2.87552271e-01,\n",
              "        4.66457619e-01, -2.28705885e-01,  4.27059612e-02,  2.14094359e-02,\n",
              "       -3.30974644e-01, -3.18644787e-01, -3.30561818e-01, -3.18231961e-01,\n",
              "       -3.28422985e-01, -3.16093127e-01, -3.25712862e-01, -3.17018999e-01,\n",
              "        5.28643749e-02,  2.33132883e-02, -3.19023158e-01, -3.17091253e-01,\n",
              "       -3.19078156e-01, -3.19430600e-01, -3.18747171e-01, -3.15797606e-01,\n",
              "       -3.15676849e-01, -3.16780795e-01, -4.33140489e-02, -6.24549640e-02])"
            ]
          },
          "metadata": {},
          "execution_count": 48
        }
      ],
      "source": [
        "np.array(X_new[\"Total_Molecular_weight\"])"
      ]
    },
    {
      "cell_type": "code",
      "execution_count": 49,
      "metadata": {
        "colab": {
          "base_uri": "https://localhost:8080/"
        },
        "id": "UHIZeyUdcuCv",
        "outputId": "85ce108f-0338-4712-b27b-887d4b970a4b"
      },
      "outputs": [
        {
          "output_type": "execute_result",
          "data": {
            "text/plain": [
              "(312,)"
            ]
          },
          "metadata": {},
          "execution_count": 49
        }
      ],
      "source": [
        "X_new[\"Wt.% H\"].shape"
      ]
    },
    {
      "cell_type": "code",
      "execution_count": 50,
      "metadata": {
        "colab": {
          "base_uri": "https://localhost:8080/"
        },
        "id": "LExndNTWcwjf",
        "outputId": "f22c29c4-79b9-4bc0-d774-2b12cdbcee1a"
      },
      "outputs": [
        {
          "output_type": "execute_result",
          "data": {
            "text/plain": [
              "(312,)"
            ]
          },
          "metadata": {},
          "execution_count": 50
        }
      ],
      "source": [
        "X_new[\"Total_Molecular_weight\"].shape\n"
      ]
    },
    {
      "cell_type": "code",
      "execution_count": 51,
      "metadata": {
        "id": "d5xLmFgYp451"
      },
      "outputs": [],
      "source": [
        "np.random.seed(0)"
      ]
    },
    {
      "cell_type": "code",
      "execution_count": 52,
      "metadata": {
        "id": "WUv9Uy44b3zf"
      },
      "outputs": [],
      "source": [
        "from sklearn.model_selection import train_test_split\n",
        "X_train,X_test,y_train,y_test=train_test_split(X_new.iloc[:,1],X_new.iloc[:,2],train_size=0.8,random_state=42)"
      ]
    },
    {
      "cell_type": "code",
      "execution_count": 53,
      "metadata": {
        "id": "2VBrtewNg6tT"
      },
      "outputs": [],
      "source": [
        "from sklearn.model_selection import RandomizedSearchCV"
      ]
    },
    {
      "cell_type": "code",
      "execution_count": 54,
      "metadata": {
        "colab": {
          "base_uri": "https://localhost:8080/"
        },
        "id": "QUF2z2pNaoHD",
        "outputId": "8d103abf-4366-4076-d952-1ead13bf4e06"
      },
      "outputs": [
        {
          "output_type": "stream",
          "name": "stderr",
          "text": [
            "/usr/local/lib/python3.7/dist-packages/ipykernel_launcher.py:6: DataConversionWarning: A column-vector y was passed when a 1d array was expected. Please change the shape of y to (n_samples,), for example using ravel().\n",
            "  \n"
          ]
        },
        {
          "output_type": "execute_result",
          "data": {
            "text/plain": [
              "RandomForestRegressor(random_state=0)"
            ]
          },
          "metadata": {},
          "execution_count": 54
        }
      ],
      "source": [
        "from sklearn.ensemble import RandomForestRegressor\n",
        "from sklearn.datasets import make_regression\n",
        "regr = RandomForestRegressor(random_state=0)\n",
        "X=np.array(X_train).reshape(-1,1)\n",
        "y=np.array(y_train).reshape(-1,1)\n",
        "regr.fit(X,y)"
      ]
    },
    {
      "cell_type": "code",
      "execution_count": 55,
      "metadata": {
        "colab": {
          "base_uri": "https://localhost:8080/"
        },
        "id": "1DTvChpcujIU",
        "outputId": "73a87528-53de-4ac6-afb1-901f494558e6"
      },
      "outputs": [
        {
          "output_type": "execute_result",
          "data": {
            "text/plain": [
              "0.86310502135308"
            ]
          },
          "metadata": {},
          "execution_count": 55
        }
      ],
      "source": [
        "regr.score(X,y)"
      ]
    },
    {
      "cell_type": "code",
      "execution_count": 56,
      "metadata": {
        "colab": {
          "base_uri": "https://localhost:8080/"
        },
        "id": "1BcOJKfQuqQl",
        "outputId": "f50ccbac-bb61-4948-bd76-5c611f972857"
      },
      "outputs": [
        {
          "output_type": "execute_result",
          "data": {
            "text/plain": [
              "{'bootstrap': True,\n",
              " 'ccp_alpha': 0.0,\n",
              " 'criterion': 'squared_error',\n",
              " 'max_depth': None,\n",
              " 'max_features': 'auto',\n",
              " 'max_leaf_nodes': None,\n",
              " 'max_samples': None,\n",
              " 'min_impurity_decrease': 0.0,\n",
              " 'min_samples_leaf': 1,\n",
              " 'min_samples_split': 2,\n",
              " 'min_weight_fraction_leaf': 0.0,\n",
              " 'n_estimators': 100,\n",
              " 'n_jobs': None,\n",
              " 'oob_score': False,\n",
              " 'random_state': 0,\n",
              " 'verbose': 0,\n",
              " 'warm_start': False}"
            ]
          },
          "metadata": {},
          "execution_count": 56
        }
      ],
      "source": [
        "regr.get_params()"
      ]
    },
    {
      "cell_type": "markdown",
      "metadata": {
        "id": "3ROP3qPLQR3o"
      },
      "source": [
        "{'bootstrap': True,\n",
        " 'ccp_alpha': 0.0,\n",
        " 'criterion': 'squared_error',\n",
        " 'max_depth': None,\n",
        " 'max_features': 'auto',\n",
        " 'max_leaf_nodes': None,\n",
        " 'max_samples': None,\n",
        " 'min_impurity_decrease': 0.0,\n",
        " 'min_samples_leaf': 1,\n",
        " 'min_samples_split': 2,\n",
        " 'min_weight_fraction_leaf': 0.0,\n",
        " 'n_estimators': 100,\n",
        " 'n_jobs': None,\n",
        " 'oob_score': False,\n",
        " 'random_state': 0,\n",
        " 'verbose': 0,\n",
        " 'warm_start': False}"
      ]
    },
    {
      "cell_type": "code",
      "execution_count": 57,
      "metadata": {
        "id": "wFfFFu90f0qP"
      },
      "outputs": [],
      "source": [
        "X1=np.array(X_test).reshape(-1,1)\n",
        "y1=np.array(y_test).reshape(-1,1)"
      ]
    },
    {
      "cell_type": "code",
      "execution_count": 58,
      "metadata": {
        "colab": {
          "base_uri": "https://localhost:8080/"
        },
        "id": "sYWNgi2Eb1ZM",
        "outputId": "ec31cf44-5a29-4f2c-9d5c-399bbb5b77ef"
      },
      "outputs": [
        {
          "output_type": "execute_result",
          "data": {
            "text/plain": [
              "0.40264500390292457"
            ]
          },
          "metadata": {},
          "execution_count": 58
        }
      ],
      "source": [
        "regr.score(X1,y1) #0.732208132784083\n"
      ]
    },
    {
      "cell_type": "code",
      "execution_count": 59,
      "metadata": {
        "colab": {
          "base_uri": "https://localhost:8080/",
          "height": 423
        },
        "id": "AuFVKjO3qURo",
        "outputId": "fe162c53-7290-4d29-9732-664dd3473e96"
      },
      "outputs": [
        {
          "output_type": "execute_result",
          "data": {
            "text/plain": [
              "                                        index  Total_Molecular_weight  \\\n",
              "0                              Nb0.994Ge0.006               -0.035924   \n",
              "1                              Ni0.979Fe0.021               -0.264188   \n",
              "2                              Ni0.943Fe0.057               -0.264873   \n",
              "3                                Pd0.75Ag0.25                0.057633   \n",
              "4                                  Pd0.9Ag0.1                0.056181   \n",
              "..                                        ...                     ...   \n",
              "307                 Ti0.28V0.35Cr00.22Mn00.15               -0.315798   \n",
              "308  Ti00.24V0.35Cr00.31000000000000005Mn0.10               -0.315677   \n",
              "309                 Ti00.28V0.35Cr00.27Mn0.10               -0.316781   \n",
              "310                            Nb00.97Cr00.03               -0.043314   \n",
              "311                              Nb00.9Cr00.1               -0.062455   \n",
              "\n",
              "        Wt.% H  \n",
              "0    17.064260  \n",
              "1    -0.116712  \n",
              "2    -0.154681  \n",
              "3    -0.344526  \n",
              "4    -0.325542  \n",
              "..         ...  \n",
              "307   0.035164  \n",
              "308   0.092117  \n",
              "309   0.092117  \n",
              "310  -0.249604  \n",
              "311  -0.249604  \n",
              "\n",
              "[312 rows x 3 columns]"
            ],
            "text/html": [
              "\n",
              "  <div id=\"df-3683196a-a211-4b1e-9484-9244851afc45\">\n",
              "    <div class=\"colab-df-container\">\n",
              "      <div>\n",
              "<style scoped>\n",
              "    .dataframe tbody tr th:only-of-type {\n",
              "        vertical-align: middle;\n",
              "    }\n",
              "\n",
              "    .dataframe tbody tr th {\n",
              "        vertical-align: top;\n",
              "    }\n",
              "\n",
              "    .dataframe thead th {\n",
              "        text-align: right;\n",
              "    }\n",
              "</style>\n",
              "<table border=\"1\" class=\"dataframe\">\n",
              "  <thead>\n",
              "    <tr style=\"text-align: right;\">\n",
              "      <th></th>\n",
              "      <th>index</th>\n",
              "      <th>Total_Molecular_weight</th>\n",
              "      <th>Wt.% H</th>\n",
              "    </tr>\n",
              "  </thead>\n",
              "  <tbody>\n",
              "    <tr>\n",
              "      <th>0</th>\n",
              "      <td>Nb0.994Ge0.006</td>\n",
              "      <td>-0.035924</td>\n",
              "      <td>17.064260</td>\n",
              "    </tr>\n",
              "    <tr>\n",
              "      <th>1</th>\n",
              "      <td>Ni0.979Fe0.021</td>\n",
              "      <td>-0.264188</td>\n",
              "      <td>-0.116712</td>\n",
              "    </tr>\n",
              "    <tr>\n",
              "      <th>2</th>\n",
              "      <td>Ni0.943Fe0.057</td>\n",
              "      <td>-0.264873</td>\n",
              "      <td>-0.154681</td>\n",
              "    </tr>\n",
              "    <tr>\n",
              "      <th>3</th>\n",
              "      <td>Pd0.75Ag0.25</td>\n",
              "      <td>0.057633</td>\n",
              "      <td>-0.344526</td>\n",
              "    </tr>\n",
              "    <tr>\n",
              "      <th>4</th>\n",
              "      <td>Pd0.9Ag0.1</td>\n",
              "      <td>0.056181</td>\n",
              "      <td>-0.325542</td>\n",
              "    </tr>\n",
              "    <tr>\n",
              "      <th>...</th>\n",
              "      <td>...</td>\n",
              "      <td>...</td>\n",
              "      <td>...</td>\n",
              "    </tr>\n",
              "    <tr>\n",
              "      <th>307</th>\n",
              "      <td>Ti0.28V0.35Cr00.22Mn00.15</td>\n",
              "      <td>-0.315798</td>\n",
              "      <td>0.035164</td>\n",
              "    </tr>\n",
              "    <tr>\n",
              "      <th>308</th>\n",
              "      <td>Ti00.24V0.35Cr00.31000000000000005Mn0.10</td>\n",
              "      <td>-0.315677</td>\n",
              "      <td>0.092117</td>\n",
              "    </tr>\n",
              "    <tr>\n",
              "      <th>309</th>\n",
              "      <td>Ti00.28V0.35Cr00.27Mn0.10</td>\n",
              "      <td>-0.316781</td>\n",
              "      <td>0.092117</td>\n",
              "    </tr>\n",
              "    <tr>\n",
              "      <th>310</th>\n",
              "      <td>Nb00.97Cr00.03</td>\n",
              "      <td>-0.043314</td>\n",
              "      <td>-0.249604</td>\n",
              "    </tr>\n",
              "    <tr>\n",
              "      <th>311</th>\n",
              "      <td>Nb00.9Cr00.1</td>\n",
              "      <td>-0.062455</td>\n",
              "      <td>-0.249604</td>\n",
              "    </tr>\n",
              "  </tbody>\n",
              "</table>\n",
              "<p>312 rows × 3 columns</p>\n",
              "</div>\n",
              "      <button class=\"colab-df-convert\" onclick=\"convertToInteractive('df-3683196a-a211-4b1e-9484-9244851afc45')\"\n",
              "              title=\"Convert this dataframe to an interactive table.\"\n",
              "              style=\"display:none;\">\n",
              "        \n",
              "  <svg xmlns=\"http://www.w3.org/2000/svg\" height=\"24px\"viewBox=\"0 0 24 24\"\n",
              "       width=\"24px\">\n",
              "    <path d=\"M0 0h24v24H0V0z\" fill=\"none\"/>\n",
              "    <path d=\"M18.56 5.44l.94 2.06.94-2.06 2.06-.94-2.06-.94-.94-2.06-.94 2.06-2.06.94zm-11 1L8.5 8.5l.94-2.06 2.06-.94-2.06-.94L8.5 2.5l-.94 2.06-2.06.94zm10 10l.94 2.06.94-2.06 2.06-.94-2.06-.94-.94-2.06-.94 2.06-2.06.94z\"/><path d=\"M17.41 7.96l-1.37-1.37c-.4-.4-.92-.59-1.43-.59-.52 0-1.04.2-1.43.59L10.3 9.45l-7.72 7.72c-.78.78-.78 2.05 0 2.83L4 21.41c.39.39.9.59 1.41.59.51 0 1.02-.2 1.41-.59l7.78-7.78 2.81-2.81c.8-.78.8-2.07 0-2.86zM5.41 20L4 18.59l7.72-7.72 1.47 1.35L5.41 20z\"/>\n",
              "  </svg>\n",
              "      </button>\n",
              "      \n",
              "  <style>\n",
              "    .colab-df-container {\n",
              "      display:flex;\n",
              "      flex-wrap:wrap;\n",
              "      gap: 12px;\n",
              "    }\n",
              "\n",
              "    .colab-df-convert {\n",
              "      background-color: #E8F0FE;\n",
              "      border: none;\n",
              "      border-radius: 50%;\n",
              "      cursor: pointer;\n",
              "      display: none;\n",
              "      fill: #1967D2;\n",
              "      height: 32px;\n",
              "      padding: 0 0 0 0;\n",
              "      width: 32px;\n",
              "    }\n",
              "\n",
              "    .colab-df-convert:hover {\n",
              "      background-color: #E2EBFA;\n",
              "      box-shadow: 0px 1px 2px rgba(60, 64, 67, 0.3), 0px 1px 3px 1px rgba(60, 64, 67, 0.15);\n",
              "      fill: #174EA6;\n",
              "    }\n",
              "\n",
              "    [theme=dark] .colab-df-convert {\n",
              "      background-color: #3B4455;\n",
              "      fill: #D2E3FC;\n",
              "    }\n",
              "\n",
              "    [theme=dark] .colab-df-convert:hover {\n",
              "      background-color: #434B5C;\n",
              "      box-shadow: 0px 1px 3px 1px rgba(0, 0, 0, 0.15);\n",
              "      filter: drop-shadow(0px 1px 2px rgba(0, 0, 0, 0.3));\n",
              "      fill: #FFFFFF;\n",
              "    }\n",
              "  </style>\n",
              "\n",
              "      <script>\n",
              "        const buttonEl =\n",
              "          document.querySelector('#df-3683196a-a211-4b1e-9484-9244851afc45 button.colab-df-convert');\n",
              "        buttonEl.style.display =\n",
              "          google.colab.kernel.accessAllowed ? 'block' : 'none';\n",
              "\n",
              "        async function convertToInteractive(key) {\n",
              "          const element = document.querySelector('#df-3683196a-a211-4b1e-9484-9244851afc45');\n",
              "          const dataTable =\n",
              "            await google.colab.kernel.invokeFunction('convertToInteractive',\n",
              "                                                     [key], {});\n",
              "          if (!dataTable) return;\n",
              "\n",
              "          const docLinkHtml = 'Like what you see? Visit the ' +\n",
              "            '<a target=\"_blank\" href=https://colab.research.google.com/notebooks/data_table.ipynb>data table notebook</a>'\n",
              "            + ' to learn more about interactive tables.';\n",
              "          element.innerHTML = '';\n",
              "          dataTable['output_type'] = 'display_data';\n",
              "          await google.colab.output.renderOutput(dataTable, element);\n",
              "          const docLink = document.createElement('div');\n",
              "          docLink.innerHTML = docLinkHtml;\n",
              "          element.appendChild(docLink);\n",
              "        }\n",
              "      </script>\n",
              "    </div>\n",
              "  </div>\n",
              "  "
            ]
          },
          "metadata": {},
          "execution_count": 59
        }
      ],
      "source": [
        "X_new"
      ]
    },
    {
      "cell_type": "code",
      "execution_count": 60,
      "metadata": {
        "id": "2kcWzNOoqpIp"
      },
      "outputs": [],
      "source": [
        "l7=[]\n",
        "for x in l5:\n",
        "    for y in x:\n",
        "        if y[0] not in l7:\n",
        "            l7.append(y[0])"
      ]
    },
    {
      "cell_type": "code",
      "execution_count": 61,
      "metadata": {
        "id": "kpTz3OJFq1M2"
      },
      "outputs": [],
      "source": [
        "new_dataset=pd.DataFrame(np.zeros((len(l5),len(l7))),columns=l7)"
      ]
    },
    {
      "cell_type": "code",
      "execution_count": 62,
      "metadata": {
        "colab": {
          "base_uri": "https://localhost:8080/",
          "height": 487
        },
        "id": "VXUoCkaQrIAG",
        "outputId": "e3281397-7325-47c9-b644-42fa998fe8d2"
      },
      "outputs": [
        {
          "output_type": "execute_result",
          "data": {
            "text/plain": [
              "      Nb   Ge   Ni   Fe   Pd   Ag   Bi   Ce   Co   Cu  ...    C   Ru   Hf  \\\n",
              "0    0.0  0.0  0.0  0.0  0.0  0.0  0.0  0.0  0.0  0.0  ...  0.0  0.0  0.0   \n",
              "1    0.0  0.0  0.0  0.0  0.0  0.0  0.0  0.0  0.0  0.0  ...  0.0  0.0  0.0   \n",
              "2    0.0  0.0  0.0  0.0  0.0  0.0  0.0  0.0  0.0  0.0  ...  0.0  0.0  0.0   \n",
              "3    0.0  0.0  0.0  0.0  0.0  0.0  0.0  0.0  0.0  0.0  ...  0.0  0.0  0.0   \n",
              "4    0.0  0.0  0.0  0.0  0.0  0.0  0.0  0.0  0.0  0.0  ...  0.0  0.0  0.0   \n",
              "..   ...  ...  ...  ...  ...  ...  ...  ...  ...  ...  ...  ...  ...  ...   \n",
              "307  0.0  0.0  0.0  0.0  0.0  0.0  0.0  0.0  0.0  0.0  ...  0.0  0.0  0.0   \n",
              "308  0.0  0.0  0.0  0.0  0.0  0.0  0.0  0.0  0.0  0.0  ...  0.0  0.0  0.0   \n",
              "309  0.0  0.0  0.0  0.0  0.0  0.0  0.0  0.0  0.0  0.0  ...  0.0  0.0  0.0   \n",
              "310  0.0  0.0  0.0  0.0  0.0  0.0  0.0  0.0  0.0  0.0  ...  0.0  0.0  0.0   \n",
              "311  0.0  0.0  0.0  0.0  0.0  0.0  0.0  0.0  0.0  0.0  ...  0.0  0.0  0.0   \n",
              "\n",
              "       W   Re   Os   Au   Al   Ga   In  \n",
              "0    0.0  0.0  0.0  0.0  0.0  0.0  0.0  \n",
              "1    0.0  0.0  0.0  0.0  0.0  0.0  0.0  \n",
              "2    0.0  0.0  0.0  0.0  0.0  0.0  0.0  \n",
              "3    0.0  0.0  0.0  0.0  0.0  0.0  0.0  \n",
              "4    0.0  0.0  0.0  0.0  0.0  0.0  0.0  \n",
              "..   ...  ...  ...  ...  ...  ...  ...  \n",
              "307  0.0  0.0  0.0  0.0  0.0  0.0  0.0  \n",
              "308  0.0  0.0  0.0  0.0  0.0  0.0  0.0  \n",
              "309  0.0  0.0  0.0  0.0  0.0  0.0  0.0  \n",
              "310  0.0  0.0  0.0  0.0  0.0  0.0  0.0  \n",
              "311  0.0  0.0  0.0  0.0  0.0  0.0  0.0  \n",
              "\n",
              "[312 rows x 42 columns]"
            ],
            "text/html": [
              "\n",
              "  <div id=\"df-39c9e0d1-53b6-4fce-a011-74a3b209a04c\">\n",
              "    <div class=\"colab-df-container\">\n",
              "      <div>\n",
              "<style scoped>\n",
              "    .dataframe tbody tr th:only-of-type {\n",
              "        vertical-align: middle;\n",
              "    }\n",
              "\n",
              "    .dataframe tbody tr th {\n",
              "        vertical-align: top;\n",
              "    }\n",
              "\n",
              "    .dataframe thead th {\n",
              "        text-align: right;\n",
              "    }\n",
              "</style>\n",
              "<table border=\"1\" class=\"dataframe\">\n",
              "  <thead>\n",
              "    <tr style=\"text-align: right;\">\n",
              "      <th></th>\n",
              "      <th>Nb</th>\n",
              "      <th>Ge</th>\n",
              "      <th>Ni</th>\n",
              "      <th>Fe</th>\n",
              "      <th>Pd</th>\n",
              "      <th>Ag</th>\n",
              "      <th>Bi</th>\n",
              "      <th>Ce</th>\n",
              "      <th>Co</th>\n",
              "      <th>Cu</th>\n",
              "      <th>...</th>\n",
              "      <th>C</th>\n",
              "      <th>Ru</th>\n",
              "      <th>Hf</th>\n",
              "      <th>W</th>\n",
              "      <th>Re</th>\n",
              "      <th>Os</th>\n",
              "      <th>Au</th>\n",
              "      <th>Al</th>\n",
              "      <th>Ga</th>\n",
              "      <th>In</th>\n",
              "    </tr>\n",
              "  </thead>\n",
              "  <tbody>\n",
              "    <tr>\n",
              "      <th>0</th>\n",
              "      <td>0.0</td>\n",
              "      <td>0.0</td>\n",
              "      <td>0.0</td>\n",
              "      <td>0.0</td>\n",
              "      <td>0.0</td>\n",
              "      <td>0.0</td>\n",
              "      <td>0.0</td>\n",
              "      <td>0.0</td>\n",
              "      <td>0.0</td>\n",
              "      <td>0.0</td>\n",
              "      <td>...</td>\n",
              "      <td>0.0</td>\n",
              "      <td>0.0</td>\n",
              "      <td>0.0</td>\n",
              "      <td>0.0</td>\n",
              "      <td>0.0</td>\n",
              "      <td>0.0</td>\n",
              "      <td>0.0</td>\n",
              "      <td>0.0</td>\n",
              "      <td>0.0</td>\n",
              "      <td>0.0</td>\n",
              "    </tr>\n",
              "    <tr>\n",
              "      <th>1</th>\n",
              "      <td>0.0</td>\n",
              "      <td>0.0</td>\n",
              "      <td>0.0</td>\n",
              "      <td>0.0</td>\n",
              "      <td>0.0</td>\n",
              "      <td>0.0</td>\n",
              "      <td>0.0</td>\n",
              "      <td>0.0</td>\n",
              "      <td>0.0</td>\n",
              "      <td>0.0</td>\n",
              "      <td>...</td>\n",
              "      <td>0.0</td>\n",
              "      <td>0.0</td>\n",
              "      <td>0.0</td>\n",
              "      <td>0.0</td>\n",
              "      <td>0.0</td>\n",
              "      <td>0.0</td>\n",
              "      <td>0.0</td>\n",
              "      <td>0.0</td>\n",
              "      <td>0.0</td>\n",
              "      <td>0.0</td>\n",
              "    </tr>\n",
              "    <tr>\n",
              "      <th>2</th>\n",
              "      <td>0.0</td>\n",
              "      <td>0.0</td>\n",
              "      <td>0.0</td>\n",
              "      <td>0.0</td>\n",
              "      <td>0.0</td>\n",
              "      <td>0.0</td>\n",
              "      <td>0.0</td>\n",
              "      <td>0.0</td>\n",
              "      <td>0.0</td>\n",
              "      <td>0.0</td>\n",
              "      <td>...</td>\n",
              "      <td>0.0</td>\n",
              "      <td>0.0</td>\n",
              "      <td>0.0</td>\n",
              "      <td>0.0</td>\n",
              "      <td>0.0</td>\n",
              "      <td>0.0</td>\n",
              "      <td>0.0</td>\n",
              "      <td>0.0</td>\n",
              "      <td>0.0</td>\n",
              "      <td>0.0</td>\n",
              "    </tr>\n",
              "    <tr>\n",
              "      <th>3</th>\n",
              "      <td>0.0</td>\n",
              "      <td>0.0</td>\n",
              "      <td>0.0</td>\n",
              "      <td>0.0</td>\n",
              "      <td>0.0</td>\n",
              "      <td>0.0</td>\n",
              "      <td>0.0</td>\n",
              "      <td>0.0</td>\n",
              "      <td>0.0</td>\n",
              "      <td>0.0</td>\n",
              "      <td>...</td>\n",
              "      <td>0.0</td>\n",
              "      <td>0.0</td>\n",
              "      <td>0.0</td>\n",
              "      <td>0.0</td>\n",
              "      <td>0.0</td>\n",
              "      <td>0.0</td>\n",
              "      <td>0.0</td>\n",
              "      <td>0.0</td>\n",
              "      <td>0.0</td>\n",
              "      <td>0.0</td>\n",
              "    </tr>\n",
              "    <tr>\n",
              "      <th>4</th>\n",
              "      <td>0.0</td>\n",
              "      <td>0.0</td>\n",
              "      <td>0.0</td>\n",
              "      <td>0.0</td>\n",
              "      <td>0.0</td>\n",
              "      <td>0.0</td>\n",
              "      <td>0.0</td>\n",
              "      <td>0.0</td>\n",
              "      <td>0.0</td>\n",
              "      <td>0.0</td>\n",
              "      <td>...</td>\n",
              "      <td>0.0</td>\n",
              "      <td>0.0</td>\n",
              "      <td>0.0</td>\n",
              "      <td>0.0</td>\n",
              "      <td>0.0</td>\n",
              "      <td>0.0</td>\n",
              "      <td>0.0</td>\n",
              "      <td>0.0</td>\n",
              "      <td>0.0</td>\n",
              "      <td>0.0</td>\n",
              "    </tr>\n",
              "    <tr>\n",
              "      <th>...</th>\n",
              "      <td>...</td>\n",
              "      <td>...</td>\n",
              "      <td>...</td>\n",
              "      <td>...</td>\n",
              "      <td>...</td>\n",
              "      <td>...</td>\n",
              "      <td>...</td>\n",
              "      <td>...</td>\n",
              "      <td>...</td>\n",
              "      <td>...</td>\n",
              "      <td>...</td>\n",
              "      <td>...</td>\n",
              "      <td>...</td>\n",
              "      <td>...</td>\n",
              "      <td>...</td>\n",
              "      <td>...</td>\n",
              "      <td>...</td>\n",
              "      <td>...</td>\n",
              "      <td>...</td>\n",
              "      <td>...</td>\n",
              "      <td>...</td>\n",
              "    </tr>\n",
              "    <tr>\n",
              "      <th>307</th>\n",
              "      <td>0.0</td>\n",
              "      <td>0.0</td>\n",
              "      <td>0.0</td>\n",
              "      <td>0.0</td>\n",
              "      <td>0.0</td>\n",
              "      <td>0.0</td>\n",
              "      <td>0.0</td>\n",
              "      <td>0.0</td>\n",
              "      <td>0.0</td>\n",
              "      <td>0.0</td>\n",
              "      <td>...</td>\n",
              "      <td>0.0</td>\n",
              "      <td>0.0</td>\n",
              "      <td>0.0</td>\n",
              "      <td>0.0</td>\n",
              "      <td>0.0</td>\n",
              "      <td>0.0</td>\n",
              "      <td>0.0</td>\n",
              "      <td>0.0</td>\n",
              "      <td>0.0</td>\n",
              "      <td>0.0</td>\n",
              "    </tr>\n",
              "    <tr>\n",
              "      <th>308</th>\n",
              "      <td>0.0</td>\n",
              "      <td>0.0</td>\n",
              "      <td>0.0</td>\n",
              "      <td>0.0</td>\n",
              "      <td>0.0</td>\n",
              "      <td>0.0</td>\n",
              "      <td>0.0</td>\n",
              "      <td>0.0</td>\n",
              "      <td>0.0</td>\n",
              "      <td>0.0</td>\n",
              "      <td>...</td>\n",
              "      <td>0.0</td>\n",
              "      <td>0.0</td>\n",
              "      <td>0.0</td>\n",
              "      <td>0.0</td>\n",
              "      <td>0.0</td>\n",
              "      <td>0.0</td>\n",
              "      <td>0.0</td>\n",
              "      <td>0.0</td>\n",
              "      <td>0.0</td>\n",
              "      <td>0.0</td>\n",
              "    </tr>\n",
              "    <tr>\n",
              "      <th>309</th>\n",
              "      <td>0.0</td>\n",
              "      <td>0.0</td>\n",
              "      <td>0.0</td>\n",
              "      <td>0.0</td>\n",
              "      <td>0.0</td>\n",
              "      <td>0.0</td>\n",
              "      <td>0.0</td>\n",
              "      <td>0.0</td>\n",
              "      <td>0.0</td>\n",
              "      <td>0.0</td>\n",
              "      <td>...</td>\n",
              "      <td>0.0</td>\n",
              "      <td>0.0</td>\n",
              "      <td>0.0</td>\n",
              "      <td>0.0</td>\n",
              "      <td>0.0</td>\n",
              "      <td>0.0</td>\n",
              "      <td>0.0</td>\n",
              "      <td>0.0</td>\n",
              "      <td>0.0</td>\n",
              "      <td>0.0</td>\n",
              "    </tr>\n",
              "    <tr>\n",
              "      <th>310</th>\n",
              "      <td>0.0</td>\n",
              "      <td>0.0</td>\n",
              "      <td>0.0</td>\n",
              "      <td>0.0</td>\n",
              "      <td>0.0</td>\n",
              "      <td>0.0</td>\n",
              "      <td>0.0</td>\n",
              "      <td>0.0</td>\n",
              "      <td>0.0</td>\n",
              "      <td>0.0</td>\n",
              "      <td>...</td>\n",
              "      <td>0.0</td>\n",
              "      <td>0.0</td>\n",
              "      <td>0.0</td>\n",
              "      <td>0.0</td>\n",
              "      <td>0.0</td>\n",
              "      <td>0.0</td>\n",
              "      <td>0.0</td>\n",
              "      <td>0.0</td>\n",
              "      <td>0.0</td>\n",
              "      <td>0.0</td>\n",
              "    </tr>\n",
              "    <tr>\n",
              "      <th>311</th>\n",
              "      <td>0.0</td>\n",
              "      <td>0.0</td>\n",
              "      <td>0.0</td>\n",
              "      <td>0.0</td>\n",
              "      <td>0.0</td>\n",
              "      <td>0.0</td>\n",
              "      <td>0.0</td>\n",
              "      <td>0.0</td>\n",
              "      <td>0.0</td>\n",
              "      <td>0.0</td>\n",
              "      <td>...</td>\n",
              "      <td>0.0</td>\n",
              "      <td>0.0</td>\n",
              "      <td>0.0</td>\n",
              "      <td>0.0</td>\n",
              "      <td>0.0</td>\n",
              "      <td>0.0</td>\n",
              "      <td>0.0</td>\n",
              "      <td>0.0</td>\n",
              "      <td>0.0</td>\n",
              "      <td>0.0</td>\n",
              "    </tr>\n",
              "  </tbody>\n",
              "</table>\n",
              "<p>312 rows × 42 columns</p>\n",
              "</div>\n",
              "      <button class=\"colab-df-convert\" onclick=\"convertToInteractive('df-39c9e0d1-53b6-4fce-a011-74a3b209a04c')\"\n",
              "              title=\"Convert this dataframe to an interactive table.\"\n",
              "              style=\"display:none;\">\n",
              "        \n",
              "  <svg xmlns=\"http://www.w3.org/2000/svg\" height=\"24px\"viewBox=\"0 0 24 24\"\n",
              "       width=\"24px\">\n",
              "    <path d=\"M0 0h24v24H0V0z\" fill=\"none\"/>\n",
              "    <path d=\"M18.56 5.44l.94 2.06.94-2.06 2.06-.94-2.06-.94-.94-2.06-.94 2.06-2.06.94zm-11 1L8.5 8.5l.94-2.06 2.06-.94-2.06-.94L8.5 2.5l-.94 2.06-2.06.94zm10 10l.94 2.06.94-2.06 2.06-.94-2.06-.94-.94-2.06-.94 2.06-2.06.94z\"/><path d=\"M17.41 7.96l-1.37-1.37c-.4-.4-.92-.59-1.43-.59-.52 0-1.04.2-1.43.59L10.3 9.45l-7.72 7.72c-.78.78-.78 2.05 0 2.83L4 21.41c.39.39.9.59 1.41.59.51 0 1.02-.2 1.41-.59l7.78-7.78 2.81-2.81c.8-.78.8-2.07 0-2.86zM5.41 20L4 18.59l7.72-7.72 1.47 1.35L5.41 20z\"/>\n",
              "  </svg>\n",
              "      </button>\n",
              "      \n",
              "  <style>\n",
              "    .colab-df-container {\n",
              "      display:flex;\n",
              "      flex-wrap:wrap;\n",
              "      gap: 12px;\n",
              "    }\n",
              "\n",
              "    .colab-df-convert {\n",
              "      background-color: #E8F0FE;\n",
              "      border: none;\n",
              "      border-radius: 50%;\n",
              "      cursor: pointer;\n",
              "      display: none;\n",
              "      fill: #1967D2;\n",
              "      height: 32px;\n",
              "      padding: 0 0 0 0;\n",
              "      width: 32px;\n",
              "    }\n",
              "\n",
              "    .colab-df-convert:hover {\n",
              "      background-color: #E2EBFA;\n",
              "      box-shadow: 0px 1px 2px rgba(60, 64, 67, 0.3), 0px 1px 3px 1px rgba(60, 64, 67, 0.15);\n",
              "      fill: #174EA6;\n",
              "    }\n",
              "\n",
              "    [theme=dark] .colab-df-convert {\n",
              "      background-color: #3B4455;\n",
              "      fill: #D2E3FC;\n",
              "    }\n",
              "\n",
              "    [theme=dark] .colab-df-convert:hover {\n",
              "      background-color: #434B5C;\n",
              "      box-shadow: 0px 1px 3px 1px rgba(0, 0, 0, 0.15);\n",
              "      filter: drop-shadow(0px 1px 2px rgba(0, 0, 0, 0.3));\n",
              "      fill: #FFFFFF;\n",
              "    }\n",
              "  </style>\n",
              "\n",
              "      <script>\n",
              "        const buttonEl =\n",
              "          document.querySelector('#df-39c9e0d1-53b6-4fce-a011-74a3b209a04c button.colab-df-convert');\n",
              "        buttonEl.style.display =\n",
              "          google.colab.kernel.accessAllowed ? 'block' : 'none';\n",
              "\n",
              "        async function convertToInteractive(key) {\n",
              "          const element = document.querySelector('#df-39c9e0d1-53b6-4fce-a011-74a3b209a04c');\n",
              "          const dataTable =\n",
              "            await google.colab.kernel.invokeFunction('convertToInteractive',\n",
              "                                                     [key], {});\n",
              "          if (!dataTable) return;\n",
              "\n",
              "          const docLinkHtml = 'Like what you see? Visit the ' +\n",
              "            '<a target=\"_blank\" href=https://colab.research.google.com/notebooks/data_table.ipynb>data table notebook</a>'\n",
              "            + ' to learn more about interactive tables.';\n",
              "          element.innerHTML = '';\n",
              "          dataTable['output_type'] = 'display_data';\n",
              "          await google.colab.output.renderOutput(dataTable, element);\n",
              "          const docLink = document.createElement('div');\n",
              "          docLink.innerHTML = docLinkHtml;\n",
              "          element.appendChild(docLink);\n",
              "        }\n",
              "      </script>\n",
              "    </div>\n",
              "  </div>\n",
              "  "
            ]
          },
          "metadata": {},
          "execution_count": 62
        }
      ],
      "source": [
        "new_dataset"
      ]
    },
    {
      "cell_type": "code",
      "execution_count": 63,
      "metadata": {
        "id": "orQFuvZTr_fh"
      },
      "outputs": [],
      "source": [
        "for index,x in enumerate(l5):\n",
        "    for y in x:\n",
        "        if y[0] in l7:\n",
        "            new_dataset.loc[index,y[0]]=float(y[1])"
      ]
    },
    {
      "cell_type": "code",
      "execution_count": 64,
      "metadata": {
        "id": "ypqdA6wKs5ix"
      },
      "outputs": [],
      "source": [
        "new_dataset.to_csv(\"New_BCC_data_set.csv\")"
      ]
    },
    {
      "cell_type": "code",
      "execution_count": 65,
      "metadata": {
        "id": "cwuZnvMotDPT"
      },
      "outputs": [],
      "source": [
        "new_dataset[\"Wt.% H\"]=np.array(new_df[\"Wt.% H\"])"
      ]
    },
    {
      "cell_type": "code",
      "execution_count": 66,
      "metadata": {
        "id": "V9jp8kRLtsm1"
      },
      "outputs": [],
      "source": [
        "new_dataset.to_csv(\"New_BCC.csv\")"
      ]
    },
    {
      "cell_type": "code",
      "execution_count": 67,
      "metadata": {
        "colab": {
          "base_uri": "https://localhost:8080/",
          "height": 505
        },
        "id": "AAtq1cLXzd6N",
        "outputId": "a5d4ffb8-2dd9-4dac-ca7d-e530819c038d"
      },
      "outputs": [
        {
          "output_type": "execute_result",
          "data": {
            "text/plain": [
              "        Nb     Ge     Ni     Fe    Pd    Ag   Bi   Ce   Co   Cu  ...   Ru  \\\n",
              "0    0.994  0.006  0.000  0.000  0.00  0.00  0.0  0.0  0.0  0.0  ...  0.0   \n",
              "1    0.000  0.000  0.979  0.021  0.00  0.00  0.0  0.0  0.0  0.0  ...  0.0   \n",
              "2    0.000  0.000  0.943  0.057  0.00  0.00  0.0  0.0  0.0  0.0  ...  0.0   \n",
              "3    0.000  0.000  0.000  0.000  0.75  0.25  0.0  0.0  0.0  0.0  ...  0.0   \n",
              "4    0.000  0.000  0.000  0.000  0.90  0.10  0.0  0.0  0.0  0.0  ...  0.0   \n",
              "..     ...    ...    ...    ...   ...   ...  ...  ...  ...  ...  ...  ...   \n",
              "307  0.000  0.000  0.000  0.000  0.00  0.00  0.0  0.0  0.0  0.0  ...  0.0   \n",
              "308  0.000  0.000  0.000  0.000  0.00  0.00  0.0  0.0  0.0  0.0  ...  0.0   \n",
              "309  0.000  0.000  0.000  0.000  0.00  0.00  0.0  0.0  0.0  0.0  ...  0.0   \n",
              "310  0.970  0.000  0.000  0.000  0.00  0.00  0.0  0.0  0.0  0.0  ...  0.0   \n",
              "311  0.900  0.000  0.000  0.000  0.00  0.00  0.0  0.0  0.0  0.0  ...  0.0   \n",
              "\n",
              "      Hf    W   Re   Os   Au   Al   Ga   In  Wt.% H  \n",
              "0    0.0  0.0  0.0  0.0  0.0  0.0  0.0  0.0    92.1  \n",
              "1    0.0  0.0  0.0  0.0  0.0  0.0  0.0  0.0     1.6  \n",
              "2    0.0  0.0  0.0  0.0  0.0  0.0  0.0  0.0     1.4  \n",
              "3    0.0  0.0  0.0  0.0  0.0  0.0  0.0  0.0     0.4  \n",
              "4    0.0  0.0  0.0  0.0  0.0  0.0  0.0  0.0     0.5  \n",
              "..   ...  ...  ...  ...  ...  ...  ...  ...     ...  \n",
              "307  0.0  0.0  0.0  0.0  0.0  0.0  0.0  0.0     2.4  \n",
              "308  0.0  0.0  0.0  0.0  0.0  0.0  0.0  0.0     2.7  \n",
              "309  0.0  0.0  0.0  0.0  0.0  0.0  0.0  0.0     2.7  \n",
              "310  0.0  0.0  0.0  0.0  0.0  0.0  0.0  0.0     0.9  \n",
              "311  0.0  0.0  0.0  0.0  0.0  0.0  0.0  0.0     0.9  \n",
              "\n",
              "[312 rows x 43 columns]"
            ],
            "text/html": [
              "\n",
              "  <div id=\"df-35575afe-b439-4e3e-ba32-35ebb27e7219\">\n",
              "    <div class=\"colab-df-container\">\n",
              "      <div>\n",
              "<style scoped>\n",
              "    .dataframe tbody tr th:only-of-type {\n",
              "        vertical-align: middle;\n",
              "    }\n",
              "\n",
              "    .dataframe tbody tr th {\n",
              "        vertical-align: top;\n",
              "    }\n",
              "\n",
              "    .dataframe thead th {\n",
              "        text-align: right;\n",
              "    }\n",
              "</style>\n",
              "<table border=\"1\" class=\"dataframe\">\n",
              "  <thead>\n",
              "    <tr style=\"text-align: right;\">\n",
              "      <th></th>\n",
              "      <th>Nb</th>\n",
              "      <th>Ge</th>\n",
              "      <th>Ni</th>\n",
              "      <th>Fe</th>\n",
              "      <th>Pd</th>\n",
              "      <th>Ag</th>\n",
              "      <th>Bi</th>\n",
              "      <th>Ce</th>\n",
              "      <th>Co</th>\n",
              "      <th>Cu</th>\n",
              "      <th>...</th>\n",
              "      <th>Ru</th>\n",
              "      <th>Hf</th>\n",
              "      <th>W</th>\n",
              "      <th>Re</th>\n",
              "      <th>Os</th>\n",
              "      <th>Au</th>\n",
              "      <th>Al</th>\n",
              "      <th>Ga</th>\n",
              "      <th>In</th>\n",
              "      <th>Wt.% H</th>\n",
              "    </tr>\n",
              "  </thead>\n",
              "  <tbody>\n",
              "    <tr>\n",
              "      <th>0</th>\n",
              "      <td>0.994</td>\n",
              "      <td>0.006</td>\n",
              "      <td>0.000</td>\n",
              "      <td>0.000</td>\n",
              "      <td>0.00</td>\n",
              "      <td>0.00</td>\n",
              "      <td>0.0</td>\n",
              "      <td>0.0</td>\n",
              "      <td>0.0</td>\n",
              "      <td>0.0</td>\n",
              "      <td>...</td>\n",
              "      <td>0.0</td>\n",
              "      <td>0.0</td>\n",
              "      <td>0.0</td>\n",
              "      <td>0.0</td>\n",
              "      <td>0.0</td>\n",
              "      <td>0.0</td>\n",
              "      <td>0.0</td>\n",
              "      <td>0.0</td>\n",
              "      <td>0.0</td>\n",
              "      <td>92.1</td>\n",
              "    </tr>\n",
              "    <tr>\n",
              "      <th>1</th>\n",
              "      <td>0.000</td>\n",
              "      <td>0.000</td>\n",
              "      <td>0.979</td>\n",
              "      <td>0.021</td>\n",
              "      <td>0.00</td>\n",
              "      <td>0.00</td>\n",
              "      <td>0.0</td>\n",
              "      <td>0.0</td>\n",
              "      <td>0.0</td>\n",
              "      <td>0.0</td>\n",
              "      <td>...</td>\n",
              "      <td>0.0</td>\n",
              "      <td>0.0</td>\n",
              "      <td>0.0</td>\n",
              "      <td>0.0</td>\n",
              "      <td>0.0</td>\n",
              "      <td>0.0</td>\n",
              "      <td>0.0</td>\n",
              "      <td>0.0</td>\n",
              "      <td>0.0</td>\n",
              "      <td>1.6</td>\n",
              "    </tr>\n",
              "    <tr>\n",
              "      <th>2</th>\n",
              "      <td>0.000</td>\n",
              "      <td>0.000</td>\n",
              "      <td>0.943</td>\n",
              "      <td>0.057</td>\n",
              "      <td>0.00</td>\n",
              "      <td>0.00</td>\n",
              "      <td>0.0</td>\n",
              "      <td>0.0</td>\n",
              "      <td>0.0</td>\n",
              "      <td>0.0</td>\n",
              "      <td>...</td>\n",
              "      <td>0.0</td>\n",
              "      <td>0.0</td>\n",
              "      <td>0.0</td>\n",
              "      <td>0.0</td>\n",
              "      <td>0.0</td>\n",
              "      <td>0.0</td>\n",
              "      <td>0.0</td>\n",
              "      <td>0.0</td>\n",
              "      <td>0.0</td>\n",
              "      <td>1.4</td>\n",
              "    </tr>\n",
              "    <tr>\n",
              "      <th>3</th>\n",
              "      <td>0.000</td>\n",
              "      <td>0.000</td>\n",
              "      <td>0.000</td>\n",
              "      <td>0.000</td>\n",
              "      <td>0.75</td>\n",
              "      <td>0.25</td>\n",
              "      <td>0.0</td>\n",
              "      <td>0.0</td>\n",
              "      <td>0.0</td>\n",
              "      <td>0.0</td>\n",
              "      <td>...</td>\n",
              "      <td>0.0</td>\n",
              "      <td>0.0</td>\n",
              "      <td>0.0</td>\n",
              "      <td>0.0</td>\n",
              "      <td>0.0</td>\n",
              "      <td>0.0</td>\n",
              "      <td>0.0</td>\n",
              "      <td>0.0</td>\n",
              "      <td>0.0</td>\n",
              "      <td>0.4</td>\n",
              "    </tr>\n",
              "    <tr>\n",
              "      <th>4</th>\n",
              "      <td>0.000</td>\n",
              "      <td>0.000</td>\n",
              "      <td>0.000</td>\n",
              "      <td>0.000</td>\n",
              "      <td>0.90</td>\n",
              "      <td>0.10</td>\n",
              "      <td>0.0</td>\n",
              "      <td>0.0</td>\n",
              "      <td>0.0</td>\n",
              "      <td>0.0</td>\n",
              "      <td>...</td>\n",
              "      <td>0.0</td>\n",
              "      <td>0.0</td>\n",
              "      <td>0.0</td>\n",
              "      <td>0.0</td>\n",
              "      <td>0.0</td>\n",
              "      <td>0.0</td>\n",
              "      <td>0.0</td>\n",
              "      <td>0.0</td>\n",
              "      <td>0.0</td>\n",
              "      <td>0.5</td>\n",
              "    </tr>\n",
              "    <tr>\n",
              "      <th>...</th>\n",
              "      <td>...</td>\n",
              "      <td>...</td>\n",
              "      <td>...</td>\n",
              "      <td>...</td>\n",
              "      <td>...</td>\n",
              "      <td>...</td>\n",
              "      <td>...</td>\n",
              "      <td>...</td>\n",
              "      <td>...</td>\n",
              "      <td>...</td>\n",
              "      <td>...</td>\n",
              "      <td>...</td>\n",
              "      <td>...</td>\n",
              "      <td>...</td>\n",
              "      <td>...</td>\n",
              "      <td>...</td>\n",
              "      <td>...</td>\n",
              "      <td>...</td>\n",
              "      <td>...</td>\n",
              "      <td>...</td>\n",
              "      <td>...</td>\n",
              "    </tr>\n",
              "    <tr>\n",
              "      <th>307</th>\n",
              "      <td>0.000</td>\n",
              "      <td>0.000</td>\n",
              "      <td>0.000</td>\n",
              "      <td>0.000</td>\n",
              "      <td>0.00</td>\n",
              "      <td>0.00</td>\n",
              "      <td>0.0</td>\n",
              "      <td>0.0</td>\n",
              "      <td>0.0</td>\n",
              "      <td>0.0</td>\n",
              "      <td>...</td>\n",
              "      <td>0.0</td>\n",
              "      <td>0.0</td>\n",
              "      <td>0.0</td>\n",
              "      <td>0.0</td>\n",
              "      <td>0.0</td>\n",
              "      <td>0.0</td>\n",
              "      <td>0.0</td>\n",
              "      <td>0.0</td>\n",
              "      <td>0.0</td>\n",
              "      <td>2.4</td>\n",
              "    </tr>\n",
              "    <tr>\n",
              "      <th>308</th>\n",
              "      <td>0.000</td>\n",
              "      <td>0.000</td>\n",
              "      <td>0.000</td>\n",
              "      <td>0.000</td>\n",
              "      <td>0.00</td>\n",
              "      <td>0.00</td>\n",
              "      <td>0.0</td>\n",
              "      <td>0.0</td>\n",
              "      <td>0.0</td>\n",
              "      <td>0.0</td>\n",
              "      <td>...</td>\n",
              "      <td>0.0</td>\n",
              "      <td>0.0</td>\n",
              "      <td>0.0</td>\n",
              "      <td>0.0</td>\n",
              "      <td>0.0</td>\n",
              "      <td>0.0</td>\n",
              "      <td>0.0</td>\n",
              "      <td>0.0</td>\n",
              "      <td>0.0</td>\n",
              "      <td>2.7</td>\n",
              "    </tr>\n",
              "    <tr>\n",
              "      <th>309</th>\n",
              "      <td>0.000</td>\n",
              "      <td>0.000</td>\n",
              "      <td>0.000</td>\n",
              "      <td>0.000</td>\n",
              "      <td>0.00</td>\n",
              "      <td>0.00</td>\n",
              "      <td>0.0</td>\n",
              "      <td>0.0</td>\n",
              "      <td>0.0</td>\n",
              "      <td>0.0</td>\n",
              "      <td>...</td>\n",
              "      <td>0.0</td>\n",
              "      <td>0.0</td>\n",
              "      <td>0.0</td>\n",
              "      <td>0.0</td>\n",
              "      <td>0.0</td>\n",
              "      <td>0.0</td>\n",
              "      <td>0.0</td>\n",
              "      <td>0.0</td>\n",
              "      <td>0.0</td>\n",
              "      <td>2.7</td>\n",
              "    </tr>\n",
              "    <tr>\n",
              "      <th>310</th>\n",
              "      <td>0.970</td>\n",
              "      <td>0.000</td>\n",
              "      <td>0.000</td>\n",
              "      <td>0.000</td>\n",
              "      <td>0.00</td>\n",
              "      <td>0.00</td>\n",
              "      <td>0.0</td>\n",
              "      <td>0.0</td>\n",
              "      <td>0.0</td>\n",
              "      <td>0.0</td>\n",
              "      <td>...</td>\n",
              "      <td>0.0</td>\n",
              "      <td>0.0</td>\n",
              "      <td>0.0</td>\n",
              "      <td>0.0</td>\n",
              "      <td>0.0</td>\n",
              "      <td>0.0</td>\n",
              "      <td>0.0</td>\n",
              "      <td>0.0</td>\n",
              "      <td>0.0</td>\n",
              "      <td>0.9</td>\n",
              "    </tr>\n",
              "    <tr>\n",
              "      <th>311</th>\n",
              "      <td>0.900</td>\n",
              "      <td>0.000</td>\n",
              "      <td>0.000</td>\n",
              "      <td>0.000</td>\n",
              "      <td>0.00</td>\n",
              "      <td>0.00</td>\n",
              "      <td>0.0</td>\n",
              "      <td>0.0</td>\n",
              "      <td>0.0</td>\n",
              "      <td>0.0</td>\n",
              "      <td>...</td>\n",
              "      <td>0.0</td>\n",
              "      <td>0.0</td>\n",
              "      <td>0.0</td>\n",
              "      <td>0.0</td>\n",
              "      <td>0.0</td>\n",
              "      <td>0.0</td>\n",
              "      <td>0.0</td>\n",
              "      <td>0.0</td>\n",
              "      <td>0.0</td>\n",
              "      <td>0.9</td>\n",
              "    </tr>\n",
              "  </tbody>\n",
              "</table>\n",
              "<p>312 rows × 43 columns</p>\n",
              "</div>\n",
              "      <button class=\"colab-df-convert\" onclick=\"convertToInteractive('df-35575afe-b439-4e3e-ba32-35ebb27e7219')\"\n",
              "              title=\"Convert this dataframe to an interactive table.\"\n",
              "              style=\"display:none;\">\n",
              "        \n",
              "  <svg xmlns=\"http://www.w3.org/2000/svg\" height=\"24px\"viewBox=\"0 0 24 24\"\n",
              "       width=\"24px\">\n",
              "    <path d=\"M0 0h24v24H0V0z\" fill=\"none\"/>\n",
              "    <path d=\"M18.56 5.44l.94 2.06.94-2.06 2.06-.94-2.06-.94-.94-2.06-.94 2.06-2.06.94zm-11 1L8.5 8.5l.94-2.06 2.06-.94-2.06-.94L8.5 2.5l-.94 2.06-2.06.94zm10 10l.94 2.06.94-2.06 2.06-.94-2.06-.94-.94-2.06-.94 2.06-2.06.94z\"/><path d=\"M17.41 7.96l-1.37-1.37c-.4-.4-.92-.59-1.43-.59-.52 0-1.04.2-1.43.59L10.3 9.45l-7.72 7.72c-.78.78-.78 2.05 0 2.83L4 21.41c.39.39.9.59 1.41.59.51 0 1.02-.2 1.41-.59l7.78-7.78 2.81-2.81c.8-.78.8-2.07 0-2.86zM5.41 20L4 18.59l7.72-7.72 1.47 1.35L5.41 20z\"/>\n",
              "  </svg>\n",
              "      </button>\n",
              "      \n",
              "  <style>\n",
              "    .colab-df-container {\n",
              "      display:flex;\n",
              "      flex-wrap:wrap;\n",
              "      gap: 12px;\n",
              "    }\n",
              "\n",
              "    .colab-df-convert {\n",
              "      background-color: #E8F0FE;\n",
              "      border: none;\n",
              "      border-radius: 50%;\n",
              "      cursor: pointer;\n",
              "      display: none;\n",
              "      fill: #1967D2;\n",
              "      height: 32px;\n",
              "      padding: 0 0 0 0;\n",
              "      width: 32px;\n",
              "    }\n",
              "\n",
              "    .colab-df-convert:hover {\n",
              "      background-color: #E2EBFA;\n",
              "      box-shadow: 0px 1px 2px rgba(60, 64, 67, 0.3), 0px 1px 3px 1px rgba(60, 64, 67, 0.15);\n",
              "      fill: #174EA6;\n",
              "    }\n",
              "\n",
              "    [theme=dark] .colab-df-convert {\n",
              "      background-color: #3B4455;\n",
              "      fill: #D2E3FC;\n",
              "    }\n",
              "\n",
              "    [theme=dark] .colab-df-convert:hover {\n",
              "      background-color: #434B5C;\n",
              "      box-shadow: 0px 1px 3px 1px rgba(0, 0, 0, 0.15);\n",
              "      filter: drop-shadow(0px 1px 2px rgba(0, 0, 0, 0.3));\n",
              "      fill: #FFFFFF;\n",
              "    }\n",
              "  </style>\n",
              "\n",
              "      <script>\n",
              "        const buttonEl =\n",
              "          document.querySelector('#df-35575afe-b439-4e3e-ba32-35ebb27e7219 button.colab-df-convert');\n",
              "        buttonEl.style.display =\n",
              "          google.colab.kernel.accessAllowed ? 'block' : 'none';\n",
              "\n",
              "        async function convertToInteractive(key) {\n",
              "          const element = document.querySelector('#df-35575afe-b439-4e3e-ba32-35ebb27e7219');\n",
              "          const dataTable =\n",
              "            await google.colab.kernel.invokeFunction('convertToInteractive',\n",
              "                                                     [key], {});\n",
              "          if (!dataTable) return;\n",
              "\n",
              "          const docLinkHtml = 'Like what you see? Visit the ' +\n",
              "            '<a target=\"_blank\" href=https://colab.research.google.com/notebooks/data_table.ipynb>data table notebook</a>'\n",
              "            + ' to learn more about interactive tables.';\n",
              "          element.innerHTML = '';\n",
              "          dataTable['output_type'] = 'display_data';\n",
              "          await google.colab.output.renderOutput(dataTable, element);\n",
              "          const docLink = document.createElement('div');\n",
              "          docLink.innerHTML = docLinkHtml;\n",
              "          element.appendChild(docLink);\n",
              "        }\n",
              "      </script>\n",
              "    </div>\n",
              "  </div>\n",
              "  "
            ]
          },
          "metadata": {},
          "execution_count": 67
        }
      ],
      "source": [
        "new_dataset"
      ]
    },
    {
      "cell_type": "code",
      "execution_count": 68,
      "metadata": {
        "id": "UBM1uAtF0CvI"
      },
      "outputs": [],
      "source": [
        "elements = new_dataset.columns[:-1]"
      ]
    },
    {
      "cell_type": "code",
      "execution_count": 69,
      "metadata": {
        "id": "O9T5bwmG0OEh"
      },
      "outputs": [],
      "source": [
        "elements_={}\n",
        "for i in elements:\n",
        "    elements_[i]=(new_dataset[i]!=0).sum()"
      ]
    },
    {
      "cell_type": "code",
      "execution_count": 70,
      "metadata": {
        "id": "dj8j3Ure0WZ0"
      },
      "outputs": [],
      "source": [
        "df_=pd.DataFrame.from_dict(elements_,orient=\"index\")"
      ]
    },
    {
      "cell_type": "code",
      "execution_count": 71,
      "metadata": {
        "id": "KO4uExt60ag_"
      },
      "outputs": [],
      "source": [
        "values=[]\n",
        "for i in df_.values:\n",
        "    values.append(i[0])"
      ]
    },
    {
      "cell_type": "code",
      "execution_count": 72,
      "metadata": {
        "id": "KWieqei_0cHX"
      },
      "outputs": [],
      "source": [
        "colors = np.random.rand(elements.shape[0])"
      ]
    },
    {
      "cell_type": "code",
      "execution_count": 73,
      "metadata": {
        "id": "affz1q5t0kwQ"
      },
      "outputs": [],
      "source": [
        "import matplotlib.pyplot as plt\n"
      ]
    },
    {
      "cell_type": "code",
      "execution_count": 74,
      "metadata": {
        "colab": {
          "base_uri": "https://localhost:8080/",
          "height": 227
        },
        "id": "eOVNu3rm0d3G",
        "outputId": "897b7c01-0247-4346-9a38-baf7ff025310"
      },
      "outputs": [
        {
          "output_type": "display_data",
          "data": {
            "text/plain": [
              "<Figure size 1080x288 with 1 Axes>"
            ],
            "image/png": "[encoded data removed]"
          },
          "metadata": {
            "needs_background": "light"
          }
        }
      ],
      "source": [
        "fig = plt.figure()\n",
        "plt.scatter(x=df_.index,y=values,s=values,c=colors);\n",
        "fig.set_figheight(4)\n",
        "fig.set_figwidth(15)"
      ]
    },
    {
      "cell_type": "code",
      "execution_count": 75,
      "metadata": {
        "id": "d6KuhOtr0wkb"
      },
      "outputs": [],
      "source": [
        "higehst_prevalance=[]\n",
        "for i in df_.index:\n",
        "    if df_.loc[i,0]>=5:\n",
        "       higehst_prevalance.append(i) "
      ]
    },
    {
      "cell_type": "code",
      "execution_count": 76,
      "metadata": {
        "id": "Y0vmC54K0-zc"
      },
      "outputs": [],
      "source": [
        "X_new=new_dataset[higehst_prevalance]"
      ]
    },
    {
      "cell_type": "code",
      "execution_count": 77,
      "metadata": {
        "colab": {
          "base_uri": "https://localhost:8080/",
          "height": 467
        },
        "id": "4QmgXkVc1MjU",
        "outputId": "8f53d811-e978-4097-ca95-dd458db2f25c"
      },
      "outputs": [
        {
          "output_type": "execute_result",
          "data": {
            "text/plain": [
              "        Nb     Ni     Fe    Pd    Ag   Co   Cu    Cr   Mo   Rh   Pt    Ti  \\\n",
              "0    0.994  0.000  0.000  0.00  0.00  0.0  0.0  0.00  0.0  0.0  0.0  0.00   \n",
              "1    0.000  0.979  0.021  0.00  0.00  0.0  0.0  0.00  0.0  0.0  0.0  0.00   \n",
              "2    0.000  0.943  0.057  0.00  0.00  0.0  0.0  0.00  0.0  0.0  0.0  0.00   \n",
              "3    0.000  0.000  0.000  0.75  0.25  0.0  0.0  0.00  0.0  0.0  0.0  0.00   \n",
              "4    0.000  0.000  0.000  0.90  0.10  0.0  0.0  0.00  0.0  0.0  0.0  0.00   \n",
              "..     ...    ...    ...   ...   ...  ...  ...   ...  ...  ...  ...   ...   \n",
              "307  0.000  0.000  0.000  0.00  0.00  0.0  0.0  0.22  0.0  0.0  0.0  0.28   \n",
              "308  0.000  0.000  0.000  0.00  0.00  0.0  0.0  0.31  0.0  0.0  0.0  0.24   \n",
              "309  0.000  0.000  0.000  0.00  0.00  0.0  0.0  0.27  0.0  0.0  0.0  0.28   \n",
              "310  0.970  0.000  0.000  0.00  0.00  0.0  0.0  0.03  0.0  0.0  0.0  0.00   \n",
              "311  0.900  0.000  0.000  0.00  0.00  0.0  0.0  0.10  0.0  0.0  0.0  0.00   \n",
              "\n",
              "        V    Mn   Zr   Si   Ta  \n",
              "0    0.00  0.00  0.0  0.0  0.0  \n",
              "1    0.00  0.00  0.0  0.0  0.0  \n",
              "2    0.00  0.00  0.0  0.0  0.0  \n",
              "3    0.00  0.00  0.0  0.0  0.0  \n",
              "4    0.00  0.00  0.0  0.0  0.0  \n",
              "..    ...   ...  ...  ...  ...  \n",
              "307  0.35  0.15  0.0  0.0  0.0  \n",
              "308  0.35  0.10  0.0  0.0  0.0  \n",
              "309  0.35  0.10  0.0  0.0  0.0  \n",
              "310  0.00  0.00  0.0  0.0  0.0  \n",
              "311  0.00  0.00  0.0  0.0  0.0  \n",
              "\n",
              "[312 rows x 17 columns]"
            ],
            "text/html": [
              "\n",
              "  <div id=\"df-7eb68c0f-f65c-4ad5-9434-bccecdd7868b\">\n",
              "    <div class=\"colab-df-container\">\n",
              "      <div>\n",
              "<style scoped>\n",
              "    .dataframe tbody tr th:only-of-type {\n",
              "        vertical-align: middle;\n",
              "    }\n",
              "\n",
              "    .dataframe tbody tr th {\n",
              "        vertical-align: top;\n",
              "    }\n",
              "\n",
              "    .dataframe thead th {\n",
              "        text-align: right;\n",
              "    }\n",
              "</style>\n",
              "<table border=\"1\" class=\"dataframe\">\n",
              "  <thead>\n",
              "    <tr style=\"text-align: right;\">\n",
              "      <th></th>\n",
              "      <th>Nb</th>\n",
              "      <th>Ni</th>\n",
              "      <th>Fe</th>\n",
              "      <th>Pd</th>\n",
              "      <th>Ag</th>\n",
              "      <th>Co</th>\n",
              "      <th>Cu</th>\n",
              "      <th>Cr</th>\n",
              "      <th>Mo</th>\n",
              "      <th>Rh</th>\n",
              "      <th>Pt</th>\n",
              "      <th>Ti</th>\n",
              "      <th>V</th>\n",
              "      <th>Mn</th>\n",
              "      <th>Zr</th>\n",
              "      <th>Si</th>\n",
              "      <th>Ta</th>\n",
              "    </tr>\n",
              "  </thead>\n",
              "  <tbody>\n",
              "    <tr>\n",
              "      <th>0</th>\n",
              "      <td>0.994</td>\n",
              "      <td>0.000</td>\n",
              "      <td>0.000</td>\n",
              "      <td>0.00</td>\n",
              "      <td>0.00</td>\n",
              "      <td>0.0</td>\n",
              "      <td>0.0</td>\n",
              "      <td>0.00</td>\n",
              "      <td>0.0</td>\n",
              "      <td>0.0</td>\n",
              "      <td>0.0</td>\n",
              "      <td>0.00</td>\n",
              "      <td>0.00</td>\n",
              "      <td>0.00</td>\n",
              "      <td>0.0</td>\n",
              "      <td>0.0</td>\n",
              "      <td>0.0</td>\n",
              "    </tr>\n",
              "    <tr>\n",
              "      <th>1</th>\n",
              "      <td>0.000</td>\n",
              "      <td>0.979</td>\n",
              "      <td>0.021</td>\n",
              "      <td>0.00</td>\n",
              "      <td>0.00</td>\n",
              "      <td>0.0</td>\n",
              "      <td>0.0</td>\n",
              "      <td>0.00</td>\n",
              "      <td>0.0</td>\n",
              "      <td>0.0</td>\n",
              "      <td>0.0</td>\n",
              "      <td>0.00</td>\n",
              "      <td>0.00</td>\n",
              "      <td>0.00</td>\n",
              "      <td>0.0</td>\n",
              "      <td>0.0</td>\n",
              "      <td>0.0</td>\n",
              "    </tr>\n",
              "    <tr>\n",
              "      <th>2</th>\n",
              "      <td>0.000</td>\n",
              "      <td>0.943</td>\n",
              "      <td>0.057</td>\n",
              "      <td>0.00</td>\n",
              "      <td>0.00</td>\n",
              "      <td>0.0</td>\n",
              "      <td>0.0</td>\n",
              "      <td>0.00</td>\n",
              "      <td>0.0</td>\n",
              "      <td>0.0</td>\n",
              "      <td>0.0</td>\n",
              "      <td>0.00</td>\n",
              "      <td>0.00</td>\n",
              "      <td>0.00</td>\n",
              "      <td>0.0</td>\n",
              "      <td>0.0</td>\n",
              "      <td>0.0</td>\n",
              "    </tr>\n",
              "    <tr>\n",
              "      <th>3</th>\n",
              "      <td>0.000</td>\n",
              "      <td>0.000</td>\n",
              "      <td>0.000</td>\n",
              "      <td>0.75</td>\n",
              "      <td>0.25</td>\n",
              "      <td>0.0</td>\n",
              "      <td>0.0</td>\n",
              "      <td>0.00</td>\n",
              "      <td>0.0</td>\n",
              "      <td>0.0</td>\n",
              "      <td>0.0</td>\n",
              "      <td>0.00</td>\n",
              "      <td>0.00</td>\n",
              "      <td>0.00</td>\n",
              "      <td>0.0</td>\n",
              "      <td>0.0</td>\n",
              "      <td>0.0</td>\n",
              "    </tr>\n",
              "    <tr>\n",
              "      <th>4</th>\n",
              "      <td>0.000</td>\n",
              "      <td>0.000</td>\n",
              "      <td>0.000</td>\n",
              "      <td>0.90</td>\n",
              "      <td>0.10</td>\n",
              "      <td>0.0</td>\n",
              "      <td>0.0</td>\n",
              "      <td>0.00</td>\n",
              "      <td>0.0</td>\n",
              "      <td>0.0</td>\n",
              "      <td>0.0</td>\n",
              "      <td>0.00</td>\n",
              "      <td>0.00</td>\n",
              "      <td>0.00</td>\n",
              "      <td>0.0</td>\n",
              "      <td>0.0</td>\n",
              "      <td>0.0</td>\n",
              "    </tr>\n",
              "    <tr>\n",
              "      <th>...</th>\n",
              "      <td>...</td>\n",
              "      <td>...</td>\n",
              "      <td>...</td>\n",
              "      <td>...</td>\n",
              "      <td>...</td>\n",
              "      <td>...</td>\n",
              "      <td>...</td>\n",
              "      <td>...</td>\n",
              "      <td>...</td>\n",
              "      <td>...</td>\n",
              "      <td>...</td>\n",
              "      <td>...</td>\n",
              "      <td>...</td>\n",
              "      <td>...</td>\n",
              "      <td>...</td>\n",
              "      <td>...</td>\n",
              "      <td>...</td>\n",
              "    </tr>\n",
              "    <tr>\n",
              "      <th>307</th>\n",
              "      <td>0.000</td>\n",
              "      <td>0.000</td>\n",
              "      <td>0.000</td>\n",
              "      <td>0.00</td>\n",
              "      <td>0.00</td>\n",
              "      <td>0.0</td>\n",
              "      <td>0.0</td>\n",
              "      <td>0.22</td>\n",
              "      <td>0.0</td>\n",
              "      <td>0.0</td>\n",
              "      <td>0.0</td>\n",
              "      <td>0.28</td>\n",
              "      <td>0.35</td>\n",
              "      <td>0.15</td>\n",
              "      <td>0.0</td>\n",
              "      <td>0.0</td>\n",
              "      <td>0.0</td>\n",
              "    </tr>\n",
              "    <tr>\n",
              "      <th>308</th>\n",
              "      <td>0.000</td>\n",
              "      <td>0.000</td>\n",
              "      <td>0.000</td>\n",
              "      <td>0.00</td>\n",
              "      <td>0.00</td>\n",
              "      <td>0.0</td>\n",
              "      <td>0.0</td>\n",
              "      <td>0.31</td>\n",
              "      <td>0.0</td>\n",
              "      <td>0.0</td>\n",
              "      <td>0.0</td>\n",
              "      <td>0.24</td>\n",
              "      <td>0.35</td>\n",
              "      <td>0.10</td>\n",
              "      <td>0.0</td>\n",
              "      <td>0.0</td>\n",
              "      <td>0.0</td>\n",
              "    </tr>\n",
              "    <tr>\n",
              "      <th>309</th>\n",
              "      <td>0.000</td>\n",
              "      <td>0.000</td>\n",
              "      <td>0.000</td>\n",
              "      <td>0.00</td>\n",
              "      <td>0.00</td>\n",
              "      <td>0.0</td>\n",
              "      <td>0.0</td>\n",
              "      <td>0.27</td>\n",
              "      <td>0.0</td>\n",
              "      <td>0.0</td>\n",
              "      <td>0.0</td>\n",
              "      <td>0.28</td>\n",
              "      <td>0.35</td>\n",
              "      <td>0.10</td>\n",
              "      <td>0.0</td>\n",
              "      <td>0.0</td>\n",
              "      <td>0.0</td>\n",
              "    </tr>\n",
              "    <tr>\n",
              "      <th>310</th>\n",
              "      <td>0.970</td>\n",
              "      <td>0.000</td>\n",
              "      <td>0.000</td>\n",
              "      <td>0.00</td>\n",
              "      <td>0.00</td>\n",
              "      <td>0.0</td>\n",
              "      <td>0.0</td>\n",
              "      <td>0.03</td>\n",
              "      <td>0.0</td>\n",
              "      <td>0.0</td>\n",
              "      <td>0.0</td>\n",
              "      <td>0.00</td>\n",
              "      <td>0.00</td>\n",
              "      <td>0.00</td>\n",
              "      <td>0.0</td>\n",
              "      <td>0.0</td>\n",
              "      <td>0.0</td>\n",
              "    </tr>\n",
              "    <tr>\n",
              "      <th>311</th>\n",
              "      <td>0.900</td>\n",
              "      <td>0.000</td>\n",
              "      <td>0.000</td>\n",
              "      <td>0.00</td>\n",
              "      <td>0.00</td>\n",
              "      <td>0.0</td>\n",
              "      <td>0.0</td>\n",
              "      <td>0.10</td>\n",
              "      <td>0.0</td>\n",
              "      <td>0.0</td>\n",
              "      <td>0.0</td>\n",
              "      <td>0.00</td>\n",
              "      <td>0.00</td>\n",
              "      <td>0.00</td>\n",
              "      <td>0.0</td>\n",
              "      <td>0.0</td>\n",
              "      <td>0.0</td>\n",
              "    </tr>\n",
              "  </tbody>\n",
              "</table>\n",
              "<p>312 rows × 17 columns</p>\n",
              "</div>\n",
              "      <button class=\"colab-df-convert\" onclick=\"convertToInteractive('df-7eb68c0f-f65c-4ad5-9434-bccecdd7868b')\"\n",
              "              title=\"Convert this dataframe to an interactive table.\"\n",
              "              style=\"display:none;\">\n",
              "        \n",
              "  <svg xmlns=\"http://www.w3.org/2000/svg\" height=\"24px\"viewBox=\"0 0 24 24\"\n",
              "       width=\"24px\">\n",
              "    <path d=\"M0 0h24v24H0V0z\" fill=\"none\"/>\n",
              "    <path d=\"M18.56 5.44l.94 2.06.94-2.06 2.06-.94-2.06-.94-.94-2.06-.94 2.06-2.06.94zm-11 1L8.5 8.5l.94-2.06 2.06-.94-2.06-.94L8.5 2.5l-.94 2.06-2.06.94zm10 10l.94 2.06.94-2.06 2.06-.94-2.06-.94-.94-2.06-.94 2.06-2.06.94z\"/><path d=\"M17.41 7.96l-1.37-1.37c-.4-.4-.92-.59-1.43-.59-.52 0-1.04.2-1.43.59L10.3 9.45l-7.72 7.72c-.78.78-.78 2.05 0 2.83L4 21.41c.39.39.9.59 1.41.59.51 0 1.02-.2 1.41-.59l7.78-7.78 2.81-2.81c.8-.78.8-2.07 0-2.86zM5.41 20L4 18.59l7.72-7.72 1.47 1.35L5.41 20z\"/>\n",
              "  </svg>\n",
              "      </button>\n",
              "      \n",
              "  <style>\n",
              "    .colab-df-container {\n",
              "      display:flex;\n",
              "      flex-wrap:wrap;\n",
              "      gap: 12px;\n",
              "    }\n",
              "\n",
              "    .colab-df-convert {\n",
              "      background-color: #E8F0FE;\n",
              "      border: none;\n",
              "      border-radius: 50%;\n",
              "      cursor: pointer;\n",
              "      display: none;\n",
              "      fill: #1967D2;\n",
              "      height: 32px;\n",
              "      padding: 0 0 0 0;\n",
              "      width: 32px;\n",
              "    }\n",
              "\n",
              "    .colab-df-convert:hover {\n",
              "      background-color: #E2EBFA;\n",
              "      box-shadow: 0px 1px 2px rgba(60, 64, 67, 0.3), 0px 1px 3px 1px rgba(60, 64, 67, 0.15);\n",
              "      fill: #174EA6;\n",
              "    }\n",
              "\n",
              "    [theme=dark] .colab-df-convert {\n",
              "      background-color: #3B4455;\n",
              "      fill: #D2E3FC;\n",
              "    }\n",
              "\n",
              "    [theme=dark] .colab-df-convert:hover {\n",
              "      background-color: #434B5C;\n",
              "      box-shadow: 0px 1px 3px 1px rgba(0, 0, 0, 0.15);\n",
              "      filter: drop-shadow(0px 1px 2px rgba(0, 0, 0, 0.3));\n",
              "      fill: #FFFFFF;\n",
              "    }\n",
              "  </style>\n",
              "\n",
              "      <script>\n",
              "        const buttonEl =\n",
              "          document.querySelector('#df-7eb68c0f-f65c-4ad5-9434-bccecdd7868b button.colab-df-convert');\n",
              "        buttonEl.style.display =\n",
              "          google.colab.kernel.accessAllowed ? 'block' : 'none';\n",
              "\n",
              "        async function convertToInteractive(key) {\n",
              "          const element = document.querySelector('#df-7eb68c0f-f65c-4ad5-9434-bccecdd7868b');\n",
              "          const dataTable =\n",
              "            await google.colab.kernel.invokeFunction('convertToInteractive',\n",
              "                                                     [key], {});\n",
              "          if (!dataTable) return;\n",
              "\n",
              "          const docLinkHtml = 'Like what you see? Visit the ' +\n",
              "            '<a target=\"_blank\" href=https://colab.research.google.com/notebooks/data_table.ipynb>data table notebook</a>'\n",
              "            + ' to learn more about interactive tables.';\n",
              "          element.innerHTML = '';\n",
              "          dataTable['output_type'] = 'display_data';\n",
              "          await google.colab.output.renderOutput(dataTable, element);\n",
              "          const docLink = document.createElement('div');\n",
              "          docLink.innerHTML = docLinkHtml;\n",
              "          element.appendChild(docLink);\n",
              "        }\n",
              "      </script>\n",
              "    </div>\n",
              "  </div>\n",
              "  "
            ]
          },
          "metadata": {},
          "execution_count": 77
        }
      ],
      "source": [
        "X_new"
      ]
    },
    {
      "cell_type": "code",
      "execution_count": 78,
      "metadata": {
        "colab": {
          "base_uri": "https://localhost:8080/",
          "height": 577
        },
        "id": "jZC4xSgOgJ3M",
        "outputId": "38f199d0-84fb-4d34-e8d3-123dc053d74d"
      },
      "outputs": [
        {
          "output_type": "execute_result",
          "data": {
            "text/plain": [
              "<matplotlib.axes._subplots.AxesSubplot at 0x7f245ce9f050>"
            ]
          },
          "metadata": {},
          "execution_count": 78
        },
        {
          "output_type": "display_data",
          "data": {
            "text/plain": [
              "<Figure size 1080x720 with 2 Axes>"
            ],
            "image/png": "[encoded data removed]"
          },
          "metadata": {
            "needs_background": "light"
          }
        }
      ],
      "source": [
        "fig = plt.gcf();\n",
        "fig.set_size_inches(15, 10)\n",
        "sns.heatmap(np.absolute(X_new.corr()), cmap=\"YlGnBu\",annot=True)"
      ]
    },
    {
      "cell_type": "code",
      "execution_count": 79,
      "metadata": {
        "id": "_Hsk9MyrtuQw"
      },
      "outputs": [],
      "source": [
        "#X_train,X_test,y_train,y_test=train_test_split(X_new,new_dataset.iloc[:,-1],train_size=0.7,random_state=42)"
      ]
    },
    {
      "cell_type": "code",
      "execution_count": 80,
      "metadata": {
        "id": "ksehazZsZF_K"
      },
      "outputs": [],
      "source": [
        "X_train, X_val, y_train, y_val = train_test_split(X_new,new_dataset.iloc[:,-1],train_size=0.85,random_state=42,shuffle=True)\n",
        "\n",
        "X_train, X_test, y_train, y_test = train_test_split(X_train, y_train,test_size=0.176, random_state= 8,shuffle=True) # 0.25 x 0.8 = 0.2"
      ]
    },
    {
      "cell_type": "markdown",
      "metadata": {
        "id": "0Camgie-y3Ie"
      },
      "source": [
        "# Random Forest"
      ]
    },
    {
      "cell_type": "code",
      "execution_count": 81,
      "metadata": {
        "colab": {
          "base_uri": "https://localhost:8080/"
        },
        "id": "K1dxOtSuy2n8",
        "outputId": "940a1a4d-7bca-47cd-f926-f53330752ce6"
      },
      "outputs": [
        {
          "output_type": "execute_result",
          "data": {
            "text/plain": [
              "0.7662521094744756"
            ]
          },
          "metadata": {},
          "execution_count": 81
        }
      ],
      "source": [
        "rf = RandomForestRegressor(random_state=0)\n",
        "rf.fit(X_train,y_train)\n",
        "rf.score(X_train,y_train)"
      ]
    },
    {
      "cell_type": "code",
      "source": [
        "rn_y_pred_train=rf.predict(X_train)"
      ],
      "metadata": {
        "id": "7GtZddlUVG-F"
      },
      "execution_count": 106,
      "outputs": []
    },
    {
      "cell_type": "code",
      "execution_count": 82,
      "metadata": {
        "colab": {
          "base_uri": "https://localhost:8080/"
        },
        "id": "Hms-mjS1ZYVc",
        "outputId": "c0cf1ce0-acd9-4158-8240-52a8bed007f7"
      },
      "outputs": [
        {
          "output_type": "execute_result",
          "data": {
            "text/plain": [
              "0.618193868568355"
            ]
          },
          "metadata": {},
          "execution_count": 82
        }
      ],
      "source": [
        "rf.score(X_val,y_val)"
      ]
    },
    {
      "cell_type": "code",
      "source": [
        "rn_y_pred_val=rf.predict(X_val)"
      ],
      "metadata": {
        "id": "X7IZ9pyUVOh4"
      },
      "execution_count": 107,
      "outputs": []
    },
    {
      "cell_type": "code",
      "execution_count": 83,
      "metadata": {
        "colab": {
          "base_uri": "https://localhost:8080/"
        },
        "id": "4PRmR8PXzSPj",
        "outputId": "657010fc-252b-4cf3-895a-6d32f62bb805"
      },
      "outputs": [
        {
          "output_type": "execute_result",
          "data": {
            "text/plain": [
              "0.8884401235466044"
            ]
          },
          "metadata": {},
          "execution_count": 83
        }
      ],
      "source": [
        "rf.score(X_test,y_test)"
      ]
    },
    {
      "cell_type": "code",
      "source": [
        "rn_y_pred_test=rf.predict(X_test)"
      ],
      "metadata": {
        "id": "S1dGh3OgVSvC"
      },
      "execution_count": 108,
      "outputs": []
    },
    {
      "cell_type": "code",
      "execution_count": 84,
      "metadata": {
        "colab": {
          "base_uri": "https://localhost:8080/"
        },
        "id": "gsUT1TRW_PmB",
        "outputId": "c1e8eb67-fda1-4e71-bd5a-6a67dd5228a6"
      },
      "outputs": [
        {
          "output_type": "execute_result",
          "data": {
            "text/plain": [
              "{'bootstrap': True,\n",
              " 'ccp_alpha': 0.0,\n",
              " 'criterion': 'squared_error',\n",
              " 'max_depth': None,\n",
              " 'max_features': 'auto',\n",
              " 'max_leaf_nodes': None,\n",
              " 'max_samples': None,\n",
              " 'min_impurity_decrease': 0.0,\n",
              " 'min_samples_leaf': 1,\n",
              " 'min_samples_split': 2,\n",
              " 'min_weight_fraction_leaf': 0.0,\n",
              " 'n_estimators': 100,\n",
              " 'n_jobs': None,\n",
              " 'oob_score': False,\n",
              " 'random_state': 0,\n",
              " 'verbose': 0,\n",
              " 'warm_start': False}"
            ]
          },
          "metadata": {},
          "execution_count": 84
        }
      ],
      "source": [
        "rf.get_params()"
      ]
    },
    {
      "cell_type": "markdown",
      "metadata": {
        "id": "odAlFP5Y-1q3"
      },
      "source": [
        "# Hyper parameter Tuning"
      ]
    },
    {
      "cell_type": "code",
      "execution_count": 85,
      "metadata": {
        "colab": {
          "base_uri": "https://localhost:8080/"
        },
        "id": "-aihx8Fa72xc",
        "outputId": "e34c66d0-5419-4e15-8e3e-64fdeb814867"
      },
      "outputs": [
        {
          "output_type": "stream",
          "name": "stdout",
          "text": [
            "0.7691328049762765\n"
          ]
        }
      ],
      "source": [
        "\n",
        "from sklearn.model_selection import GridSearchCV\n",
        "\n",
        "from sklearn.ensemble import RandomForestRegressor\n",
        "\n",
        "estimator = RandomForestRegressor(random_state=0)\n",
        "param_grid = {'bootstrap': [False,True],\n",
        " 'ccp_alpha': [0.0,0.035],\n",
        " 'criterion': ['squared_error','absolute_error'],\n",
        " 'max_depth': [None,10],\n",
        " 'max_features':['auto'],\n",
        " 'max_leaf_nodes': [None],\n",
        " 'max_samples': [None],\n",
        " 'min_impurity_decrease': [0.0],\n",
        " 'min_samples_leaf': [1],\n",
        " 'min_samples_split': [2],\n",
        " 'min_weight_fraction_leaf':[0.0],\n",
        " 'n_estimators': [100,150],\n",
        " 'n_jobs': [None],\n",
        " 'oob_score':[False],\n",
        " 'random_state': [0],\n",
        " 'verbose': [0],\n",
        " 'warm_start': [False]}\n",
        "grid = GridSearchCV(estimator, param_grid, n_jobs=-1,return_train_score=True)\n",
        "\n",
        "grid.fit(X_train, y_train)\n",
        "print(grid.score(X_train,y_train))"
      ]
    },
    {
      "cell_type": "code",
      "execution_count": 86,
      "metadata": {
        "colab": {
          "base_uri": "https://localhost:8080/"
        },
        "id": "T5n7iCtJ_D7L",
        "outputId": "f58c653a-bdf0-4595-b2e0-ecc67b6b9b9b"
      },
      "outputs": [
        {
          "output_type": "execute_result",
          "data": {
            "text/plain": [
              "0.6392029000681784"
            ]
          },
          "metadata": {},
          "execution_count": 86
        }
      ],
      "source": [
        "grid.score(X_val,y_val)"
      ]
    },
    {
      "cell_type": "code",
      "source": [
        "rn1_y_pred_train=rf.predict(X_train)\n",
        "rn1_y_pred_val=rf.predict(X_val)\n",
        "rn1_y_pred_test=rf.predict(X_test)"
      ],
      "metadata": {
        "id": "7lQ4OVPmVZ-A"
      },
      "execution_count": 112,
      "outputs": []
    },
    {
      "cell_type": "code",
      "execution_count": 87,
      "metadata": {
        "colab": {
          "base_uri": "https://localhost:8080/"
        },
        "id": "fvlTa3hyaNZI",
        "outputId": "42f06526-186b-4ce4-be75-e83b66d6a505"
      },
      "outputs": [
        {
          "output_type": "stream",
          "name": "stdout",
          "text": [
            "R2 score: 0.883683610961254\n"
          ]
        }
      ],
      "source": [
        "print(\"R2 score:\",grid.score(X_test,y_test))"
      ]
    },
    {
      "cell_type": "markdown",
      "metadata": {
        "id": "IVOqInkW2Rd6"
      },
      "source": [
        "# Gradient Boosting Regression"
      ]
    },
    {
      "cell_type": "code",
      "execution_count": 88,
      "metadata": {
        "id": "vN807voN2fsz"
      },
      "outputs": [],
      "source": [
        "from sklearn import ensemble"
      ]
    },
    {
      "cell_type": "code",
      "execution_count": 89,
      "metadata": {
        "colab": {
          "base_uri": "https://localhost:8080/"
        },
        "id": "JzlTuiB82m8Z",
        "outputId": "6e0a00b2-b013-4f71-8066-5f2cc1173333"
      },
      "outputs": [
        {
          "output_type": "execute_result",
          "data": {
            "text/plain": [
              "GradientBoostingRegressor(learning_rate=0.01, max_depth=4, min_samples_split=5,\n",
              "                          n_estimators=7000)"
            ]
          },
          "metadata": {},
          "execution_count": 89
        }
      ],
      "source": [
        "params = {\n",
        "    \"n_estimators\": 7000,\n",
        "    \"max_depth\": 4,\n",
        "    \"min_samples_split\": 5,\n",
        "    \"learning_rate\": 0.01,\n",
        "    \"loss\": \"squared_error\",\n",
        "}\n",
        "\n",
        "reg = ensemble.GradientBoostingRegressor(**params)\n",
        "reg.fit(X_train, y_train)"
      ]
    },
    {
      "cell_type": "code",
      "execution_count": 90,
      "metadata": {
        "colab": {
          "base_uri": "https://localhost:8080/"
        },
        "id": "DRLbwjy423WU",
        "outputId": "98497c9e-96d3-4d5c-9450-65d1316362e0"
      },
      "outputs": [
        {
          "output_type": "execute_result",
          "data": {
            "text/plain": [
              "0.9991346381645769"
            ]
          },
          "metadata": {},
          "execution_count": 90
        }
      ],
      "source": [
        "reg.score(X_train,y_train)"
      ]
    },
    {
      "cell_type": "code",
      "execution_count": 91,
      "metadata": {
        "colab": {
          "base_uri": "https://localhost:8080/"
        },
        "id": "Unnw-_kebfZm",
        "outputId": "97a36f87-db64-4426-a611-53cd6d7df60e"
      },
      "outputs": [
        {
          "output_type": "execute_result",
          "data": {
            "text/plain": [
              "0.6666713117139546"
            ]
          },
          "metadata": {},
          "execution_count": 91
        }
      ],
      "source": [
        "reg.score(X_val,y_val)"
      ]
    },
    {
      "cell_type": "code",
      "execution_count": 92,
      "metadata": {
        "colab": {
          "base_uri": "https://localhost:8080/"
        },
        "id": "ysF2EK2M28gs",
        "outputId": "8c2c4008-684c-44c6-faa1-e6adfadc34c7"
      },
      "outputs": [
        {
          "output_type": "execute_result",
          "data": {
            "text/plain": [
              "0.8684301553034798"
            ]
          },
          "metadata": {},
          "execution_count": 92
        }
      ],
      "source": [
        "reg.score(X_test,y_test)"
      ]
    },
    {
      "cell_type": "code",
      "source": [
        "xgb_y_pred_train=rf.predict(X_train)\n",
        "xgb_y_pred_val=rf.predict(X_val)\n",
        "xgb_y_pred_test=rf.predict(X_test)"
      ],
      "metadata": {
        "id": "UCLeYh0WVqkJ"
      },
      "execution_count": 114,
      "outputs": []
    },
    {
      "cell_type": "code",
      "execution_count": 93,
      "metadata": {
        "colab": {
          "base_uri": "https://localhost:8080/",
          "height": 441
        },
        "id": "CnDx0tm42tzd",
        "outputId": "f9e68e2c-7b8a-47bb-f534-35713d7a291a"
      },
      "outputs": [
        {
          "output_type": "display_data",
          "data": {
            "text/plain": [
              "<Figure size 432x432 with 1 Axes>"
            ],
            "image/png": "[encoded data removed]"
          },
          "metadata": {
            "needs_background": "light"
          }
        }
      ],
      "source": [
        "test_score = np.zeros((params[\"n_estimators\"],), dtype=np.float64)\n",
        "for i, y_pred in enumerate(reg.staged_predict(X_test)):\n",
        "    test_score[i] = reg.loss_(y_test, y_pred)\n",
        "\n",
        "fig = plt.figure(figsize=(6, 6))\n",
        "plt.subplot(1, 1, 1)\n",
        "plt.title(\"Deviance\")\n",
        "plt.plot(\n",
        "    np.arange(params[\"n_estimators\"]) + 1,\n",
        "    reg.train_score_,\n",
        "    \"b-\",\n",
        "    label=\"Training Set Deviance\",\n",
        ")\n",
        "plt.plot(\n",
        "    np.arange(params[\"n_estimators\"]) + 1, test_score, \"r-\", label=\"Test Set Deviance\"\n",
        ")\n",
        "plt.legend(loc=\"upper right\")\n",
        "plt.xlabel(\"Boosting Iterations\")\n",
        "plt.ylabel(\"Deviance\")\n",
        "fig.tight_layout()\n",
        "plt.show()"
      ]
    },
    {
      "cell_type": "markdown",
      "source": [
        "# Overall $ R^2 $ values of Train,test,validation datatest Using Average Ensembling method :\n"
      ],
      "metadata": {
        "id": "f6GTzNChVxHZ"
      }
    },
    {
      "cell_type": "code",
      "source": [
        "y_pred_train=(rn_y_pred_train+rn1_y_pred_train+xgb_y_pred_train)/3.0\n",
        "y_pred_val=(rn_y_pred_val+rn1_y_pred_val+xgb_y_pred_val)/3.0\n",
        "y_pred_test=(rn_y_pred_test+rn1_y_pred_test+xgb_y_pred_test)/3.0"
      ],
      "metadata": {
        "id": "ukPwpHBkV0B2"
      },
      "execution_count": 115,
      "outputs": []
    },
    {
      "cell_type": "code",
      "source": [
        "from sklearn.metrics import r2_score\n",
        "\n",
        "print(\"r2 score of train: \",r2_score(y_train, y_pred_train))\n",
        "print(\"r2 score of validation: \",r2_score(y_val, y_pred_val))\n",
        "print(\"r2 score of test : \",r2_score(y_test, y_pred_test),'\\n')\n",
        "\n",
        "\n",
        "print(\"Complete R2 score : \",(r2_score(y_train, y_pred_train)+r2_score(y_val, y_pred_val)+r2_score(y_test, y_pred_test))/3.0)"
      ],
      "metadata": {
        "colab": {
          "base_uri": "https://localhost:8080/"
        },
        "id": "LPmCNYUeWxOr",
        "outputId": "6041080f-9109-4d6f-abc2-e6383e6dce9f"
      },
      "execution_count": 131,
      "outputs": [
        {
          "output_type": "stream",
          "name": "stdout",
          "text": [
            "r2 score of train:  0.7662521094744756\n",
            "r2 score of validation:  0.618193868568355\n",
            "r2 score of test :  0.8884401235466044 \n",
            "\n",
            "Complete R2 score :  0.7576287005298118\n"
          ]
        }
      ]
    },
    {
      "cell_type": "markdown",
      "source": [
        "# Overall $ R^2 $ values of Train,test,validation datatest Using Stacking Methos:-"
      ],
      "metadata": {
        "id": "yC3VCpxYXf53"
      }
    },
    {
      "cell_type": "code",
      "source": [
        "pip install vecstack"
      ],
      "metadata": {
        "colab": {
          "base_uri": "https://localhost:8080/"
        },
        "id": "jbS9WIC_XrVx",
        "outputId": "3f8714ab-0185-4049-f3e0-d9d1e4c6a7e1"
      },
      "execution_count": 117,
      "outputs": [
        {
          "output_type": "stream",
          "name": "stdout",
          "text": [
            "Looking in indexes: https://pypi.org/simple, https://us-python.pkg.dev/colab-wheels/public/simple/\n",
            "Collecting vecstack\n",
            "  Downloading vecstack-0.4.0.tar.gz (18 kB)\n",
            "Requirement already satisfied: numpy in /usr/local/lib/python3.7/dist-packages (from vecstack) (1.21.6)\n",
            "Requirement already satisfied: scipy in /usr/local/lib/python3.7/dist-packages (from vecstack) (1.4.1)\n",
            "Requirement already satisfied: scikit-learn>=0.18 in /usr/local/lib/python3.7/dist-packages (from vecstack) (1.0.2)\n",
            "Requirement already satisfied: joblib>=0.11 in /usr/local/lib/python3.7/dist-packages (from scikit-learn>=0.18->vecstack) (1.1.0)\n",
            "Requirement already satisfied: threadpoolctl>=2.0.0 in /usr/local/lib/python3.7/dist-packages (from scikit-learn>=0.18->vecstack) (3.1.0)\n",
            "Building wheels for collected packages: vecstack\n",
            "  Building wheel for vecstack (setup.py) ... \u001b[?25l\u001b[?25hdone\n",
            "  Created wheel for vecstack: filename=vecstack-0.4.0-py3-none-any.whl size=19877 sha256=ab270ebd220bab37462017db21944dbc4f8e2a56184d28578785ef4095329fa7\n",
            "  Stored in directory: /root/.cache/pip/wheels/28/fe/0c/fe8e43660e3316d7ce204e59a79a72246c0ae9b6c5c79841c8\n",
            "Successfully built vecstack\n",
            "Installing collected packages: vecstack\n",
            "Successfully installed vecstack-0.4.0\n"
          ]
        }
      ]
    },
    {
      "cell_type": "code",
      "source": [
        "from sklearn.ensemble import RandomForestRegressor, StackingRegressor\n",
        "\n",
        "base_models = [\n",
        "    ('Random Forest',RandomForestRegressor()),\n",
        "    ('GradientBoostingRegressor', ensemble.GradientBoostingRegressor(**params))\n",
        "    ]\n",
        "stacked = StackingRegressor(\n",
        "    estimators = base_models,\n",
        "    final_estimator = LinearRegression(),\n",
        "    cv = 5)"
      ],
      "metadata": {
        "id": "u7LqqDSQZt1Q"
      },
      "execution_count": 128,
      "outputs": []
    },
    {
      "cell_type": "code",
      "source": [
        "import time\n",
        "\n",
        "for name, model in base_models:\n",
        "    start_time = time.time()\n",
        "    model.fit(X_train, y_train)\n",
        "    prediction = model.predict(X_test)\n",
        "    end_time = time.time()\n",
        "    \n",
        "    r2 = model.score(X_test, y_test)\n",
        "    rmse = r2_score(y_test, prediction)\n",
        "    \n",
        "    print(\"-------{}-------\".format(name))\n",
        "    print(\"Coefficient of determination: {}\".format(r2))\n",
        "    print(\"Root Mean Squared Error: {}\".format(rmse))\n",
        "    print(\"Computation Time: {}\".format(end_time - start_time))\n",
        "    print(\"----------------------------------\\n\")\n",
        "start_time = time.time()\n",
        "stacked.fit(X_train, y_train)    \n",
        "stacked_prediction = stacked.predict(X_test)\n",
        "end_time = time.time()\n",
        "stacked_r2 = stacked.score(X_test, y_test)\n",
        "stacked_rmse =r2_score(y_test, stacked_prediction)\n",
        "print(\"-------Stacked Ensemble-------\")\n",
        "print(\"Coefficient of determination: {}\".format(stacked_r2))\n",
        "print(\"Root Mean Squared Error: {}\".format(stacked_rmse))\n",
        "print(\"Computation Time: {}\".format(end_time - start_time))\n",
        "print(\"----------------------------------\")\n"
      ],
      "metadata": {
        "colab": {
          "base_uri": "https://localhost:8080/"
        },
        "id": "IbElsEXiZ3-t",
        "outputId": "c9b60d9c-9e8b-40b0-f198-2e8c490b0ca5"
      },
      "execution_count": 129,
      "outputs": [
        {
          "output_type": "stream",
          "name": "stdout",
          "text": [
            "-------Random Forest-------\n",
            "Coefficient of determination: 0.8718147452285102\n",
            "Root Mean Squared Error: 0.8718147452285102\n",
            "Computation Time: 0.32764434814453125\n",
            "----------------------------------\n",
            "\n",
            "-------GradientBoostingRegressor-------\n",
            "Coefficient of determination: 0.8675750412976426\n",
            "Root Mean Squared Error: 0.8675750412976426\n",
            "Computation Time: 6.013569116592407\n",
            "----------------------------------\n",
            "\n",
            "-------Stacked Ensemble-------\n",
            "Coefficient of determination: 0.09190100647438548\n",
            "Root Mean Squared Error: 0.09190100647438548\n",
            "Computation Time: 19.34349298477173\n",
            "----------------------------------\n"
          ]
        }
      ]
    },
    {
      "cell_type": "markdown",
      "metadata": {
        "id": "dILeT3WGI10w"
      },
      "source": [
        "# Important Features"
      ]
    },
    {
      "cell_type": "markdown",
      "metadata": {
        "id": "16KNu-f5JMsc"
      },
      "source": [
        "## Gradient Boosting"
      ]
    },
    {
      "cell_type": "code",
      "execution_count": 94,
      "metadata": {
        "colab": {
          "base_uri": "https://localhost:8080/",
          "height": 304
        },
        "id": "ITTFtAZqIPem",
        "outputId": "4dbd4d28-43bc-4cf9-b611-1c31a8cd3f8c"
      },
      "outputs": [
        {
          "output_type": "display_data",
          "data": {
            "text/plain": [
              "<Figure size 432x288 with 1 Axes>"
            ],
            "image/png": "[encoded data removed]"
          },
          "metadata": {
            "needs_background": "light"
          }
        },
        {
          "output_type": "display_data",
          "data": {
            "text/plain": [
              "<Figure size 576x360 with 0 Axes>"
            ]
          },
          "metadata": {}
        }
      ],
      "source": [
        "feat_imp = pd.Series(reg.feature_importances_,X_new.columns).sort_values(ascending=False)\n",
        "feat_imp.plot(kind='bar', title='Feature Importances')\n",
        "plt.ylabel('Feature Importance Score')\n",
        "plt.figure (figsize=(8,5))\n",
        "plt.show()"
      ]
    },
    {
      "cell_type": "markdown",
      "metadata": {
        "id": "8n--Y6QZJP1o"
      },
      "source": [
        "## Random Forest"
      ]
    },
    {
      "cell_type": "code",
      "execution_count": 95,
      "metadata": {
        "colab": {
          "base_uri": "https://localhost:8080/",
          "height": 379
        },
        "id": "ffgW3sc4Iqag",
        "outputId": "d61106ef-7b9b-4f7d-a8c8-affa498365d3"
      },
      "outputs": [
        {
          "output_type": "display_data",
          "data": {
            "text/plain": [
              "<Figure size 432x432 with 1 Axes>"
            ],
            "image/png": "[encoded data removed]"
          },
          "metadata": {
            "needs_background": "light"
          }
        }
      ],
      "source": [
        "importance =grid.best_estimator_.feature_importances_\n",
        "x=dict()\n",
        "for i,v in enumerate(importance):\n",
        "  #print('Feature : {0}  , Score{1} '.format(X_train.columns[i],round(v,2)))\n",
        "  x[X_train.columns[i]]=round(v,2)\n",
        "#print(x)\n",
        "x=pd.DataFrame.from_dict(x,orient='index')\n",
        "x.sort_values(0,ascending=False,inplace=True)\n",
        "plt.figure (figsize=(6,6))\n",
        "sns.barplot(x=x.index,y=0,data=x)\n",
        "plt.xticks(rotation=90);"
      ]
    },
    {
      "cell_type": "markdown",
      "metadata": {
        "id": "9oiSy_fYINKW"
      },
      "source": [
        "# Plotting"
      ]
    },
    {
      "cell_type": "code",
      "execution_count": 96,
      "metadata": {
        "colab": {
          "base_uri": "https://localhost:8080/",
          "height": 284
        },
        "id": "MjHYUh_rIwFK",
        "outputId": "135328b8-1fa4-4ce3-8e29-7f6bea41de07"
      },
      "outputs": [
        {
          "output_type": "execute_result",
          "data": {
            "text/plain": [
              "<Figure size 10800x10800 with 0 Axes>"
            ]
          },
          "metadata": {},
          "execution_count": 96
        },
        {
          "output_type": "display_data",
          "data": {
            "text/plain": [
              "<Figure size 432x288 with 1 Axes>"
            ],
            "image/png": "[encoded data removed]"
          },
          "metadata": {
            "needs_background": "light"
          }
        },
        {
          "output_type": "display_data",
          "data": {
            "text/plain": [
              "<Figure size 10800x10800 with 0 Axes>"
            ]
          },
          "metadata": {}
        }
      ],
      "source": [
        "from sklearn import tree\n",
        "\n",
        "tree.plot_tree(grid.best_estimator_.estimators_[0],filled=True);\n",
        "plt.figure(figsize=(150,150))"
      ]
    },
    {
      "cell_type": "code",
      "execution_count": 97,
      "metadata": {
        "colab": {
          "base_uri": "https://localhost:8080/"
        },
        "id": "J3F_ysFPUFny",
        "outputId": "88460356-b0ee-4ac4-dfaf-6c6bbdd08291"
      },
      "outputs": [
        {
          "output_type": "execute_result",
          "data": {
            "text/plain": [
              "(312, 17)"
            ]
          },
          "metadata": {},
          "execution_count": 97
        }
      ],
      "source": [
        "X_new.shape"
      ]
    },
    {
      "cell_type": "code",
      "execution_count": 98,
      "metadata": {
        "colab": {
          "base_uri": "https://localhost:8080/"
        },
        "id": "l9lIRrwhRpx7",
        "outputId": "b8664763-fffa-4066-e34b-36b639d9d414"
      },
      "outputs": [
        {
          "output_type": "stream",
          "name": "stderr",
          "text": [
            "/usr/local/lib/python3.7/dist-packages/sklearn/base.py:451: UserWarning: X does not have valid feature names, but RandomForestRegressor was fitted with feature names\n",
            "  \"X does not have valid feature names, but\"\n"
          ]
        }
      ],
      "source": [
        "x_pred = np.linspace(0, 1,312*17)            # 200 data points between 0 ~ 40\n",
        "x_pred = x_pred.reshape(-1,17) # preprocessing required by scikit-learn functions\n",
        "\n",
        "y_pred = grid.predict(x_pred)"
      ]
    },
    {
      "cell_type": "code",
      "execution_count": 99,
      "metadata": {
        "colab": {
          "base_uri": "https://localhost:8080/",
          "height": 357
        },
        "id": "ztCTyG6DT2Uu",
        "outputId": "70ea0044-0cd3-4a71-e612-7f3e79a8ed0b"
      },
      "outputs": [
        {
          "output_type": "display_data",
          "data": {
            "text/plain": [
              "<Figure size 700x350 with 1 Axes>"
            ],
            "image/png": "[encoded data removed]"
          },
          "metadata": {}
        }
      ],
      "source": [
        "import matplotlib.pyplot as plt\n",
        "\n",
        "plt.style.use('default')\n",
        "plt.style.use('ggplot')\n",
        "\n",
        "fig, ax = plt.subplots(figsize=(7, 3.5))\n",
        "\n",
        "ax.plot(x_pred, y_pred, color='r')\n",
        "ax.scatter(X_train[\"Nb\"], y_train, edgecolor='k', facecolor='grey', alpha=0.7, label='Sample data')\n",
        "ax.set_ylabel('%wt H', fontsize=14)\n",
        "ax.set_xlabel('Nb', fontsize=14)\n",
        "ax.legend(facecolor='white', fontsize=11)\n",
        "#ax.text(0.55, 0.15, '$y = %.2f x_1 - %.2f $' % (model.coef_[0], abs(model.intercept_)), fontsize=17, transform=ax.transAxes)\n",
        "\n",
        "fig.tight_layout()"
      ]
    },
    {
      "cell_type": "code",
      "execution_count": 100,
      "metadata": {
        "id": "MubsxOPmX69i"
      },
      "outputs": [],
      "source": [
        "import matplotlib.colors\n",
        "my_cmap = matplotlib.colors.LinearSegmentedColormap.from_list(\"\", [\"yellow\",\"green\",\"blue\",\"Grey\"])"
      ]
    },
    {
      "cell_type": "code",
      "execution_count": 101,
      "metadata": {
        "colab": {
          "base_uri": "https://localhost:8080/",
          "height": 406
        },
        "id": "46-UG5JFT-k8",
        "outputId": "0faa32ac-96b5-4a37-d859-b7592e8ba858"
      },
      "outputs": [
        {
          "output_type": "display_data",
          "data": {
            "text/plain": [
              "<Figure size 640x480 with 1 Axes>"
            ],
            "image/png": "[encoded data removed]"
          },
          "metadata": {}
        }
      ],
      "source": [
        "ax = plt.axes(projection='3d')\n",
        "ax.scatter(X_train[\"Nb\"],X_train[\"Pd\"],X_train[\"Fe\"],c=grid.predict(X_train),cmap='plasma');\n",
        "# ax.view_init(60,10)"
      ]
    }
  ],
  "metadata": {
    "colab": {
      "collapsed_sections": [],
      "name": "BCC.ipynb",
      "provenance": [],
      "toc_visible": true,
      "authorship_tag": "ABX9TyPQw/DTNU9Q0G0pv/Mbx20N",
      "include_colab_link": true
    },
    "kernelspec": {
      "display_name": "Python 3",
      "name": "python3"
    },
    "language_info": {
      "name": "python"
    }
  },
  "nbformat": 4,
  "nbformat_minor": 0
}